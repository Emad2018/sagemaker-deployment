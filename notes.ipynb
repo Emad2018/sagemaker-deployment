{
 "cells": [
  {
   "cell_type": "code",
   "execution_count": null,
   "id": "e0fc2792",
   "metadata": {},
   "outputs": [],
   "source": [
    "# Make sure that we use SageMaker 1.x\n",
    "!pip install sagemaker==1.72.0"
   ]
  },
  {
   "cell_type": "markdown",
   "id": "56a58d03",
   "metadata": {},
   "source": [
    "## Load XGboost model"
   ]
  },
  {
   "cell_type": "code",
   "execution_count": null,
   "id": "871baeed",
   "metadata": {},
   "outputs": [],
   "source": [
    "import sagemaker\n",
    "from sagemaker import get_execution_role\n",
    "\n",
    "# Our current execution role is required when creating the model as the training\n",
    "# and inference code will need to access the model artifacts.\n",
    "role = get_execution_role()\n",
    "\n",
    "data=\"s3://sagemaker-us-east-1-534407698314/sentiment-web-app/output/xgboost-2021-04-10-12-54-22-206/output/model.tar.gz\"\n",
    "container = \"811284229777.dkr.ecr.us-east-1.amazonaws.com/xgboost:1\"\n",
    "model = sagemaker.model.Model(\n",
    "    image=container,\n",
    "    model_data=data,\n",
    "    role=role)\n",
    "\n",
    "model_predictor=model.deploy(\n",
    "   initial_instance_count=1,\n",
    "   instance_type='ml.p2.xlarge'\n",
    ")"
   ]
  },
  {
   "cell_type": "markdown",
   "id": "3d30e47a",
   "metadata": {},
   "source": [
    "## Create predictor from Endpoint "
   ]
  },
  {
   "cell_type": "code",
   "execution_count": null,
   "id": "67929faf",
   "metadata": {},
   "outputs": [],
   "source": [
    "import sagemaker\n",
    "sagemaker_session = sagemaker.Session()\n",
    "predictor=sagemaker.pytorch.model.PyTorchPredictor(endpoint_name=\"sagemaker-pytorch-2022-01-24-15-26-07-529\", sagemaker_session=sagemaker_session)\n",
    "np.round(predictor.predict(test_data.values))"
   ]
  }
 ],
 "metadata": {
  "kernelspec": {
   "display_name": "conda_pytorch_latest_p36",
   "language": "python",
   "name": "conda_pytorch_latest_p36"
  },
  "language_info": {
   "codemirror_mode": {
    "name": "ipython",
    "version": 3
   },
   "file_extension": ".py",
   "mimetype": "text/x-python",
   "name": "python",
   "nbconvert_exporter": "python",
   "pygments_lexer": "ipython3",
   "version": "3.6.13"
  }
 },
 "nbformat": 4,
 "nbformat_minor": 5
}

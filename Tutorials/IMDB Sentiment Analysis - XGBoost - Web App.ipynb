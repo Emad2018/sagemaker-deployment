{
 "cells": [
  {
   "cell_type": "markdown",
   "metadata": {},
   "source": [
    "# Sentiment Analysis Web App\n",
    "\n",
    "_Deep Learning Nanodegree Program | Deployment_\n",
    "\n",
    "---\n",
    "\n",
    "In this notebook we will use Amazon's SageMaker service to construct a random tree model to predict the sentiment of a movie review. In addition, we will deploy this model to an endpoint and construct a very simple web app which will interact with our model's deployed endpoint.\n",
    "\n",
    "## General Outline\n",
    "\n",
    "Typically, when using a notebook instance with SageMaker, you will proceed through the following steps. Of course, not every step will need to be done with each project. Also, there is quite a lot of room for variation in many of the steps, as you will see throughout these lessons.\n",
    "\n",
    "1. Download or otherwise retrieve the data.\n",
    "2. Process / Prepare the data.\n",
    "3. Upload the processed data to S3.\n",
    "4. Train a chosen model.\n",
    "5. Test the trained model (typically using a batch transform job).\n",
    "6. Deploy the trained model.\n",
    "7. Use the deployed model.\n",
    "\n",
    "In this notebook we will progress through each of the steps above. We will also see that the final step, using the deployed model, can be quite challenging."
   ]
  },
  {
   "cell_type": "code",
   "execution_count": 1,
   "metadata": {},
   "outputs": [
    {
     "name": "stdout",
     "output_type": "stream",
     "text": [
      "Requirement already satisfied: sagemaker==1.72.0 in /home/ec2-user/anaconda3/envs/python3/lib/python3.6/site-packages (1.72.0)\n",
      "Requirement already satisfied: boto3>=1.14.12 in /home/ec2-user/anaconda3/envs/python3/lib/python3.6/site-packages (from sagemaker==1.72.0) (1.17.33)\n",
      "Requirement already satisfied: smdebug-rulesconfig==0.1.4 in /home/ec2-user/anaconda3/envs/python3/lib/python3.6/site-packages (from sagemaker==1.72.0) (0.1.4)\n",
      "Requirement already satisfied: packaging>=20.0 in /home/ec2-user/anaconda3/envs/python3/lib/python3.6/site-packages (from sagemaker==1.72.0) (20.9)\n",
      "Requirement already satisfied: protobuf>=3.1 in /home/ec2-user/anaconda3/envs/python3/lib/python3.6/site-packages (from sagemaker==1.72.0) (3.15.2)\n",
      "Requirement already satisfied: numpy>=1.9.0 in /home/ec2-user/anaconda3/envs/python3/lib/python3.6/site-packages (from sagemaker==1.72.0) (1.19.5)\n",
      "Requirement already satisfied: importlib-metadata>=1.4.0 in /home/ec2-user/anaconda3/envs/python3/lib/python3.6/site-packages (from sagemaker==1.72.0) (3.7.0)\n",
      "Requirement already satisfied: protobuf3-to-dict>=0.1.5 in /home/ec2-user/anaconda3/envs/python3/lib/python3.6/site-packages (from sagemaker==1.72.0) (0.1.5)\n",
      "Requirement already satisfied: scipy>=0.19.0 in /home/ec2-user/anaconda3/envs/python3/lib/python3.6/site-packages (from sagemaker==1.72.0) (1.5.3)\n",
      "Requirement already satisfied: jmespath<1.0.0,>=0.7.1 in /home/ec2-user/anaconda3/envs/python3/lib/python3.6/site-packages (from boto3>=1.14.12->sagemaker==1.72.0) (0.10.0)\n",
      "Requirement already satisfied: s3transfer<0.4.0,>=0.3.0 in /home/ec2-user/anaconda3/envs/python3/lib/python3.6/site-packages (from boto3>=1.14.12->sagemaker==1.72.0) (0.3.4)\n",
      "Requirement already satisfied: botocore<1.21.0,>=1.20.33 in /home/ec2-user/anaconda3/envs/python3/lib/python3.6/site-packages (from boto3>=1.14.12->sagemaker==1.72.0) (1.20.33)\n",
      "Requirement already satisfied: urllib3<1.27,>=1.25.4 in /home/ec2-user/anaconda3/envs/python3/lib/python3.6/site-packages (from botocore<1.21.0,>=1.20.33->boto3>=1.14.12->sagemaker==1.72.0) (1.26.3)\n",
      "Requirement already satisfied: python-dateutil<3.0.0,>=2.1 in /home/ec2-user/anaconda3/envs/python3/lib/python3.6/site-packages (from botocore<1.21.0,>=1.20.33->boto3>=1.14.12->sagemaker==1.72.0) (2.8.1)\n",
      "Requirement already satisfied: zipp>=0.5 in /home/ec2-user/anaconda3/envs/python3/lib/python3.6/site-packages (from importlib-metadata>=1.4.0->sagemaker==1.72.0) (3.4.0)\n",
      "Requirement already satisfied: typing-extensions>=3.6.4 in /home/ec2-user/anaconda3/envs/python3/lib/python3.6/site-packages (from importlib-metadata>=1.4.0->sagemaker==1.72.0) (3.7.4.3)\n",
      "Requirement already satisfied: pyparsing>=2.0.2 in /home/ec2-user/anaconda3/envs/python3/lib/python3.6/site-packages (from packaging>=20.0->sagemaker==1.72.0) (2.4.7)\n",
      "Requirement already satisfied: six>=1.9 in /home/ec2-user/anaconda3/envs/python3/lib/python3.6/site-packages (from protobuf>=3.1->sagemaker==1.72.0) (1.15.0)\n"
     ]
    }
   ],
   "source": [
    "# Make sure that we use SageMaker 1.x\n",
    "!pip install sagemaker==1.72.0"
   ]
  },
  {
   "cell_type": "markdown",
   "metadata": {},
   "source": [
    "## Step 1: Downloading the data\n",
    "\n",
    "The dataset we are going to use is very popular among researchers in Natural Language Processing, usually referred to as the [IMDb dataset](http://ai.stanford.edu/~amaas/data/sentiment/). It consists of movie reviews from the website [imdb.com](http://www.imdb.com/), each labeled as either '**pos**itive', if the reviewer enjoyed the film, or '**neg**ative' otherwise.\n",
    "\n",
    "> Maas, Andrew L., et al. [Learning Word Vectors for Sentiment Analysis](http://ai.stanford.edu/~amaas/data/sentiment/). In _Proceedings of the 49th Annual Meeting of the Association for Computational Linguistics: Human Language Technologies_. Association for Computational Linguistics, 2011.\n",
    "\n",
    "We begin by using some Jupyter Notebook magic to download and extract the dataset."
   ]
  },
  {
   "cell_type": "code",
   "execution_count": 2,
   "metadata": {},
   "outputs": [
    {
     "name": "stdout",
     "output_type": "stream",
     "text": [
      "mkdir: cannot create directory ‘../data’: File exists\n",
      "--2021-03-26 04:25:49--  http://ai.stanford.edu/~amaas/data/sentiment/aclImdb_v1.tar.gz\n",
      "Resolving ai.stanford.edu (ai.stanford.edu)... 171.64.68.10\n",
      "Connecting to ai.stanford.edu (ai.stanford.edu)|171.64.68.10|:80... connected.\n",
      "HTTP request sent, awaiting response... 200 OK\n",
      "Length: 84125825 (80M) [application/x-gzip]\n",
      "Saving to: ‘../data/aclImdb_v1.tar.gz’\n",
      "\n",
      "../data/aclImdb_v1. 100%[===================>]  80.23M  21.2MB/s    in 6.2s    \n",
      "\n",
      "2021-03-26 04:25:55 (13.0 MB/s) - ‘../data/aclImdb_v1.tar.gz’ saved [84125825/84125825]\n",
      "\n"
     ]
    }
   ],
   "source": [
    "%mkdir ../data\n",
    "!wget -O ../data/aclImdb_v1.tar.gz http://ai.stanford.edu/~amaas/data/sentiment/aclImdb_v1.tar.gz\n",
    "!tar -zxf ../data/aclImdb_v1.tar.gz -C ../data"
   ]
  },
  {
   "cell_type": "markdown",
   "metadata": {},
   "source": [
    "## Step 2: Preparing and Processing the data\n",
    "\n",
    "The data we have downloaded is split into various files, each of which contains a single review. It will be much easier going forward if we combine these individual files into two large files, one for training and one for testing."
   ]
  },
  {
   "cell_type": "code",
   "execution_count": 3,
   "metadata": {},
   "outputs": [],
   "source": [
    "import os\n",
    "import glob\n",
    "\n",
    "def read_imdb_data(data_dir='../data/aclImdb'):\n",
    "    data = {}\n",
    "    labels = {}\n",
    "    \n",
    "    for data_type in ['train', 'test']:\n",
    "        data[data_type] = {}\n",
    "        labels[data_type] = {}\n",
    "        \n",
    "        for sentiment in ['pos', 'neg']:\n",
    "            data[data_type][sentiment] = []\n",
    "            labels[data_type][sentiment] = []\n",
    "            \n",
    "            path = os.path.join(data_dir, data_type, sentiment, '*.txt')\n",
    "            files = glob.glob(path)\n",
    "            \n",
    "            for f in files:\n",
    "                with open(f) as review:\n",
    "                    data[data_type][sentiment].append(review.read())\n",
    "                    # Here we represent a positive review by '1' and a negative review by '0'\n",
    "                    labels[data_type][sentiment].append(1 if sentiment == 'pos' else 0)\n",
    "                    \n",
    "            assert len(data[data_type][sentiment]) == len(labels[data_type][sentiment]), \\\n",
    "                    \"{}/{} data size does not match labels size\".format(data_type, sentiment)\n",
    "                \n",
    "    return data, labels"
   ]
  },
  {
   "cell_type": "code",
   "execution_count": 4,
   "metadata": {},
   "outputs": [
    {
     "name": "stdout",
     "output_type": "stream",
     "text": [
      "IMDB reviews: train = 12500 pos / 12500 neg, test = 12500 pos / 12500 neg\n"
     ]
    }
   ],
   "source": [
    "data, labels = read_imdb_data()\n",
    "print(\"IMDB reviews: train = {} pos / {} neg, test = {} pos / {} neg\".format(\n",
    "            len(data['train']['pos']), len(data['train']['neg']),\n",
    "            len(data['test']['pos']), len(data['test']['neg'])))"
   ]
  },
  {
   "cell_type": "code",
   "execution_count": 5,
   "metadata": {},
   "outputs": [],
   "source": [
    "from sklearn.utils import shuffle\n",
    "\n",
    "def prepare_imdb_data(data, labels):\n",
    "    \"\"\"Prepare training and test sets from IMDb movie reviews.\"\"\"\n",
    "    \n",
    "    #Combine positive and negative reviews and labels\n",
    "    data_train = data['train']['pos'] + data['train']['neg']\n",
    "    data_test = data['test']['pos'] + data['test']['neg']\n",
    "    labels_train = labels['train']['pos'] + labels['train']['neg']\n",
    "    labels_test = labels['test']['pos'] + labels['test']['neg']\n",
    "    \n",
    "    #Shuffle reviews and corresponding labels within training and test sets\n",
    "    data_train, labels_train = shuffle(data_train, labels_train)\n",
    "    data_test, labels_test = shuffle(data_test, labels_test)\n",
    "    \n",
    "    # Return a unified training data, test data, training labels, test labets\n",
    "    return data_train, data_test, labels_train, labels_test"
   ]
  },
  {
   "cell_type": "code",
   "execution_count": 6,
   "metadata": {},
   "outputs": [
    {
     "name": "stdout",
     "output_type": "stream",
     "text": [
      "IMDb reviews (combined): train = 25000, test = 25000\n"
     ]
    }
   ],
   "source": [
    "train_X, test_X, train_y, test_y = prepare_imdb_data(data, labels)\n",
    "print(\"IMDb reviews (combined): train = {}, test = {}\".format(len(train_X), len(test_X)))"
   ]
  },
  {
   "cell_type": "code",
   "execution_count": 7,
   "metadata": {},
   "outputs": [
    {
     "data": {
      "text/plain": [
       "\"Scream was Wes Craven's last decent thriller. Since then there has been nothing but an unbearable streak of Hollywood trash barely good enough for a blockbuster night, including the disappointment of the Scream sequels. Perhaps the genius and the craftsmanship devoted to the movie drained all the energy and creativity out of him, so that when it came time for supper, he had nothing to serve us but his own doo doo. Finally, after who knows how many bad movies later, he gives us a delicious, ruthless, gripping, chilling suspense thriller with Red Eye.<br /><br />Rachel McAdams once again delivers an enjoyable performance as she plays a hotel manager who has the unfortunate connection with an important political figure and regular at her hotel. Then she meets Jackson Ripner (Cillian Murphy, Batman Beyond) at the airport, who she gets to know a little better after a delayed flight and a bay breeze. What she doesn't know is he already knows her. And he also knows her father, who she will never see again if she fails to cooperate and meet Jackson's demands- to use her connections to set up her hotel regular for assassination.<br /><br />You're probably thinking this is nothing but your everyday thriller complete with predictability and chase scenes. Although this is a good old fashioned thriller, that's the beauty of it. No special effects. No cheap make up. Just classic suspense. You feel the desperation and regret with every decision McAdams is forced to make and you actually care for her as you cheer her on every move she makes to find an escape from her claustrophobic position.<br /><br />As always she delivers an entertaining and convincing performance. It's either her sweet face or her uncanny ability to sincerely cry, but you always seem to sympathize with her if her role demands it. Cillian Murphy on the other hand is naturally creepy looking, so even if the trailer didn't reveal it, his ultimate transition from charming stranger to merciless jackass isn't so surprising. Perhaps it would have been more trippy to see a nice guy persona like Toby Maguire transforming into evil relentless madman. Nevertheless, Cillian Murphy, after his true identity is established, played the role so solidly you'd really want him to die, or at least get his ass kicked.<br /><br />Don't overlook this feature. There are plenty of chalkboard screeching moments and heart jumpers that will keep your eyes on the screen instead of your watch like you would at Craven's recent pictures. If not for the you, do it for all the times you'll see your girlfriend, or boyfriend, or someone with popcorn jump and cling on to you. Wes finally gets it right. Aside from his trademark mastery in suspense, Red Eye is not without its humor as McAdams' replacement Cynthia at the front desk fumbles to keep the hotel in order. It was a relief that Red Eye wasn't a disappointment. Instead you'll get the pleasure of seeing McAdams deliver another incredibly talented performance, Murphy look creepier by the minute, and Craven craft a classic traditional thriller. A flight that was delayed and would have been the beginning of Craven's renaissance had it arrived right after Scream.\""
      ]
     },
     "execution_count": 7,
     "metadata": {},
     "output_type": "execute_result"
    }
   ],
   "source": [
    "train_X[100]"
   ]
  },
  {
   "cell_type": "markdown",
   "metadata": {},
   "source": [
    "## Processing the data\n",
    "\n",
    "Now that we have our training and testing datasets merged and ready to use, we need to start processing the raw data into something that will be useable by our machine learning algorithm. To begin with, we remove any html formatting and any non-alpha numeric characters that may appear in the reviews. We will do this in a very simplistic way using Python's regular expression module. We will discuss the reason for this rather simplistic pre-processing later on."
   ]
  },
  {
   "cell_type": "code",
   "execution_count": 8,
   "metadata": {},
   "outputs": [],
   "source": [
    "import re\n",
    "\n",
    "REPLACE_NO_SPACE = re.compile(\"(\\.)|(\\;)|(\\:)|(\\!)|(\\')|(\\?)|(\\,)|(\\\")|(\\()|(\\))|(\\[)|(\\])\")\n",
    "REPLACE_WITH_SPACE = re.compile(\"(<br\\s*/><br\\s*/>)|(\\-)|(\\/)\")\n",
    "\n",
    "def review_to_words(review):\n",
    "    words = REPLACE_NO_SPACE.sub(\"\", review.lower())\n",
    "    words = REPLACE_WITH_SPACE.sub(\" \", words)\n",
    "    return words"
   ]
  },
  {
   "cell_type": "code",
   "execution_count": 9,
   "metadata": {},
   "outputs": [
    {
     "data": {
      "text/plain": [
       "'scream was wes cravens last decent thriller since then there has been nothing but an unbearable streak of hollywood trash barely good enough for a blockbuster night including the disappointment of the scream sequels perhaps the genius and the craftsmanship devoted to the movie drained all the energy and creativity out of him so that when it came time for supper he had nothing to serve us but his own doo doo finally after who knows how many bad movies later he gives us a delicious ruthless gripping chilling suspense thriller with red eye rachel mcadams once again delivers an enjoyable performance as she plays a hotel manager who has the unfortunate connection with an important political figure and regular at her hotel then she meets jackson ripner cillian murphy batman beyond at the airport who she gets to know a little better after a delayed flight and a bay breeze what she doesnt know is he already knows her and he also knows her father who she will never see again if she fails to cooperate and meet jacksons demands  to use her connections to set up her hotel regular for assassination youre probably thinking this is nothing but your everyday thriller complete with predictability and chase scenes although this is a good old fashioned thriller thats the beauty of it no special effects no cheap make up just classic suspense you feel the desperation and regret with every decision mcadams is forced to make and you actually care for her as you cheer her on every move she makes to find an escape from her claustrophobic position as always she delivers an entertaining and convincing performance its either her sweet face or her uncanny ability to sincerely cry but you always seem to sympathize with her if her role demands it cillian murphy on the other hand is naturally creepy looking so even if the trailer didnt reveal it his ultimate transition from charming stranger to merciless jackass isnt so surprising perhaps it would have been more trippy to see a nice guy persona like toby maguire transforming into evil relentless madman nevertheless cillian murphy after his true identity is established played the role so solidly youd really want him to die or at least get his ass kicked dont overlook this feature there are plenty of chalkboard screeching moments and heart jumpers that will keep your eyes on the screen instead of your watch like you would at cravens recent pictures if not for the you do it for all the times youll see your girlfriend or boyfriend or someone with popcorn jump and cling on to you wes finally gets it right aside from his trademark mastery in suspense red eye is not without its humor as mcadams replacement cynthia at the front desk fumbles to keep the hotel in order it was a relief that red eye wasnt a disappointment instead youll get the pleasure of seeing mcadams deliver another incredibly talented performance murphy look creepier by the minute and craven craft a classic traditional thriller a flight that was delayed and would have been the beginning of cravens renaissance had it arrived right after scream'"
      ]
     },
     "execution_count": 9,
     "metadata": {},
     "output_type": "execute_result"
    }
   ],
   "source": [
    "review_to_words(train_X[100])"
   ]
  },
  {
   "cell_type": "code",
   "execution_count": 10,
   "metadata": {},
   "outputs": [],
   "source": [
    "import pickle\n",
    "\n",
    "cache_dir = os.path.join(\"../cache\", \"sentiment_web_app\")  # where to store cache files\n",
    "os.makedirs(cache_dir, exist_ok=True)  # ensure cache directory exists\n",
    "\n",
    "def preprocess_data(data_train, data_test, labels_train, labels_test,\n",
    "                    cache_dir=cache_dir, cache_file=\"preprocessed_data.pkl\"):\n",
    "    \"\"\"Convert each review to words; read from cache if available.\"\"\"\n",
    "\n",
    "    # If cache_file is not None, try to read from it first\n",
    "    cache_data = None\n",
    "    if cache_file is not None:\n",
    "        try:\n",
    "            with open(os.path.join(cache_dir, cache_file), \"rb\") as f:\n",
    "                cache_data = pickle.load(f)\n",
    "            print(\"Read preprocessed data from cache file:\", cache_file)\n",
    "        except:\n",
    "            pass  # unable to read from cache, but that's okay\n",
    "    \n",
    "    # If cache is missing, then do the heavy lifting\n",
    "    if cache_data is None:\n",
    "        # Preprocess training and test data to obtain words for each review\n",
    "        #words_train = list(map(review_to_words, data_train))\n",
    "        #words_test = list(map(review_to_words, data_test))\n",
    "        words_train = [review_to_words(review) for review in data_train]\n",
    "        words_test = [review_to_words(review) for review in data_test]\n",
    "        \n",
    "        # Write to cache file for future runs\n",
    "        if cache_file is not None:\n",
    "            cache_data = dict(words_train=words_train, words_test=words_test,\n",
    "                              labels_train=labels_train, labels_test=labels_test)\n",
    "            with open(os.path.join(cache_dir, cache_file), \"wb\") as f:\n",
    "                pickle.dump(cache_data, f)\n",
    "            print(\"Wrote preprocessed data to cache file:\", cache_file)\n",
    "    else:\n",
    "        # Unpack data loaded from cache file\n",
    "        words_train, words_test, labels_train, labels_test = (cache_data['words_train'],\n",
    "                cache_data['words_test'], cache_data['labels_train'], cache_data['labels_test'])\n",
    "    \n",
    "    return words_train, words_test, labels_train, labels_test"
   ]
  },
  {
   "cell_type": "code",
   "execution_count": 11,
   "metadata": {},
   "outputs": [
    {
     "name": "stdout",
     "output_type": "stream",
     "text": [
      "Read preprocessed data from cache file: preprocessed_data.pkl\n"
     ]
    }
   ],
   "source": [
    "# Preprocess data\n",
    "train_X, test_X, train_y, test_y = preprocess_data(train_X, test_X, train_y, test_y)"
   ]
  },
  {
   "cell_type": "markdown",
   "metadata": {},
   "source": [
    "### Extract Bag-of-Words features\n",
    "\n",
    "For the model we will be implementing, rather than using the reviews directly, we are going to transform each review into a Bag-of-Words feature representation. Keep in mind that 'in the wild' we will only have access to the training set so our transformer can only use the training set to construct a representation."
   ]
  },
  {
   "cell_type": "code",
   "execution_count": 12,
   "metadata": {},
   "outputs": [],
   "source": [
    "import numpy as np\n",
    "from sklearn.feature_extraction.text import CountVectorizer\n",
    "\n",
    "# sklearn.externals.joblib is deprecated in 0.21 and will be removed in 0.23. \n",
    "# from sklearn.externals import joblib\n",
    "\n",
    "# Import joblib package directly\n",
    "import joblib\n",
    "# joblib is an enhanced version of pickle that is more efficient for storing NumPy arrays\n",
    "\n",
    "def extract_BoW_features(words_train, words_test, vocabulary_size=5000,\n",
    "                         cache_dir=cache_dir, cache_file=\"bow_features.pkl\"):\n",
    "    \"\"\"Extract Bag-of-Words for a given set of documents, already preprocessed into words.\"\"\"\n",
    "    \n",
    "    # If cache_file is not None, try to read from it first\n",
    "    cache_data = None\n",
    "    if cache_file is not None:\n",
    "        try:\n",
    "            with open(os.path.join(cache_dir, cache_file), \"rb\") as f:\n",
    "                cache_data = joblib.load(f)\n",
    "            print(\"Read features from cache file:\", cache_file)\n",
    "        except:\n",
    "            pass  # unable to read from cache, but that's okay\n",
    "    \n",
    "    # If cache is missing, then do the heavy lifting\n",
    "    if cache_data is None:\n",
    "        # Fit a vectorizer to training documents and use it to transform them\n",
    "        # NOTE: Training documents have already been preprocessed and tokenized into words;\n",
    "        #       pass in dummy functions to skip those steps, e.g. preprocessor=lambda x: x\n",
    "        vectorizer = CountVectorizer(max_features=vocabulary_size)\n",
    "        features_train = vectorizer.fit_transform(words_train).toarray()\n",
    "\n",
    "        # Apply the same vectorizer to transform the test documents (ignore unknown words)\n",
    "        features_test = vectorizer.transform(words_test).toarray()\n",
    "        \n",
    "        # NOTE: Remember to convert the features using .toarray() for a compact representation\n",
    "        \n",
    "        # Write to cache file for future runs (store vocabulary as well)\n",
    "        if cache_file is not None:\n",
    "            vocabulary = vectorizer.vocabulary_\n",
    "            cache_data = dict(features_train=features_train, features_test=features_test,\n",
    "                             vocabulary=vocabulary)\n",
    "            with open(os.path.join(cache_dir, cache_file), \"wb\") as f:\n",
    "                joblib.dump(cache_data, f)\n",
    "            print(\"Wrote features to cache file:\", cache_file)\n",
    "    else:\n",
    "        # Unpack data loaded from cache file\n",
    "        features_train, features_test, vocabulary = (cache_data['features_train'],\n",
    "                cache_data['features_test'], cache_data['vocabulary'])\n",
    "    \n",
    "    # Return both the extracted features as well as the vocabulary\n",
    "    return features_train, features_test, vocabulary"
   ]
  },
  {
   "cell_type": "code",
   "execution_count": 13,
   "metadata": {},
   "outputs": [
    {
     "name": "stdout",
     "output_type": "stream",
     "text": [
      "Read features from cache file: bow_features.pkl\n"
     ]
    }
   ],
   "source": [
    "# Extract Bag of Words features for both training and test datasets\n",
    "train_X, test_X, vocabulary = extract_BoW_features(train_X, test_X)"
   ]
  },
  {
   "cell_type": "code",
   "execution_count": 14,
   "metadata": {},
   "outputs": [
    {
     "data": {
      "text/plain": [
       "5000"
      ]
     },
     "execution_count": 14,
     "metadata": {},
     "output_type": "execute_result"
    }
   ],
   "source": [
    "len(train_X[100])"
   ]
  },
  {
   "cell_type": "markdown",
   "metadata": {},
   "source": [
    "## Step 3: Upload data to S3\n",
    "\n",
    "Now that we have created the feature representation of our training (and testing) data, it is time to start setting up and using the XGBoost classifier provided by SageMaker.\n",
    "\n",
    "### Writing the datasets\n",
    "\n",
    "The XGBoost classifier that we will be using requires the dataset to be written to a file and stored using Amazon S3. To do this, we will start by splitting the training dataset into two parts, the data we will train the model with and a validation set. Then, we will write those datasets to a file locally and then upload the files to S3. In addition, we will write the test set to a file and upload that file to S3. This is so that we can use SageMakers Batch Transform functionality to test our model once we've fit it."
   ]
  },
  {
   "cell_type": "code",
   "execution_count": 15,
   "metadata": {},
   "outputs": [],
   "source": [
    "import pandas as pd\n",
    "\n",
    "# Earlier we shuffled the training dataset so to make things simple we can just assign\n",
    "# the first 10 000 reviews to the validation set and use the remaining reviews for training.\n",
    "val_X = pd.DataFrame(train_X[:10000])\n",
    "train_X = pd.DataFrame(train_X[10000:])\n",
    "\n",
    "val_y = pd.DataFrame(train_y[:10000])\n",
    "train_y = pd.DataFrame(train_y[10000:])"
   ]
  },
  {
   "cell_type": "markdown",
   "metadata": {},
   "source": [
    "The documentation for the XGBoost algorithm in SageMaker requires that the training and validation datasets should contain no headers or index and that the label should occur first for each sample.\n",
    "\n",
    "For more information about this and other algorithms, the SageMaker developer documentation can be found on __[Amazon's website.](https://docs.aws.amazon.com/sagemaker/latest/dg/)__"
   ]
  },
  {
   "cell_type": "code",
   "execution_count": 16,
   "metadata": {},
   "outputs": [],
   "source": [
    "# First we make sure that the local directory in which we'd like to store the training and validation csv files exists.\n",
    "data_dir = '../data/sentiment_web_app'\n",
    "if not os.path.exists(data_dir):\n",
    "    os.makedirs(data_dir)"
   ]
  },
  {
   "cell_type": "code",
   "execution_count": 17,
   "metadata": {},
   "outputs": [],
   "source": [
    "pd.DataFrame(test_X).to_csv(os.path.join(data_dir, 'test.csv'), header=False, index=False)\n",
    "\n",
    "pd.concat([val_y, val_X], axis=1).to_csv(os.path.join(data_dir, 'validation.csv'), header=False, index=False)\n",
    "pd.concat([train_y, train_X], axis=1).to_csv(os.path.join(data_dir, 'train.csv'), header=False, index=False)"
   ]
  },
  {
   "cell_type": "code",
   "execution_count": 18,
   "metadata": {},
   "outputs": [],
   "source": [
    "# To save a bit of memory we can set text_X, train_X, val_X, train_y and val_y to None.\n",
    "\n",
    "test_X = train_X = val_X = train_y = val_y = None"
   ]
  },
  {
   "cell_type": "markdown",
   "metadata": {},
   "source": [
    "### Uploading Training / Validation files to S3\n",
    "\n",
    "Amazon's S3 service allows us to store files that can be accessed by both the built-in training models such as the XGBoost model we will be using as well as custom models such as the one we will see a little later.\n",
    "\n",
    "For this and most other tasks we will be doing using SageMaker, there are two methods we could use. The first is to use the low level functionality of SageMaker which requires knowing each of the objects involved in the SageMaker environment. The second is to use the high level functionality in which certain choices have been made on the user's behalf. The low level approach benefits from allowing the user a great deal of flexibility while the high level approach makes development much quicker. For our purposes we will opt to use the high level approach although using the low-level approach is certainly an option.\n",
    "\n",
    "Recall the method `upload_data()` which is a member of the object representing our current SageMaker session. What this method does is upload the data to the default bucket (which is created if it does not exist) into the path described by the key_prefix variable. To see this for yourself, once you have uploaded the data files, go to the S3 console and look to see where the files have been uploaded.\n",
    "\n",
    "For additional resources, see the __[SageMaker API documentation](http://sagemaker.readthedocs.io/en/latest/)__ and in addition the __[SageMaker Developer Guide.](https://docs.aws.amazon.com/sagemaker/latest/dg/)__"
   ]
  },
  {
   "cell_type": "code",
   "execution_count": 19,
   "metadata": {},
   "outputs": [],
   "source": [
    "import sagemaker\n",
    "\n",
    "session = sagemaker.Session() # Store the current SageMaker session\n",
    "\n",
    "# S3 prefix (which folder will we use)\n",
    "prefix = 'sentiment-web-app'\n",
    "\n",
    "test_location = session.upload_data(os.path.join(data_dir, 'test.csv'), key_prefix=prefix)\n",
    "val_location = session.upload_data(os.path.join(data_dir, 'validation.csv'), key_prefix=prefix)\n",
    "train_location = session.upload_data(os.path.join(data_dir, 'train.csv'), key_prefix=prefix)"
   ]
  },
  {
   "cell_type": "markdown",
   "metadata": {},
   "source": [
    "## Step 4: Creating the XGBoost model\n",
    "\n",
    "Now that the data has been uploaded it is time to create the XGBoost model. To begin with, we need to do some setup. At this point it is worth discussing what a model is in SageMaker. It is easiest to think of a model of comprising three different objects in the SageMaker ecosystem, which interact with one another.\n",
    "\n",
    "- Model Artifacts\n",
    "- Training Code (Container)\n",
    "- Inference Code (Container)\n",
    "\n",
    "The Model Artifacts are what you might think of as the actual model itself. For example, if you were building a neural network, the model artifacts would be the weights of the various layers. In our case, for an XGBoost model, the artifacts are the actual trees that are created during training.\n",
    "\n",
    "The other two objects, the training code and the inference code are then used to manipulate the training artifacts. More precisely, the training code uses the training data that is provided and creates the model artifacts, while the inference code uses the model artifacts to make predictions on new data.\n",
    "\n",
    "The way that SageMaker runs the training and inference code is by making use of Docker containers. For now, think of a container as being a way of packaging code up so that dependencies aren't an issue."
   ]
  },
  {
   "cell_type": "code",
   "execution_count": 20,
   "metadata": {},
   "outputs": [],
   "source": [
    "from sagemaker import get_execution_role\n",
    "\n",
    "# Our current execution role is required when creating the model as the training\n",
    "# and inference code will need to access the model artifacts.\n",
    "role = get_execution_role()"
   ]
  },
  {
   "cell_type": "code",
   "execution_count": 21,
   "metadata": {},
   "outputs": [
    {
     "name": "stderr",
     "output_type": "stream",
     "text": [
      "'get_image_uri' method will be deprecated in favor of 'ImageURIProvider' class in SageMaker Python SDK v2.\n",
      "There is a more up to date SageMaker XGBoost image. To use the newer image, please set 'repo_version'='1.0-1'. For example:\n",
      "\tget_image_uri(region, 'xgboost', '1.0-1').\n"
     ]
    }
   ],
   "source": [
    "# We need to retrieve the location of the container which is provided by Amazon for using XGBoost.\n",
    "# As a matter of convenience, the training and inference code both use the same container.\n",
    "from sagemaker.amazon.amazon_estimator import get_image_uri\n",
    "\n",
    "container = get_image_uri(session.boto_region_name, 'xgboost')"
   ]
  },
  {
   "cell_type": "code",
   "execution_count": 22,
   "metadata": {},
   "outputs": [
    {
     "name": "stderr",
     "output_type": "stream",
     "text": [
      "Parameter image_name will be renamed to image_uri in SageMaker Python SDK v2.\n"
     ]
    }
   ],
   "source": [
    "# First we create a SageMaker estimator object for our model.\n",
    "xgb = sagemaker.estimator.Estimator(container, # The location of the container we wish to use\n",
    "                                    role,                                    # What is our current IAM Role\n",
    "                                    train_instance_count=1,                  # How many compute instances\n",
    "                                    train_instance_type='ml.m4.xlarge',      # What kind of compute instances\n",
    "                                    output_path='s3://{}/{}/output'.format(session.default_bucket(), prefix),\n",
    "                                    sagemaker_session=session)\n",
    "\n",
    "# And then set the algorithm specific parameters.\n",
    "xgb.set_hyperparameters(max_depth=5,\n",
    "                        eta=0.2,\n",
    "                        gamma=4,\n",
    "                        min_child_weight=6,\n",
    "                        subsample=0.8,\n",
    "                        silent=0,\n",
    "                        objective='binary:logistic',\n",
    "                        early_stopping_rounds=10,\n",
    "                        num_round=500)"
   ]
  },
  {
   "cell_type": "markdown",
   "metadata": {},
   "source": [
    "### Fit the XGBoost model\n",
    "\n",
    "Now that our model has been set up we simply need to attach the training and validation datasets and then ask SageMaker to set up the computation."
   ]
  },
  {
   "cell_type": "code",
   "execution_count": 23,
   "metadata": {},
   "outputs": [
    {
     "name": "stderr",
     "output_type": "stream",
     "text": [
      "'s3_input' class will be renamed to 'TrainingInput' in SageMaker Python SDK v2.\n",
      "'s3_input' class will be renamed to 'TrainingInput' in SageMaker Python SDK v2.\n"
     ]
    }
   ],
   "source": [
    "s3_input_train = sagemaker.s3_input(s3_data=train_location, content_type='csv')\n",
    "s3_input_validation = sagemaker.s3_input(s3_data=val_location, content_type='csv')"
   ]
  },
  {
   "cell_type": "code",
   "execution_count": 24,
   "metadata": {},
   "outputs": [
    {
     "name": "stdout",
     "output_type": "stream",
     "text": [
      "2021-03-26 04:27:38 Starting - Starting the training job...\n",
      "2021-03-26 04:27:41 Starting - Launching requested ML instances......\n",
      "2021-03-26 04:28:55 Starting - Preparing the instances for training.........\n",
      "2021-03-26 04:30:15 Downloading - Downloading input data...\n",
      "2021-03-26 04:31:05 Training - Training image download completed. Training in progress..\u001b[34mArguments: train\u001b[0m\n",
      "\u001b[34m[2021-03-26:04:31:06:INFO] Running standalone xgboost training.\u001b[0m\n",
      "\u001b[34m[2021-03-26:04:31:06:INFO] File size need to be processed in the node: 238.5mb. Available memory size in the node: 8431.46mb\u001b[0m\n",
      "\u001b[34m[2021-03-26:04:31:06:INFO] Determined delimiter of CSV input is ','\u001b[0m\n",
      "\u001b[34m[04:31:06] S3DistributionType set as FullyReplicated\u001b[0m\n",
      "\u001b[34m[04:31:08] 15000x5000 matrix with 75000000 entries loaded from /opt/ml/input/data/train?format=csv&label_column=0&delimiter=,\u001b[0m\n",
      "\u001b[34m[2021-03-26:04:31:08:INFO] Determined delimiter of CSV input is ','\u001b[0m\n",
      "\u001b[34m[04:31:08] S3DistributionType set as FullyReplicated\u001b[0m\n",
      "\u001b[34m[04:31:09] 10000x5000 matrix with 50000000 entries loaded from /opt/ml/input/data/validation?format=csv&label_column=0&delimiter=,\u001b[0m\n",
      "\u001b[34m[04:31:13] src/tree/updater_prune.cc:74: tree pruning end, 1 roots, 46 extra nodes, 6 pruned nodes, max_depth=5\u001b[0m\n",
      "\u001b[34m[0]#011train-error:0.3086#011validation-error:0.3104\u001b[0m\n",
      "\u001b[34mMultiple eval metrics have been passed: 'validation-error' will be used for early stopping.\n",
      "\u001b[0m\n",
      "\u001b[34mWill train until validation-error hasn't improved in 10 rounds.\u001b[0m\n",
      "\u001b[34m[04:31:15] src/tree/updater_prune.cc:74: tree pruning end, 1 roots, 44 extra nodes, 4 pruned nodes, max_depth=5\u001b[0m\n",
      "\u001b[34m[1]#011train-error:0.293733#011validation-error:0.3003\u001b[0m\n",
      "\u001b[34m[04:31:16] src/tree/updater_prune.cc:74: tree pruning end, 1 roots, 38 extra nodes, 2 pruned nodes, max_depth=5\u001b[0m\n",
      "\u001b[34m[2]#011train-error:0.2892#011validation-error:0.2923\u001b[0m\n",
      "\u001b[34m[04:31:17] src/tree/updater_prune.cc:74: tree pruning end, 1 roots, 30 extra nodes, 0 pruned nodes, max_depth=5\u001b[0m\n",
      "\u001b[34m[3]#011train-error:0.2754#011validation-error:0.2815\u001b[0m\n",
      "\u001b[34m[04:31:19] src/tree/updater_prune.cc:74: tree pruning end, 1 roots, 32 extra nodes, 8 pruned nodes, max_depth=5\u001b[0m\n",
      "\u001b[34m[4]#011train-error:0.270533#011validation-error:0.2749\u001b[0m\n",
      "\u001b[34m[04:31:20] src/tree/updater_prune.cc:74: tree pruning end, 1 roots, 34 extra nodes, 8 pruned nodes, max_depth=5\u001b[0m\n",
      "\u001b[34m[5]#011train-error:0.265867#011validation-error:0.2707\u001b[0m\n",
      "\u001b[34m[04:31:22] src/tree/updater_prune.cc:74: tree pruning end, 1 roots, 42 extra nodes, 2 pruned nodes, max_depth=5\u001b[0m\n",
      "\u001b[34m[6]#011train-error:0.253933#011validation-error:0.2632\u001b[0m\n",
      "\u001b[34m[04:31:23] src/tree/updater_prune.cc:74: tree pruning end, 1 roots, 36 extra nodes, 2 pruned nodes, max_depth=5\u001b[0m\n",
      "\u001b[34m[7]#011train-error:0.246667#011validation-error:0.2595\u001b[0m\n",
      "\u001b[34m[04:31:24] src/tree/updater_prune.cc:74: tree pruning end, 1 roots, 44 extra nodes, 0 pruned nodes, max_depth=5\u001b[0m\n",
      "\u001b[34m[8]#011train-error:0.2372#011validation-error:0.2467\u001b[0m\n",
      "\u001b[34m[04:31:26] src/tree/updater_prune.cc:74: tree pruning end, 1 roots, 28 extra nodes, 6 pruned nodes, max_depth=5\u001b[0m\n",
      "\u001b[34m[9]#011train-error:0.232067#011validation-error:0.2414\u001b[0m\n",
      "\u001b[34m[04:31:27] src/tree/updater_prune.cc:74: tree pruning end, 1 roots, 38 extra nodes, 6 pruned nodes, max_depth=5\u001b[0m\n",
      "\u001b[34m[10]#011train-error:0.2258#011validation-error:0.2411\u001b[0m\n",
      "\u001b[34m[04:31:28] src/tree/updater_prune.cc:74: tree pruning end, 1 roots, 32 extra nodes, 6 pruned nodes, max_depth=5\u001b[0m\n",
      "\u001b[34m[11]#011train-error:0.2212#011validation-error:0.2361\u001b[0m\n",
      "\u001b[34m[04:31:30] src/tree/updater_prune.cc:74: tree pruning end, 1 roots, 26 extra nodes, 8 pruned nodes, max_depth=5\u001b[0m\n",
      "\u001b[34m[12]#011train-error:0.217067#011validation-error:0.2301\u001b[0m\n",
      "\u001b[34m[04:31:31] src/tree/updater_prune.cc:74: tree pruning end, 1 roots, 26 extra nodes, 12 pruned nodes, max_depth=5\u001b[0m\n",
      "\u001b[34m[13]#011train-error:0.211867#011validation-error:0.2264\u001b[0m\n",
      "\u001b[34m[04:31:32] src/tree/updater_prune.cc:74: tree pruning end, 1 roots, 36 extra nodes, 10 pruned nodes, max_depth=5\u001b[0m\n",
      "\u001b[34m[14]#011train-error:0.208933#011validation-error:0.2256\u001b[0m\n",
      "\u001b[34m[04:31:34] src/tree/updater_prune.cc:74: tree pruning end, 1 roots, 38 extra nodes, 2 pruned nodes, max_depth=5\u001b[0m\n",
      "\u001b[34m[15]#011train-error:0.204933#011validation-error:0.2218\u001b[0m\n",
      "\u001b[34m[04:31:35] src/tree/updater_prune.cc:74: tree pruning end, 1 roots, 36 extra nodes, 6 pruned nodes, max_depth=5\u001b[0m\n",
      "\u001b[34m[16]#011train-error:0.201667#011validation-error:0.2194\u001b[0m\n",
      "\u001b[34m[04:31:36] src/tree/updater_prune.cc:74: tree pruning end, 1 roots, 44 extra nodes, 4 pruned nodes, max_depth=5\u001b[0m\n",
      "\u001b[34m[17]#011train-error:0.197933#011validation-error:0.2164\u001b[0m\n",
      "\u001b[34m[04:31:38] src/tree/updater_prune.cc:74: tree pruning end, 1 roots, 26 extra nodes, 6 pruned nodes, max_depth=5\u001b[0m\n",
      "\u001b[34m[18]#011train-error:0.196533#011validation-error:0.2156\u001b[0m\n",
      "\u001b[34m[04:31:39] src/tree/updater_prune.cc:74: tree pruning end, 1 roots, 42 extra nodes, 6 pruned nodes, max_depth=5\u001b[0m\n",
      "\u001b[34m[19]#011train-error:0.1926#011validation-error:0.2136\u001b[0m\n",
      "\u001b[34m[04:31:40] src/tree/updater_prune.cc:74: tree pruning end, 1 roots, 32 extra nodes, 8 pruned nodes, max_depth=5\u001b[0m\n",
      "\u001b[34m[20]#011train-error:0.188933#011validation-error:0.2119\u001b[0m\n",
      "\u001b[34m[04:31:42] src/tree/updater_prune.cc:74: tree pruning end, 1 roots, 28 extra nodes, 4 pruned nodes, max_depth=5\u001b[0m\n",
      "\u001b[34m[21]#011train-error:0.187#011validation-error:0.2124\u001b[0m\n",
      "\u001b[34m[04:31:43] src/tree/updater_prune.cc:74: tree pruning end, 1 roots, 28 extra nodes, 8 pruned nodes, max_depth=5\u001b[0m\n",
      "\u001b[34m[22]#011train-error:0.1844#011validation-error:0.2087\u001b[0m\n",
      "\u001b[34m[04:31:45] src/tree/updater_prune.cc:74: tree pruning end, 1 roots, 18 extra nodes, 10 pruned nodes, max_depth=5\u001b[0m\n",
      "\u001b[34m[23]#011train-error:0.182067#011validation-error:0.2063\u001b[0m\n",
      "\u001b[34m[04:31:46] src/tree/updater_prune.cc:74: tree pruning end, 1 roots, 26 extra nodes, 10 pruned nodes, max_depth=5\u001b[0m\n",
      "\u001b[34m[24]#011train-error:0.179133#011validation-error:0.2029\u001b[0m\n",
      "\u001b[34m[04:31:47] src/tree/updater_prune.cc:74: tree pruning end, 1 roots, 14 extra nodes, 8 pruned nodes, max_depth=5\u001b[0m\n",
      "\u001b[34m[25]#011train-error:0.177867#011validation-error:0.2029\u001b[0m\n",
      "\u001b[34m[04:31:49] src/tree/updater_prune.cc:74: tree pruning end, 1 roots, 20 extra nodes, 14 pruned nodes, max_depth=5\u001b[0m\n",
      "\u001b[34m[26]#011train-error:0.175933#011validation-error:0.2016\u001b[0m\n",
      "\u001b[34m[04:31:50] src/tree/updater_prune.cc:74: tree pruning end, 1 roots, 32 extra nodes, 10 pruned nodes, max_depth=5\u001b[0m\n",
      "\u001b[34m[27]#011train-error:0.174467#011validation-error:0.2005\u001b[0m\n",
      "\u001b[34m[04:31:51] src/tree/updater_prune.cc:74: tree pruning end, 1 roots, 24 extra nodes, 10 pruned nodes, max_depth=5\u001b[0m\n",
      "\u001b[34m[28]#011train-error:0.171467#011validation-error:0.1975\u001b[0m\n",
      "\u001b[34m[04:31:53] src/tree/updater_prune.cc:74: tree pruning end, 1 roots, 32 extra nodes, 6 pruned nodes, max_depth=5\u001b[0m\n",
      "\u001b[34m[29]#011train-error:0.1696#011validation-error:0.1947\u001b[0m\n",
      "\u001b[34m[04:31:54] src/tree/updater_prune.cc:74: tree pruning end, 1 roots, 26 extra nodes, 8 pruned nodes, max_depth=5\u001b[0m\n",
      "\u001b[34m[30]#011train-error:0.1676#011validation-error:0.1942\u001b[0m\n",
      "\u001b[34m[04:31:56] src/tree/updater_prune.cc:74: tree pruning end, 1 roots, 22 extra nodes, 8 pruned nodes, max_depth=5\u001b[0m\n",
      "\u001b[34m[31]#011train-error:0.1676#011validation-error:0.1925\u001b[0m\n",
      "\u001b[34m[04:31:57] src/tree/updater_prune.cc:74: tree pruning end, 1 roots, 40 extra nodes, 4 pruned nodes, max_depth=5\u001b[0m\n",
      "\u001b[34m[32]#011train-error:0.1652#011validation-error:0.1901\u001b[0m\n",
      "\u001b[34m[04:31:58] src/tree/updater_prune.cc:74: tree pruning end, 1 roots, 24 extra nodes, 10 pruned nodes, max_depth=5\u001b[0m\n",
      "\u001b[34m[33]#011train-error:0.163133#011validation-error:0.1894\u001b[0m\n",
      "\u001b[34m[04:32:00] src/tree/updater_prune.cc:74: tree pruning end, 1 roots, 16 extra nodes, 10 pruned nodes, max_depth=5\u001b[0m\n",
      "\u001b[34m[34]#011train-error:0.1608#011validation-error:0.1896\u001b[0m\n",
      "\u001b[34m[04:32:01] src/tree/updater_prune.cc:74: tree pruning end, 1 roots, 38 extra nodes, 2 pruned nodes, max_depth=5\u001b[0m\n",
      "\u001b[34m[35]#011train-error:0.160733#011validation-error:0.1878\u001b[0m\n",
      "\u001b[34m[04:32:02] src/tree/updater_prune.cc:74: tree pruning end, 1 roots, 26 extra nodes, 6 pruned nodes, max_depth=5\u001b[0m\n",
      "\u001b[34m[36]#011train-error:0.1578#011validation-error:0.1866\u001b[0m\n",
      "\u001b[34m[04:32:04] src/tree/updater_prune.cc:74: tree pruning end, 1 roots, 16 extra nodes, 0 pruned nodes, max_depth=5\u001b[0m\n",
      "\u001b[34m[37]#011train-error:0.1592#011validation-error:0.1855\u001b[0m\n"
     ]
    },
    {
     "name": "stdout",
     "output_type": "stream",
     "text": [
      "\u001b[34m[04:32:06] src/tree/updater_prune.cc:74: tree pruning end, 1 roots, 24 extra nodes, 12 pruned nodes, max_depth=5\u001b[0m\n",
      "\u001b[34m[38]#011train-error:0.157467#011validation-error:0.1872\u001b[0m\n",
      "\u001b[34m[04:32:07] src/tree/updater_prune.cc:74: tree pruning end, 1 roots, 24 extra nodes, 18 pruned nodes, max_depth=5\u001b[0m\n",
      "\u001b[34m[39]#011train-error:0.156667#011validation-error:0.1858\u001b[0m\n",
      "\u001b[34m[04:32:09] src/tree/updater_prune.cc:74: tree pruning end, 1 roots, 32 extra nodes, 10 pruned nodes, max_depth=5\u001b[0m\n",
      "\u001b[34m[40]#011train-error:0.154067#011validation-error:0.1848\u001b[0m\n",
      "\u001b[34m[04:32:10] src/tree/updater_prune.cc:74: tree pruning end, 1 roots, 24 extra nodes, 14 pruned nodes, max_depth=5\u001b[0m\n",
      "\u001b[34m[41]#011train-error:0.152667#011validation-error:0.1846\u001b[0m\n",
      "\u001b[34m[04:32:11] src/tree/updater_prune.cc:74: tree pruning end, 1 roots, 28 extra nodes, 4 pruned nodes, max_depth=5\u001b[0m\n",
      "\u001b[34m[42]#011train-error:0.1512#011validation-error:0.1834\u001b[0m\n",
      "\u001b[34m[04:32:13] src/tree/updater_prune.cc:74: tree pruning end, 1 roots, 26 extra nodes, 8 pruned nodes, max_depth=5\u001b[0m\n",
      "\u001b[34m[43]#011train-error:0.149667#011validation-error:0.181\u001b[0m\n",
      "\u001b[34m[04:32:14] src/tree/updater_prune.cc:74: tree pruning end, 1 roots, 26 extra nodes, 6 pruned nodes, max_depth=5\u001b[0m\n",
      "\u001b[34m[44]#011train-error:0.148133#011validation-error:0.1808\u001b[0m\n",
      "\u001b[34m[04:32:15] src/tree/updater_prune.cc:74: tree pruning end, 1 roots, 24 extra nodes, 16 pruned nodes, max_depth=5\u001b[0m\n",
      "\u001b[34m[45]#011train-error:0.147267#011validation-error:0.1796\u001b[0m\n",
      "\u001b[34m[04:32:17] src/tree/updater_prune.cc:74: tree pruning end, 1 roots, 12 extra nodes, 6 pruned nodes, max_depth=5\u001b[0m\n",
      "\u001b[34m[46]#011train-error:0.1466#011validation-error:0.1781\u001b[0m\n",
      "\u001b[34m[04:32:18] src/tree/updater_prune.cc:74: tree pruning end, 1 roots, 26 extra nodes, 10 pruned nodes, max_depth=5\u001b[0m\n",
      "\u001b[34m[47]#011train-error:0.146067#011validation-error:0.1774\u001b[0m\n",
      "\u001b[34m[04:32:20] src/tree/updater_prune.cc:74: tree pruning end, 1 roots, 12 extra nodes, 12 pruned nodes, max_depth=5\u001b[0m\n",
      "\u001b[34m[48]#011train-error:0.145#011validation-error:0.1749\u001b[0m\n",
      "\u001b[34m[04:32:21] src/tree/updater_prune.cc:74: tree pruning end, 1 roots, 28 extra nodes, 14 pruned nodes, max_depth=5\u001b[0m\n",
      "\u001b[34m[49]#011train-error:0.144#011validation-error:0.1758\u001b[0m\n",
      "\u001b[34m[04:32:22] src/tree/updater_prune.cc:74: tree pruning end, 1 roots, 30 extra nodes, 10 pruned nodes, max_depth=5\u001b[0m\n",
      "\u001b[34m[50]#011train-error:0.1422#011validation-error:0.1746\u001b[0m\n",
      "\u001b[34m[04:32:24] src/tree/updater_prune.cc:74: tree pruning end, 1 roots, 24 extra nodes, 4 pruned nodes, max_depth=5\u001b[0m\n",
      "\u001b[34m[51]#011train-error:0.140533#011validation-error:0.1742\u001b[0m\n",
      "\u001b[34m[04:32:25] src/tree/updater_prune.cc:74: tree pruning end, 1 roots, 22 extra nodes, 12 pruned nodes, max_depth=5\u001b[0m\n",
      "\u001b[34m[52]#011train-error:0.139533#011validation-error:0.1724\u001b[0m\n",
      "\u001b[34m[04:32:26] src/tree/updater_prune.cc:74: tree pruning end, 1 roots, 26 extra nodes, 10 pruned nodes, max_depth=5\u001b[0m\n",
      "\u001b[34m[53]#011train-error:0.1388#011validation-error:0.1731\u001b[0m\n",
      "\u001b[34m[04:32:28] src/tree/updater_prune.cc:74: tree pruning end, 1 roots, 20 extra nodes, 16 pruned nodes, max_depth=5\u001b[0m\n",
      "\u001b[34m[54]#011train-error:0.138#011validation-error:0.1727\u001b[0m\n",
      "\u001b[34m[04:32:29] src/tree/updater_prune.cc:74: tree pruning end, 1 roots, 26 extra nodes, 10 pruned nodes, max_depth=5\u001b[0m\n",
      "\u001b[34m[55]#011train-error:0.1362#011validation-error:0.1731\u001b[0m\n",
      "\u001b[34m[04:32:30] src/tree/updater_prune.cc:74: tree pruning end, 1 roots, 16 extra nodes, 6 pruned nodes, max_depth=5\u001b[0m\n",
      "\u001b[34m[56]#011train-error:0.135533#011validation-error:0.1731\u001b[0m\n",
      "\u001b[34m[04:32:32] src/tree/updater_prune.cc:74: tree pruning end, 1 roots, 16 extra nodes, 10 pruned nodes, max_depth=5\u001b[0m\n",
      "\u001b[34m[57]#011train-error:0.134333#011validation-error:0.1715\u001b[0m\n",
      "\u001b[34m[04:32:33] src/tree/updater_prune.cc:74: tree pruning end, 1 roots, 30 extra nodes, 6 pruned nodes, max_depth=5\u001b[0m\n",
      "\u001b[34m[58]#011train-error:0.1336#011validation-error:0.1699\u001b[0m\n",
      "\u001b[34m[04:32:34] src/tree/updater_prune.cc:74: tree pruning end, 1 roots, 26 extra nodes, 6 pruned nodes, max_depth=5\u001b[0m\n",
      "\u001b[34m[59]#011train-error:0.132467#011validation-error:0.1692\u001b[0m\n",
      "\u001b[34m[04:32:36] src/tree/updater_prune.cc:74: tree pruning end, 1 roots, 12 extra nodes, 14 pruned nodes, max_depth=5\u001b[0m\n",
      "\u001b[34m[60]#011train-error:0.131533#011validation-error:0.1684\u001b[0m\n",
      "\u001b[34m[04:32:37] src/tree/updater_prune.cc:74: tree pruning end, 1 roots, 20 extra nodes, 10 pruned nodes, max_depth=5\u001b[0m\n",
      "\u001b[34m[61]#011train-error:0.130133#011validation-error:0.1675\u001b[0m\n",
      "\u001b[34m[04:32:38] src/tree/updater_prune.cc:74: tree pruning end, 1 roots, 18 extra nodes, 10 pruned nodes, max_depth=5\u001b[0m\n",
      "\u001b[34m[62]#011train-error:0.1292#011validation-error:0.168\u001b[0m\n",
      "\u001b[34m[04:32:40] src/tree/updater_prune.cc:74: tree pruning end, 1 roots, 36 extra nodes, 4 pruned nodes, max_depth=5\u001b[0m\n",
      "\u001b[34m[63]#011train-error:0.127267#011validation-error:0.1661\u001b[0m\n",
      "\u001b[34m[04:32:41] src/tree/updater_prune.cc:74: tree pruning end, 1 roots, 18 extra nodes, 4 pruned nodes, max_depth=5\u001b[0m\n",
      "\u001b[34m[64]#011train-error:0.126533#011validation-error:0.1665\u001b[0m\n",
      "\u001b[34m[04:32:42] src/tree/updater_prune.cc:74: tree pruning end, 1 roots, 16 extra nodes, 8 pruned nodes, max_depth=5\u001b[0m\n",
      "\u001b[34m[65]#011train-error:0.125467#011validation-error:0.1663\u001b[0m\n",
      "\u001b[34m[04:32:44] src/tree/updater_prune.cc:74: tree pruning end, 1 roots, 38 extra nodes, 4 pruned nodes, max_depth=5\u001b[0m\n",
      "\u001b[34m[66]#011train-error:0.123267#011validation-error:0.1661\u001b[0m\n",
      "\u001b[34m[04:32:45] src/tree/updater_prune.cc:74: tree pruning end, 1 roots, 12 extra nodes, 2 pruned nodes, max_depth=5\u001b[0m\n",
      "\u001b[34m[67]#011train-error:0.1228#011validation-error:0.1654\u001b[0m\n",
      "\u001b[34m[04:32:47] src/tree/updater_prune.cc:74: tree pruning end, 1 roots, 18 extra nodes, 6 pruned nodes, max_depth=5\u001b[0m\n",
      "\u001b[34m[68]#011train-error:0.122133#011validation-error:0.1649\u001b[0m\n",
      "\u001b[34m[04:32:48] src/tree/updater_prune.cc:74: tree pruning end, 1 roots, 28 extra nodes, 12 pruned nodes, max_depth=5\u001b[0m\n",
      "\u001b[34m[69]#011train-error:0.121133#011validation-error:0.1645\u001b[0m\n",
      "\u001b[34m[04:32:49] src/tree/updater_prune.cc:74: tree pruning end, 1 roots, 30 extra nodes, 12 pruned nodes, max_depth=5\u001b[0m\n",
      "\u001b[34m[70]#011train-error:0.119667#011validation-error:0.1635\u001b[0m\n",
      "\u001b[34m[04:32:51] src/tree/updater_prune.cc:74: tree pruning end, 1 roots, 26 extra nodes, 6 pruned nodes, max_depth=5\u001b[0m\n",
      "\u001b[34m[71]#011train-error:0.118933#011validation-error:0.1635\u001b[0m\n",
      "\u001b[34m[04:32:52] src/tree/updater_prune.cc:74: tree pruning end, 1 roots, 14 extra nodes, 6 pruned nodes, max_depth=5\u001b[0m\n",
      "\u001b[34m[72]#011train-error:0.1188#011validation-error:0.1624\u001b[0m\n",
      "\u001b[34m[04:32:53] src/tree/updater_prune.cc:74: tree pruning end, 1 roots, 30 extra nodes, 10 pruned nodes, max_depth=5\u001b[0m\n",
      "\u001b[34m[73]#011train-error:0.118667#011validation-error:0.1623\u001b[0m\n",
      "\u001b[34m[04:32:55] src/tree/updater_prune.cc:74: tree pruning end, 1 roots, 16 extra nodes, 4 pruned nodes, max_depth=5\u001b[0m\n",
      "\u001b[34m[74]#011train-error:0.1184#011validation-error:0.1612\u001b[0m\n",
      "\u001b[34m[04:32:56] src/tree/updater_prune.cc:74: tree pruning end, 1 roots, 16 extra nodes, 2 pruned nodes, max_depth=5\u001b[0m\n",
      "\u001b[34m[75]#011train-error:0.118067#011validation-error:0.1607\u001b[0m\n",
      "\u001b[34m[04:32:57] src/tree/updater_prune.cc:74: tree pruning end, 1 roots, 22 extra nodes, 8 pruned nodes, max_depth=5\u001b[0m\n",
      "\u001b[34m[76]#011train-error:0.1182#011validation-error:0.1612\u001b[0m\n",
      "\u001b[34m[04:32:59] src/tree/updater_prune.cc:74: tree pruning end, 1 roots, 12 extra nodes, 8 pruned nodes, max_depth=5\u001b[0m\n",
      "\u001b[34m[77]#011train-error:0.117667#011validation-error:0.1604\u001b[0m\n",
      "\u001b[34m[04:33:00] src/tree/updater_prune.cc:74: tree pruning end, 1 roots, 24 extra nodes, 12 pruned nodes, max_depth=5\u001b[0m\n",
      "\u001b[34m[78]#011train-error:0.116867#011validation-error:0.1602\u001b[0m\n",
      "\u001b[34m[04:33:01] src/tree/updater_prune.cc:74: tree pruning end, 1 roots, 26 extra nodes, 16 pruned nodes, max_depth=5\u001b[0m\n",
      "\u001b[34m[79]#011train-error:0.115867#011validation-error:0.1596\u001b[0m\n",
      "\u001b[34m[04:33:03] src/tree/updater_prune.cc:74: tree pruning end, 1 roots, 32 extra nodes, 8 pruned nodes, max_depth=5\u001b[0m\n",
      "\u001b[34m[80]#011train-error:0.114533#011validation-error:0.1589\u001b[0m\n",
      "\u001b[34m[04:33:05] src/tree/updater_prune.cc:74: tree pruning end, 1 roots, 10 extra nodes, 8 pruned nodes, max_depth=5\u001b[0m\n",
      "\u001b[34m[81]#011train-error:0.114267#011validation-error:0.1587\u001b[0m\n",
      "\u001b[34m[04:33:06] src/tree/updater_prune.cc:74: tree pruning end, 1 roots, 14 extra nodes, 12 pruned nodes, max_depth=5\u001b[0m\n",
      "\u001b[34m[82]#011train-error:0.113933#011validation-error:0.1581\u001b[0m\n",
      "\u001b[34m[04:33:08] src/tree/updater_prune.cc:74: tree pruning end, 1 roots, 20 extra nodes, 6 pruned nodes, max_depth=5\u001b[0m\n",
      "\u001b[34m[83]#011train-error:0.113867#011validation-error:0.1572\u001b[0m\n"
     ]
    },
    {
     "name": "stdout",
     "output_type": "stream",
     "text": [
      "\u001b[34m[04:33:09] src/tree/updater_prune.cc:74: tree pruning end, 1 roots, 24 extra nodes, 4 pruned nodes, max_depth=5\u001b[0m\n",
      "\u001b[34m[84]#011train-error:0.111867#011validation-error:0.1561\u001b[0m\n",
      "\u001b[34m[04:33:10] src/tree/updater_prune.cc:74: tree pruning end, 1 roots, 16 extra nodes, 2 pruned nodes, max_depth=5\u001b[0m\n",
      "\u001b[34m[85]#011train-error:0.111333#011validation-error:0.1562\u001b[0m\n",
      "\u001b[34m[04:33:12] src/tree/updater_prune.cc:74: tree pruning end, 1 roots, 16 extra nodes, 2 pruned nodes, max_depth=5\u001b[0m\n",
      "\u001b[34m[86]#011train-error:0.1106#011validation-error:0.1566\u001b[0m\n",
      "\u001b[34m[04:33:13] src/tree/updater_prune.cc:74: tree pruning end, 1 roots, 20 extra nodes, 4 pruned nodes, max_depth=5\u001b[0m\n",
      "\u001b[34m[87]#011train-error:0.110467#011validation-error:0.1555\u001b[0m\n",
      "\u001b[34m[04:33:15] src/tree/updater_prune.cc:74: tree pruning end, 1 roots, 30 extra nodes, 8 pruned nodes, max_depth=5\u001b[0m\n",
      "\u001b[34m[88]#011train-error:0.109533#011validation-error:0.1548\u001b[0m\n",
      "\u001b[34m[04:33:16] src/tree/updater_prune.cc:74: tree pruning end, 1 roots, 16 extra nodes, 8 pruned nodes, max_depth=5\u001b[0m\n",
      "\u001b[34m[89]#011train-error:0.107667#011validation-error:0.1551\u001b[0m\n",
      "\u001b[34m[04:33:17] src/tree/updater_prune.cc:74: tree pruning end, 1 roots, 18 extra nodes, 12 pruned nodes, max_depth=5\u001b[0m\n",
      "\u001b[34m[90]#011train-error:0.107#011validation-error:0.1551\u001b[0m\n",
      "\u001b[34m[04:33:19] src/tree/updater_prune.cc:74: tree pruning end, 1 roots, 18 extra nodes, 6 pruned nodes, max_depth=5\u001b[0m\n",
      "\u001b[34m[91]#011train-error:0.1072#011validation-error:0.1552\u001b[0m\n",
      "\u001b[34m[04:33:20] src/tree/updater_prune.cc:74: tree pruning end, 1 roots, 14 extra nodes, 14 pruned nodes, max_depth=5\u001b[0m\n",
      "\u001b[34m[92]#011train-error:0.106067#011validation-error:0.1551\u001b[0m\n",
      "\u001b[34m[04:33:21] src/tree/updater_prune.cc:74: tree pruning end, 1 roots, 14 extra nodes, 6 pruned nodes, max_depth=5\u001b[0m\n",
      "\u001b[34m[93]#011train-error:0.105533#011validation-error:0.1549\u001b[0m\n",
      "\u001b[34m[04:33:23] src/tree/updater_prune.cc:74: tree pruning end, 1 roots, 26 extra nodes, 8 pruned nodes, max_depth=5\u001b[0m\n",
      "\u001b[34m[94]#011train-error:0.104933#011validation-error:0.1546\u001b[0m\n",
      "\u001b[34m[04:33:24] src/tree/updater_prune.cc:74: tree pruning end, 1 roots, 30 extra nodes, 10 pruned nodes, max_depth=5\u001b[0m\n",
      "\u001b[34m[95]#011train-error:0.103533#011validation-error:0.1545\u001b[0m\n",
      "\u001b[34m[04:33:25] src/tree/updater_prune.cc:74: tree pruning end, 1 roots, 20 extra nodes, 8 pruned nodes, max_depth=5\u001b[0m\n",
      "\u001b[34m[96]#011train-error:0.1028#011validation-error:0.154\u001b[0m\n",
      "\u001b[34m[04:33:27] src/tree/updater_prune.cc:74: tree pruning end, 1 roots, 18 extra nodes, 8 pruned nodes, max_depth=5\u001b[0m\n",
      "\u001b[34m[97]#011train-error:0.1024#011validation-error:0.1536\u001b[0m\n",
      "\u001b[34m[04:33:28] src/tree/updater_prune.cc:74: tree pruning end, 1 roots, 18 extra nodes, 8 pruned nodes, max_depth=5\u001b[0m\n",
      "\u001b[34m[98]#011train-error:0.102133#011validation-error:0.1533\u001b[0m\n",
      "\u001b[34m[04:33:29] src/tree/updater_prune.cc:74: tree pruning end, 1 roots, 14 extra nodes, 16 pruned nodes, max_depth=5\u001b[0m\n",
      "\u001b[34m[99]#011train-error:0.1022#011validation-error:0.1531\u001b[0m\n",
      "\u001b[34m[04:33:31] src/tree/updater_prune.cc:74: tree pruning end, 1 roots, 16 extra nodes, 4 pruned nodes, max_depth=5\u001b[0m\n",
      "\u001b[34m[100]#011train-error:0.101467#011validation-error:0.1522\u001b[0m\n",
      "\u001b[34m[04:33:32] src/tree/updater_prune.cc:74: tree pruning end, 1 roots, 22 extra nodes, 6 pruned nodes, max_depth=5\u001b[0m\n",
      "\u001b[34m[101]#011train-error:0.101867#011validation-error:0.1522\u001b[0m\n",
      "\u001b[34m[04:33:33] src/tree/updater_prune.cc:74: tree pruning end, 1 roots, 14 extra nodes, 6 pruned nodes, max_depth=5\u001b[0m\n",
      "\u001b[34m[102]#011train-error:0.101133#011validation-error:0.151\u001b[0m\n",
      "\u001b[34m[04:33:35] src/tree/updater_prune.cc:74: tree pruning end, 1 roots, 28 extra nodes, 10 pruned nodes, max_depth=5\u001b[0m\n",
      "\u001b[34m[103]#011train-error:0.100067#011validation-error:0.1514\u001b[0m\n",
      "\u001b[34m[04:33:36] src/tree/updater_prune.cc:74: tree pruning end, 1 roots, 12 extra nodes, 8 pruned nodes, max_depth=5\u001b[0m\n",
      "\u001b[34m[104]#011train-error:0.0996#011validation-error:0.151\u001b[0m\n",
      "\u001b[34m[04:33:38] src/tree/updater_prune.cc:74: tree pruning end, 1 roots, 10 extra nodes, 8 pruned nodes, max_depth=5\u001b[0m\n",
      "\u001b[34m[105]#011train-error:0.0992#011validation-error:0.15\u001b[0m\n",
      "\u001b[34m[04:33:39] src/tree/updater_prune.cc:74: tree pruning end, 1 roots, 16 extra nodes, 6 pruned nodes, max_depth=5\u001b[0m\n",
      "\u001b[34m[106]#011train-error:0.098467#011validation-error:0.1501\u001b[0m\n",
      "\u001b[34m[04:33:41] src/tree/updater_prune.cc:74: tree pruning end, 1 roots, 12 extra nodes, 8 pruned nodes, max_depth=5\u001b[0m\n",
      "\u001b[34m[107]#011train-error:0.098067#011validation-error:0.15\u001b[0m\n",
      "\u001b[34m[04:33:42] src/tree/updater_prune.cc:74: tree pruning end, 1 roots, 20 extra nodes, 6 pruned nodes, max_depth=5\u001b[0m\n",
      "\u001b[34m[108]#011train-error:0.097867#011validation-error:0.1493\u001b[0m\n",
      "\u001b[34m[04:33:43] src/tree/updater_prune.cc:74: tree pruning end, 1 roots, 14 extra nodes, 8 pruned nodes, max_depth=5\u001b[0m\n",
      "\u001b[34m[109]#011train-error:0.0974#011validation-error:0.1494\u001b[0m\n",
      "\u001b[34m[04:33:45] src/tree/updater_prune.cc:74: tree pruning end, 1 roots, 36 extra nodes, 8 pruned nodes, max_depth=5\u001b[0m\n",
      "\u001b[34m[110]#011train-error:0.096733#011validation-error:0.1497\u001b[0m\n",
      "\u001b[34m[04:33:46] src/tree/updater_prune.cc:74: tree pruning end, 1 roots, 20 extra nodes, 6 pruned nodes, max_depth=5\u001b[0m\n",
      "\u001b[34m[111]#011train-error:0.0958#011validation-error:0.1492\u001b[0m\n",
      "\u001b[34m[04:33:47] src/tree/updater_prune.cc:74: tree pruning end, 1 roots, 10 extra nodes, 6 pruned nodes, max_depth=5\u001b[0m\n",
      "\u001b[34m[112]#011train-error:0.0958#011validation-error:0.149\u001b[0m\n",
      "\u001b[34m[04:33:49] src/tree/updater_prune.cc:74: tree pruning end, 1 roots, 10 extra nodes, 0 pruned nodes, max_depth=5\u001b[0m\n",
      "\u001b[34m[113]#011train-error:0.095667#011validation-error:0.1491\u001b[0m\n",
      "\u001b[34m[04:33:50] src/tree/updater_prune.cc:74: tree pruning end, 1 roots, 16 extra nodes, 10 pruned nodes, max_depth=5\u001b[0m\n",
      "\u001b[34m[114]#011train-error:0.095067#011validation-error:0.1485\u001b[0m\n",
      "\u001b[34m[04:33:52] src/tree/updater_prune.cc:74: tree pruning end, 1 roots, 12 extra nodes, 6 pruned nodes, max_depth=5\u001b[0m\n",
      "\u001b[34m[115]#011train-error:0.095333#011validation-error:0.1486\u001b[0m\n",
      "\u001b[34m[04:33:53] src/tree/updater_prune.cc:74: tree pruning end, 1 roots, 30 extra nodes, 10 pruned nodes, max_depth=5\u001b[0m\n",
      "\u001b[34m[116]#011train-error:0.094333#011validation-error:0.1487\u001b[0m\n",
      "\u001b[34m[04:33:54] src/tree/updater_prune.cc:74: tree pruning end, 1 roots, 16 extra nodes, 6 pruned nodes, max_depth=5\u001b[0m\n",
      "\u001b[34m[117]#011train-error:0.094133#011validation-error:0.1486\u001b[0m\n",
      "\u001b[34m[04:33:56] src/tree/updater_prune.cc:74: tree pruning end, 1 roots, 12 extra nodes, 10 pruned nodes, max_depth=5\u001b[0m\n",
      "\u001b[34m[118]#011train-error:0.093867#011validation-error:0.1482\u001b[0m\n",
      "\u001b[34m[04:33:57] src/tree/updater_prune.cc:74: tree pruning end, 1 roots, 10 extra nodes, 4 pruned nodes, max_depth=5\u001b[0m\n",
      "\u001b[34m[119]#011train-error:0.093667#011validation-error:0.1483\u001b[0m\n",
      "\u001b[34m[04:33:58] src/tree/updater_prune.cc:74: tree pruning end, 1 roots, 12 extra nodes, 6 pruned nodes, max_depth=5\u001b[0m\n",
      "\u001b[34m[120]#011train-error:0.093333#011validation-error:0.1481\u001b[0m\n",
      "\u001b[34m[04:34:00] src/tree/updater_prune.cc:74: tree pruning end, 1 roots, 10 extra nodes, 8 pruned nodes, max_depth=5\u001b[0m\n",
      "\u001b[34m[121]#011train-error:0.0928#011validation-error:0.1478\u001b[0m\n",
      "\u001b[34m[04:34:01] src/tree/updater_prune.cc:74: tree pruning end, 1 roots, 20 extra nodes, 8 pruned nodes, max_depth=5\u001b[0m\n",
      "\u001b[34m[122]#011train-error:0.091667#011validation-error:0.1469\u001b[0m\n",
      "\u001b[34m[04:34:02] src/tree/updater_prune.cc:74: tree pruning end, 1 roots, 20 extra nodes, 12 pruned nodes, max_depth=5\u001b[0m\n",
      "\u001b[34m[123]#011train-error:0.091733#011validation-error:0.1461\u001b[0m\n",
      "\u001b[34m[04:34:04] src/tree/updater_prune.cc:74: tree pruning end, 1 roots, 24 extra nodes, 14 pruned nodes, max_depth=5\u001b[0m\n",
      "\u001b[34m[124]#011train-error:0.091#011validation-error:0.1466\u001b[0m\n",
      "\u001b[34m[04:34:06] src/tree/updater_prune.cc:74: tree pruning end, 1 roots, 18 extra nodes, 14 pruned nodes, max_depth=5\u001b[0m\n",
      "\u001b[34m[125]#011train-error:0.091333#011validation-error:0.1454\u001b[0m\n",
      "\u001b[34m[04:34:07] src/tree/updater_prune.cc:74: tree pruning end, 1 roots, 16 extra nodes, 8 pruned nodes, max_depth=5\u001b[0m\n",
      "\u001b[34m[126]#011train-error:0.090933#011validation-error:0.1451\u001b[0m\n",
      "\u001b[34m[04:34:09] src/tree/updater_prune.cc:74: tree pruning end, 1 roots, 18 extra nodes, 14 pruned nodes, max_depth=5\u001b[0m\n",
      "\u001b[34m[127]#011train-error:0.0906#011validation-error:0.1453\u001b[0m\n",
      "\u001b[34m[04:34:10] src/tree/updater_prune.cc:74: tree pruning end, 1 roots, 18 extra nodes, 4 pruned nodes, max_depth=5\u001b[0m\n",
      "\u001b[34m[128]#011train-error:0.089333#011validation-error:0.1454\u001b[0m\n",
      "\u001b[34m[04:34:11] src/tree/updater_prune.cc:74: tree pruning end, 1 roots, 12 extra nodes, 8 pruned nodes, max_depth=5\u001b[0m\n",
      "\u001b[34m[129]#011train-error:0.088733#011validation-error:0.1448\u001b[0m\n",
      "\u001b[34m[04:34:13] src/tree/updater_prune.cc:74: tree pruning end, 1 roots, 24 extra nodes, 10 pruned nodes, max_depth=5\u001b[0m\n",
      "\u001b[34m[130]#011train-error:0.088133#011validation-error:0.1454\u001b[0m\n",
      "\u001b[34m[04:34:14] src/tree/updater_prune.cc:74: tree pruning end, 1 roots, 18 extra nodes, 10 pruned nodes, max_depth=5\u001b[0m\n",
      "\u001b[34m[131]#011train-error:0.087933#011validation-error:0.146\u001b[0m\n",
      "\u001b[34m[04:34:16] src/tree/updater_prune.cc:74: tree pruning end, 1 roots, 20 extra nodes, 2 pruned nodes, max_depth=5\u001b[0m\n",
      "\u001b[34m[132]#011train-error:0.088#011validation-error:0.1452\u001b[0m\n"
     ]
    },
    {
     "name": "stdout",
     "output_type": "stream",
     "text": [
      "\u001b[34m[04:34:17] src/tree/updater_prune.cc:74: tree pruning end, 1 roots, 26 extra nodes, 14 pruned nodes, max_depth=5\u001b[0m\n",
      "\u001b[34m[133]#011train-error:0.088067#011validation-error:0.1456\u001b[0m\n",
      "\u001b[34m[04:34:18] src/tree/updater_prune.cc:74: tree pruning end, 1 roots, 24 extra nodes, 2 pruned nodes, max_depth=5\u001b[0m\n",
      "\u001b[34m[134]#011train-error:0.087733#011validation-error:0.1454\u001b[0m\n",
      "\u001b[34m[04:34:20] src/tree/updater_prune.cc:74: tree pruning end, 1 roots, 16 extra nodes, 6 pruned nodes, max_depth=5\u001b[0m\n",
      "\u001b[34m[135]#011train-error:0.087067#011validation-error:0.1453\u001b[0m\n",
      "\u001b[34m[04:34:21] src/tree/updater_prune.cc:74: tree pruning end, 1 roots, 20 extra nodes, 6 pruned nodes, max_depth=5\u001b[0m\n",
      "\u001b[34m[136]#011train-error:0.0858#011validation-error:0.1442\u001b[0m\n",
      "\u001b[34m[04:34:22] src/tree/updater_prune.cc:74: tree pruning end, 1 roots, 14 extra nodes, 6 pruned nodes, max_depth=5\u001b[0m\n",
      "\u001b[34m[137]#011train-error:0.085533#011validation-error:0.1446\u001b[0m\n",
      "\u001b[34m[04:34:24] src/tree/updater_prune.cc:74: tree pruning end, 1 roots, 18 extra nodes, 8 pruned nodes, max_depth=5\u001b[0m\n",
      "\u001b[34m[138]#011train-error:0.085333#011validation-error:0.1448\u001b[0m\n",
      "\u001b[34m[04:34:25] src/tree/updater_prune.cc:74: tree pruning end, 1 roots, 12 extra nodes, 8 pruned nodes, max_depth=5\u001b[0m\n",
      "\u001b[34m[139]#011train-error:0.084733#011validation-error:0.1444\u001b[0m\n",
      "\u001b[34m[04:34:26] src/tree/updater_prune.cc:74: tree pruning end, 1 roots, 18 extra nodes, 12 pruned nodes, max_depth=5\u001b[0m\n",
      "\u001b[34m[140]#011train-error:0.084267#011validation-error:0.1439\u001b[0m\n",
      "\u001b[34m[04:34:28] src/tree/updater_prune.cc:74: tree pruning end, 1 roots, 24 extra nodes, 10 pruned nodes, max_depth=5\u001b[0m\n",
      "\u001b[34m[141]#011train-error:0.084267#011validation-error:0.1438\u001b[0m\n",
      "\u001b[34m[04:34:29] src/tree/updater_prune.cc:74: tree pruning end, 1 roots, 14 extra nodes, 8 pruned nodes, max_depth=5\u001b[0m\n",
      "\u001b[34m[142]#011train-error:0.084#011validation-error:0.1432\u001b[0m\n",
      "\u001b[34m[04:34:30] src/tree/updater_prune.cc:74: tree pruning end, 1 roots, 24 extra nodes, 6 pruned nodes, max_depth=5\u001b[0m\n",
      "\u001b[34m[143]#011train-error:0.083933#011validation-error:0.1434\u001b[0m\n",
      "\u001b[34m[04:34:32] src/tree/updater_prune.cc:74: tree pruning end, 1 roots, 28 extra nodes, 10 pruned nodes, max_depth=5\u001b[0m\n",
      "\u001b[34m[144]#011train-error:0.083467#011validation-error:0.1428\u001b[0m\n",
      "\u001b[34m[04:34:33] src/tree/updater_prune.cc:74: tree pruning end, 1 roots, 10 extra nodes, 10 pruned nodes, max_depth=5\u001b[0m\n",
      "\u001b[34m[145]#011train-error:0.083267#011validation-error:0.1423\u001b[0m\n",
      "\u001b[34m[04:34:34] src/tree/updater_prune.cc:74: tree pruning end, 1 roots, 18 extra nodes, 8 pruned nodes, max_depth=5\u001b[0m\n",
      "\u001b[34m[146]#011train-error:0.082933#011validation-error:0.1423\u001b[0m\n",
      "\u001b[34m[04:34:36] src/tree/updater_prune.cc:74: tree pruning end, 1 roots, 24 extra nodes, 6 pruned nodes, max_depth=5\u001b[0m\n",
      "\u001b[34m[147]#011train-error:0.082067#011validation-error:0.1431\u001b[0m\n",
      "\u001b[34m[04:34:37] src/tree/updater_prune.cc:74: tree pruning end, 1 roots, 14 extra nodes, 4 pruned nodes, max_depth=5\u001b[0m\n",
      "\u001b[34m[148]#011train-error:0.082#011validation-error:0.1427\u001b[0m\n",
      "\u001b[34m[04:34:39] src/tree/updater_prune.cc:74: tree pruning end, 1 roots, 12 extra nodes, 10 pruned nodes, max_depth=5\u001b[0m\n",
      "\u001b[34m[149]#011train-error:0.081133#011validation-error:0.1433\u001b[0m\n",
      "\u001b[34m[04:34:40] src/tree/updater_prune.cc:74: tree pruning end, 1 roots, 16 extra nodes, 4 pruned nodes, max_depth=5\u001b[0m\n",
      "\u001b[34m[150]#011train-error:0.080867#011validation-error:0.1434\u001b[0m\n",
      "\u001b[34m[04:34:41] src/tree/updater_prune.cc:74: tree pruning end, 1 roots, 18 extra nodes, 18 pruned nodes, max_depth=5\u001b[0m\n",
      "\u001b[34m[151]#011train-error:0.080333#011validation-error:0.1432\u001b[0m\n",
      "\u001b[34m[04:34:43] src/tree/updater_prune.cc:74: tree pruning end, 1 roots, 16 extra nodes, 10 pruned nodes, max_depth=5\u001b[0m\n",
      "\u001b[34m[152]#011train-error:0.0804#011validation-error:0.1439\u001b[0m\n",
      "\u001b[34m[04:34:44] src/tree/updater_prune.cc:74: tree pruning end, 1 roots, 12 extra nodes, 4 pruned nodes, max_depth=5\u001b[0m\n",
      "\u001b[34m[153]#011train-error:0.080733#011validation-error:0.1441\u001b[0m\n",
      "\u001b[34m[04:34:45] src/tree/updater_prune.cc:74: tree pruning end, 1 roots, 14 extra nodes, 2 pruned nodes, max_depth=5\u001b[0m\n",
      "\u001b[34m[154]#011train-error:0.080267#011validation-error:0.1436\u001b[0m\n",
      "\u001b[34m[04:34:47] src/tree/updater_prune.cc:74: tree pruning end, 1 roots, 20 extra nodes, 14 pruned nodes, max_depth=5\u001b[0m\n",
      "\u001b[34m[155]#011train-error:0.079867#011validation-error:0.1437\u001b[0m\n",
      "\u001b[34mStopping. Best iteration:\u001b[0m\n",
      "\u001b[34m[145]#011train-error:0.083267#011validation-error:0.1423\n",
      "\u001b[0m\n",
      "\n",
      "2021-03-26 04:34:58 Uploading - Uploading generated training model\n",
      "2021-03-26 04:34:58 Completed - Training job completed\n",
      "Training seconds: 283\n",
      "Billable seconds: 283\n"
     ]
    }
   ],
   "source": [
    "xgb.fit({'train': s3_input_train, 'validation': s3_input_validation})"
   ]
  },
  {
   "cell_type": "markdown",
   "metadata": {},
   "source": [
    "## Step 5: Testing the model\n",
    "\n",
    "Now that we've fit our XGBoost model, it's time to see how well it performs. To do this we will use SageMakers Batch Transform functionality. Batch Transform is a convenient way to perform inference on a large dataset in a way that is not realtime. That is, we don't necessarily need to use our model's results immediately and instead we can perform inference on a large number of samples. An example of this in industry might be performing an end of month report. This method of inference can also be useful to us as it means that we can perform inference on our entire test set. \n",
    "\n",
    "To perform a Batch Transformation we need to first create a transformer objects from our trained estimator object."
   ]
  },
  {
   "cell_type": "code",
   "execution_count": 25,
   "metadata": {},
   "outputs": [
    {
     "name": "stderr",
     "output_type": "stream",
     "text": [
      "Parameter image will be renamed to image_uri in SageMaker Python SDK v2.\n"
     ]
    }
   ],
   "source": [
    "xgb_transformer = xgb.transformer(instance_count = 1, instance_type = 'ml.m4.xlarge')"
   ]
  },
  {
   "cell_type": "markdown",
   "metadata": {},
   "source": [
    "Next we actually perform the transform job. When doing so we need to make sure to specify the type of data we are sending so that it is serialized correctly in the background. In our case we are providing our model with csv data so we specify `text/csv`. Also, if the test data that we have provided is too large to process all at once then we need to specify how the data file should be split up. Since each line is a single entry in our data set we tell SageMaker that it can split the input on each line."
   ]
  },
  {
   "cell_type": "code",
   "execution_count": 26,
   "metadata": {},
   "outputs": [],
   "source": [
    "xgb_transformer.transform(test_location, content_type='text/csv', split_type='Line')"
   ]
  },
  {
   "cell_type": "markdown",
   "metadata": {},
   "source": [
    "Currently the transform job is running but it is doing so in the background. Since we wish to wait until the transform job is done and we would like a bit of feedback we can run the `wait()` method."
   ]
  },
  {
   "cell_type": "code",
   "execution_count": 27,
   "metadata": {},
   "outputs": [
    {
     "name": "stdout",
     "output_type": "stream",
     "text": [
      ".............................\u001b[34mArguments: serve\u001b[0m\n",
      "\u001b[34m[2021-03-26 04:40:04 +0000] [1] [INFO] Starting gunicorn 19.9.0\u001b[0m\n",
      "\u001b[34m[2021-03-26 04:40:04 +0000] [1] [INFO] Listening at: http://0.0.0.0:8080 (1)\u001b[0m\n",
      "\u001b[35mArguments: serve\u001b[0m\n",
      "\u001b[35m[2021-03-26 04:40:04 +0000] [1] [INFO] Starting gunicorn 19.9.0\u001b[0m\n",
      "\u001b[35m[2021-03-26 04:40:04 +0000] [1] [INFO] Listening at: http://0.0.0.0:8080 (1)\u001b[0m\n",
      "\u001b[34m[2021-03-26 04:40:04 +0000] [1] [INFO] Using worker: gevent\u001b[0m\n",
      "\u001b[34m[2021-03-26 04:40:04 +0000] [20] [INFO] Booting worker with pid: 20\u001b[0m\n",
      "\u001b[34m[2021-03-26 04:40:04 +0000] [21] [INFO] Booting worker with pid: 21\u001b[0m\n",
      "\u001b[34m[2021-03-26 04:40:04 +0000] [22] [INFO] Booting worker with pid: 22\u001b[0m\n",
      "\u001b[34m[2021-03-26 04:40:04 +0000] [23] [INFO] Booting worker with pid: 23\u001b[0m\n",
      "\u001b[34m/opt/amazon/lib/python3.7/site-packages/gunicorn/workers/ggevent.py:65: MonkeyPatchWarning: Monkey-patching ssl after ssl has already been imported may lead to errors, including RecursionError on Python 3.6. It may also silently lead to incorrect behaviour on Python 3.7. Please monkey-patch earlier. See https://github.com/gevent/gevent/issues/1016. Modules that had direct imports (NOT patched): ['requests.packages.urllib3.util.ssl_ (/opt/amazon/lib/python3.7/site-packages/requests/packages/urllib3/util/ssl_.py)', 'requests.packages.urllib3.util (/opt/amazon/lib/python3.7/site-packages/requests/packages/urllib3/util/__init__.py)']. \n",
      "  monkey.patch_all(subprocess=True)\u001b[0m\n",
      "\u001b[34m/opt/amazon/lib/python3.7/site-packages/gunicorn/workers/ggevent.py:65: MonkeyPatchWarning: Monkey-patching ssl after ssl has already been imported may lead to errors, including RecursionError on Python 3.6. It may also silently lead to incorrect behaviour on Python 3.7. Please monkey-patch earlier. See https://github.com/gevent/gevent/issues/1016. Modules that had direct imports (NOT patched): ['requests.packages.urllib3.util.ssl_ (/opt/amazon/lib/python3.7/site-packages/requests/packages/urllib3/util/ssl_.py)', 'requests.packages.urllib3.util (/opt/amazon/lib/python3.7/site-packages/requests/packages/urllib3/util/__init__.py)']. \n",
      "  monkey.patch_all(subprocess=True)\u001b[0m\n",
      "\u001b[34m/opt/amazon/lib/python3.7/site-packages/gunicorn/workers/ggevent.py:65: MonkeyPatchWarning: Monkey-patching ssl after ssl has already been imported may lead to errors, including RecursionError on Python 3.6. It may also silently lead to incorrect behaviour on Python 3.7. Please monkey-patch earlier. See https://github.com/gevent/gevent/issues/1016. Modules that had direct imports (NOT patched): ['requests.packages.urllib3.util.ssl_ (/opt/amazon/lib/python3.7/site-packages/requests/packages/urllib3/util/ssl_.py)', 'requests.packages.urllib3.util (/opt/amazon/lib/python3.7/site-packages/requests/packages/urllib3/util/__init__.py)']. \n",
      "  monkey.patch_all(subprocess=True)\u001b[0m\n",
      "\u001b[34m[2021-03-26:04:40:04:INFO] Model loaded successfully for worker : 22\u001b[0m\n",
      "\u001b[34m[2021-03-26:04:40:04:INFO] Model loaded successfully for worker : 20\u001b[0m\n",
      "\u001b[34m[2021-03-26:04:40:04:INFO] Model loaded successfully for worker : 21\u001b[0m\n",
      "\u001b[34m/opt/amazon/lib/python3.7/site-packages/gunicorn/workers/ggevent.py:65: MonkeyPatchWarning: Monkey-patching ssl after ssl has already been imported may lead to errors, including RecursionError on Python 3.6. It may also silently lead to incorrect behaviour on Python 3.7. Please monkey-patch earlier. See https://github.com/gevent/gevent/issues/1016. Modules that had direct imports (NOT patched): ['requests.packages.urllib3.util.ssl_ (/opt/amazon/lib/python3.7/site-packages/requests/packages/urllib3/util/ssl_.py)', 'requests.packages.urllib3.util (/opt/amazon/lib/python3.7/site-packages/requests/packages/urllib3/util/__init__.py)']. \n",
      "  monkey.patch_all(subprocess=True)\u001b[0m\n",
      "\u001b[34m[2021-03-26:04:40:04:INFO] Model loaded successfully for worker : 23\u001b[0m\n",
      "\u001b[35m[2021-03-26 04:40:04 +0000] [1] [INFO] Using worker: gevent\u001b[0m\n",
      "\u001b[35m[2021-03-26 04:40:04 +0000] [20] [INFO] Booting worker with pid: 20\u001b[0m\n",
      "\u001b[35m[2021-03-26 04:40:04 +0000] [21] [INFO] Booting worker with pid: 21\u001b[0m\n",
      "\u001b[35m[2021-03-26 04:40:04 +0000] [22] [INFO] Booting worker with pid: 22\u001b[0m\n",
      "\u001b[35m[2021-03-26 04:40:04 +0000] [23] [INFO] Booting worker with pid: 23\u001b[0m\n",
      "\u001b[35m/opt/amazon/lib/python3.7/site-packages/gunicorn/workers/ggevent.py:65: MonkeyPatchWarning: Monkey-patching ssl after ssl has already been imported may lead to errors, including RecursionError on Python 3.6. It may also silently lead to incorrect behaviour on Python 3.7. Please monkey-patch earlier. See https://github.com/gevent/gevent/issues/1016. Modules that had direct imports (NOT patched): ['requests.packages.urllib3.util.ssl_ (/opt/amazon/lib/python3.7/site-packages/requests/packages/urllib3/util/ssl_.py)', 'requests.packages.urllib3.util (/opt/amazon/lib/python3.7/site-packages/requests/packages/urllib3/util/__init__.py)']. \n",
      "  monkey.patch_all(subprocess=True)\u001b[0m\n",
      "\u001b[35m/opt/amazon/lib/python3.7/site-packages/gunicorn/workers/ggevent.py:65: MonkeyPatchWarning: Monkey-patching ssl after ssl has already been imported may lead to errors, including RecursionError on Python 3.6. It may also silently lead to incorrect behaviour on Python 3.7. Please monkey-patch earlier. See https://github.com/gevent/gevent/issues/1016. Modules that had direct imports (NOT patched): ['requests.packages.urllib3.util.ssl_ (/opt/amazon/lib/python3.7/site-packages/requests/packages/urllib3/util/ssl_.py)', 'requests.packages.urllib3.util (/opt/amazon/lib/python3.7/site-packages/requests/packages/urllib3/util/__init__.py)']. \n",
      "  monkey.patch_all(subprocess=True)\u001b[0m\n",
      "\u001b[35m/opt/amazon/lib/python3.7/site-packages/gunicorn/workers/ggevent.py:65: MonkeyPatchWarning: Monkey-patching ssl after ssl has already been imported may lead to errors, including RecursionError on Python 3.6. It may also silently lead to incorrect behaviour on Python 3.7. Please monkey-patch earlier. See https://github.com/gevent/gevent/issues/1016. Modules that had direct imports (NOT patched): ['requests.packages.urllib3.util.ssl_ (/opt/amazon/lib/python3.7/site-packages/requests/packages/urllib3/util/ssl_.py)', 'requests.packages.urllib3.util (/opt/amazon/lib/python3.7/site-packages/requests/packages/urllib3/util/__init__.py)']. \n",
      "  monkey.patch_all(subprocess=True)\u001b[0m\n",
      "\u001b[35m[2021-03-26:04:40:04:INFO] Model loaded successfully for worker : 22\u001b[0m\n",
      "\u001b[35m[2021-03-26:04:40:04:INFO] Model loaded successfully for worker : 20\u001b[0m\n",
      "\u001b[35m[2021-03-26:04:40:04:INFO] Model loaded successfully for worker : 21\u001b[0m\n",
      "\u001b[35m/opt/amazon/lib/python3.7/site-packages/gunicorn/workers/ggevent.py:65: MonkeyPatchWarning: Monkey-patching ssl after ssl has already been imported may lead to errors, including RecursionError on Python 3.6. It may also silently lead to incorrect behaviour on Python 3.7. Please monkey-patch earlier. See https://github.com/gevent/gevent/issues/1016. Modules that had direct imports (NOT patched): ['requests.packages.urllib3.util.ssl_ (/opt/amazon/lib/python3.7/site-packages/requests/packages/urllib3/util/ssl_.py)', 'requests.packages.urllib3.util (/opt/amazon/lib/python3.7/site-packages/requests/packages/urllib3/util/__init__.py)']. \n",
      "  monkey.patch_all(subprocess=True)\u001b[0m\n",
      "\u001b[35m[2021-03-26:04:40:04:INFO] Model loaded successfully for worker : 23\u001b[0m\n",
      "\u001b[32m2021-03-26T04:40:08.855:[sagemaker logs]: MaxConcurrentTransforms=4, MaxPayloadInMB=6, BatchStrategy=MULTI_RECORD\u001b[0m\n",
      "\u001b[34m[2021-03-26:04:40:19:INFO] Determined delimiter of CSV input is ','\u001b[0m\n",
      "\u001b[34m[2021-03-26:04:40:19:INFO] Sniff delimiter as ','\u001b[0m\n",
      "\u001b[34m[2021-03-26:04:40:19:INFO] Determined delimiter of CSV input is ','\u001b[0m\n",
      "\u001b[34m[2021-03-26:04:40:19:INFO] Sniff delimiter as ','\u001b[0m\n",
      "\u001b[34m[2021-03-26:04:40:19:INFO] Determined delimiter of CSV input is ','\u001b[0m\n",
      "\u001b[35m[2021-03-26:04:40:19:INFO] Determined delimiter of CSV input is ','\u001b[0m\n",
      "\u001b[35m[2021-03-26:04:40:19:INFO] Sniff delimiter as ','\u001b[0m\n",
      "\u001b[35m[2021-03-26:04:40:19:INFO] Determined delimiter of CSV input is ','\u001b[0m\n",
      "\u001b[35m[2021-03-26:04:40:19:INFO] Sniff delimiter as ','\u001b[0m\n",
      "\u001b[35m[2021-03-26:04:40:19:INFO] Determined delimiter of CSV input is ','\u001b[0m\n",
      "\u001b[34m[2021-03-26:04:40:21:INFO] Sniff delimiter as ','\u001b[0m\n",
      "\u001b[34m[2021-03-26:04:40:21:INFO] Determined delimiter of CSV input is ','\u001b[0m\n",
      "\u001b[35m[2021-03-26:04:40:21:INFO] Sniff delimiter as ','\u001b[0m\n",
      "\u001b[35m[2021-03-26:04:40:21:INFO] Determined delimiter of CSV input is ','\u001b[0m\n"
     ]
    },
    {
     "name": "stdout",
     "output_type": "stream",
     "text": [
      "\u001b[34m[2021-03-26:04:40:23:INFO] Sniff delimiter as ','\u001b[0m\n",
      "\u001b[34m[2021-03-26:04:40:23:INFO] Determined delimiter of CSV input is ','\u001b[0m\n",
      "\u001b[35m[2021-03-26:04:40:23:INFO] Sniff delimiter as ','\u001b[0m\n",
      "\u001b[35m[2021-03-26:04:40:23:INFO] Determined delimiter of CSV input is ','\u001b[0m\n",
      "\u001b[34m[2021-03-26:04:40:25:INFO] Sniff delimiter as ','\u001b[0m\n",
      "\u001b[35m[2021-03-26:04:40:25:INFO] Sniff delimiter as ','\u001b[0m\n",
      "\u001b[34m[2021-03-26:04:40:25:INFO] Determined delimiter of CSV input is ','\u001b[0m\n",
      "\u001b[34m[2021-03-26:04:40:25:INFO] Sniff delimiter as ','\u001b[0m\n",
      "\u001b[34m[2021-03-26:04:40:25:INFO] Determined delimiter of CSV input is ','\u001b[0m\n",
      "\u001b[34m[2021-03-26:04:40:25:INFO] Sniff delimiter as ','\u001b[0m\n",
      "\u001b[34m[2021-03-26:04:40:25:INFO] Determined delimiter of CSV input is ','\u001b[0m\n",
      "\u001b[34m[2021-03-26:04:40:25:INFO] Sniff delimiter as ','\u001b[0m\n",
      "\u001b[34m[2021-03-26:04:40:25:INFO] Determined delimiter of CSV input is ','\u001b[0m\n",
      "\u001b[35m[2021-03-26:04:40:25:INFO] Determined delimiter of CSV input is ','\u001b[0m\n",
      "\u001b[35m[2021-03-26:04:40:25:INFO] Sniff delimiter as ','\u001b[0m\n",
      "\u001b[35m[2021-03-26:04:40:25:INFO] Determined delimiter of CSV input is ','\u001b[0m\n",
      "\u001b[35m[2021-03-26:04:40:25:INFO] Sniff delimiter as ','\u001b[0m\n",
      "\u001b[35m[2021-03-26:04:40:25:INFO] Determined delimiter of CSV input is ','\u001b[0m\n",
      "\u001b[35m[2021-03-26:04:40:25:INFO] Sniff delimiter as ','\u001b[0m\n",
      "\u001b[35m[2021-03-26:04:40:25:INFO] Determined delimiter of CSV input is ','\u001b[0m\n",
      "\u001b[34m[2021-03-26:04:40:28:INFO] Sniff delimiter as ','\u001b[0m\n",
      "\u001b[34m[2021-03-26:04:40:28:INFO] Determined delimiter of CSV input is ','\u001b[0m\n",
      "\u001b[34m[2021-03-26:04:40:29:INFO] Sniff delimiter as ','\u001b[0m\n",
      "\u001b[34m[2021-03-26:04:40:29:INFO] Determined delimiter of CSV input is ','\u001b[0m\n",
      "\u001b[35m[2021-03-26:04:40:28:INFO] Sniff delimiter as ','\u001b[0m\n",
      "\u001b[35m[2021-03-26:04:40:28:INFO] Determined delimiter of CSV input is ','\u001b[0m\n",
      "\u001b[35m[2021-03-26:04:40:29:INFO] Sniff delimiter as ','\u001b[0m\n",
      "\u001b[35m[2021-03-26:04:40:29:INFO] Determined delimiter of CSV input is ','\u001b[0m\n",
      "\u001b[34m[2021-03-26:04:40:29:INFO] Sniff delimiter as ','\u001b[0m\n",
      "\u001b[34m[2021-03-26:04:40:29:INFO] Determined delimiter of CSV input is ','\u001b[0m\n",
      "\u001b[34m[2021-03-26:04:40:29:INFO] Sniff delimiter as ','\u001b[0m\n",
      "\u001b[34m[2021-03-26:04:40:29:INFO] Determined delimiter of CSV input is ','\u001b[0m\n",
      "\u001b[35m[2021-03-26:04:40:29:INFO] Sniff delimiter as ','\u001b[0m\n",
      "\u001b[35m[2021-03-26:04:40:29:INFO] Determined delimiter of CSV input is ','\u001b[0m\n",
      "\u001b[35m[2021-03-26:04:40:29:INFO] Sniff delimiter as ','\u001b[0m\n",
      "\u001b[35m[2021-03-26:04:40:29:INFO] Determined delimiter of CSV input is ','\u001b[0m\n",
      "\u001b[34m[2021-03-26:04:40:32:INFO] Sniff delimiter as ','\u001b[0m\n",
      "\u001b[34m[2021-03-26:04:40:32:INFO] Determined delimiter of CSV input is ','\u001b[0m\n",
      "\u001b[35m[2021-03-26:04:40:32:INFO] Sniff delimiter as ','\u001b[0m\n",
      "\u001b[35m[2021-03-26:04:40:32:INFO] Determined delimiter of CSV input is ','\u001b[0m\n",
      "\u001b[34m[2021-03-26:04:40:32:INFO] Sniff delimiter as ','\u001b[0m\n",
      "\u001b[34m[2021-03-26:04:40:32:INFO] Determined delimiter of CSV input is ','\u001b[0m\n",
      "\u001b[34m[2021-03-26:04:40:33:INFO] Sniff delimiter as ','\u001b[0m\n",
      "\u001b[35m[2021-03-26:04:40:32:INFO] Sniff delimiter as ','\u001b[0m\n",
      "\u001b[35m[2021-03-26:04:40:32:INFO] Determined delimiter of CSV input is ','\u001b[0m\n",
      "\u001b[35m[2021-03-26:04:40:33:INFO] Sniff delimiter as ','\u001b[0m\n",
      "\u001b[34m[2021-03-26:04:40:33:INFO] Determined delimiter of CSV input is ','\u001b[0m\n",
      "\u001b[34m[2021-03-26:04:40:33:INFO] Sniff delimiter as ','\u001b[0m\n",
      "\u001b[34m[2021-03-26:04:40:33:INFO] Determined delimiter of CSV input is ','\u001b[0m\n",
      "\u001b[35m[2021-03-26:04:40:33:INFO] Determined delimiter of CSV input is ','\u001b[0m\n",
      "\u001b[35m[2021-03-26:04:40:33:INFO] Sniff delimiter as ','\u001b[0m\n",
      "\u001b[35m[2021-03-26:04:40:33:INFO] Determined delimiter of CSV input is ','\u001b[0m\n",
      "\u001b[34m[2021-03-26:04:40:36:INFO] Determined delimiter of CSV input is ','\u001b[0m\n",
      "\u001b[35m[2021-03-26:04:40:36:INFO] Determined delimiter of CSV input is ','\u001b[0m\n",
      "\u001b[34m[2021-03-26:04:40:37:INFO] Sniff delimiter as ','\u001b[0m\n",
      "\u001b[34m[2021-03-26:04:40:37:INFO] Determined delimiter of CSV input is ','\u001b[0m\n",
      "\u001b[34m[2021-03-26:04:40:37:INFO] Sniff delimiter as ','\u001b[0m\n",
      "\u001b[35m[2021-03-26:04:40:37:INFO] Sniff delimiter as ','\u001b[0m\n",
      "\u001b[35m[2021-03-26:04:40:37:INFO] Determined delimiter of CSV input is ','\u001b[0m\n",
      "\u001b[35m[2021-03-26:04:40:37:INFO] Sniff delimiter as ','\u001b[0m\n",
      "\u001b[34m[2021-03-26:04:40:37:INFO] Determined delimiter of CSV input is ','\u001b[0m\n",
      "\u001b[35m[2021-03-26:04:40:37:INFO] Determined delimiter of CSV input is ','\u001b[0m\n",
      "\u001b[34m[2021-03-26:04:40:40:INFO] Sniff delimiter as ','\u001b[0m\n",
      "\u001b[34m[2021-03-26:04:40:40:INFO] Determined delimiter of CSV input is ','\u001b[0m\n",
      "\u001b[35m[2021-03-26:04:40:40:INFO] Sniff delimiter as ','\u001b[0m\n",
      "\u001b[35m[2021-03-26:04:40:40:INFO] Determined delimiter of CSV input is ','\u001b[0m\n",
      "\u001b[34m[2021-03-26:04:40:40:INFO] Sniff delimiter as ','\u001b[0m\n",
      "\u001b[34m[2021-03-26:04:40:40:INFO] Determined delimiter of CSV input is ','\u001b[0m\n",
      "\u001b[35m[2021-03-26:04:40:40:INFO] Sniff delimiter as ','\u001b[0m\n",
      "\u001b[35m[2021-03-26:04:40:40:INFO] Determined delimiter of CSV input is ','\u001b[0m\n",
      "\u001b[34m[2021-03-26:04:40:40:INFO] Sniff delimiter as ','\u001b[0m\n",
      "\u001b[34m[2021-03-26:04:40:40:INFO] Determined delimiter of CSV input is ','\u001b[0m\n",
      "\u001b[34m[2021-03-26:04:40:41:INFO] Sniff delimiter as ','\u001b[0m\n",
      "\u001b[34m[2021-03-26:04:40:41:INFO] Determined delimiter of CSV input is ','\u001b[0m\n",
      "\u001b[35m[2021-03-26:04:40:40:INFO] Sniff delimiter as ','\u001b[0m\n",
      "\u001b[35m[2021-03-26:04:40:40:INFO] Determined delimiter of CSV input is ','\u001b[0m\n",
      "\u001b[35m[2021-03-26:04:40:41:INFO] Sniff delimiter as ','\u001b[0m\n",
      "\u001b[35m[2021-03-26:04:40:41:INFO] Determined delimiter of CSV input is ','\u001b[0m\n",
      "\u001b[34m[2021-03-26:04:40:44:INFO] Sniff delimiter as ','\u001b[0m\n",
      "\u001b[34m[2021-03-26:04:40:44:INFO] Determined delimiter of CSV input is ','\u001b[0m\n",
      "\u001b[34m[2021-03-26:04:40:44:INFO] Sniff delimiter as ','\u001b[0m\n",
      "\u001b[35m[2021-03-26:04:40:44:INFO] Sniff delimiter as ','\u001b[0m\n",
      "\u001b[35m[2021-03-26:04:40:44:INFO] Determined delimiter of CSV input is ','\u001b[0m\n",
      "\u001b[35m[2021-03-26:04:40:44:INFO] Sniff delimiter as ','\u001b[0m\n",
      "\u001b[34m[2021-03-26:04:40:44:INFO] Determined delimiter of CSV input is ','\u001b[0m\n",
      "\u001b[34m[2021-03-26:04:40:44:INFO] Sniff delimiter as ','\u001b[0m\n",
      "\u001b[34m[2021-03-26:04:40:44:INFO] Determined delimiter of CSV input is ','\u001b[0m\n",
      "\u001b[34m[2021-03-26:04:40:44:INFO] Sniff delimiter as ','\u001b[0m\n",
      "\u001b[34m[2021-03-26:04:40:44:INFO] Determined delimiter of CSV input is ','\u001b[0m\n",
      "\u001b[35m[2021-03-26:04:40:44:INFO] Determined delimiter of CSV input is ','\u001b[0m\n",
      "\u001b[35m[2021-03-26:04:40:44:INFO] Sniff delimiter as ','\u001b[0m\n",
      "\u001b[35m[2021-03-26:04:40:44:INFO] Determined delimiter of CSV input is ','\u001b[0m\n",
      "\u001b[35m[2021-03-26:04:40:44:INFO] Sniff delimiter as ','\u001b[0m\n",
      "\u001b[35m[2021-03-26:04:40:44:INFO] Determined delimiter of CSV input is ','\u001b[0m\n",
      "\n",
      "\u001b[34m[2021-03-26:04:40:48:INFO] Determined delimiter of CSV input is ','\u001b[0m\n",
      "\u001b[34m[2021-03-26:04:40:48:INFO] Sniff delimiter as ','\u001b[0m\n",
      "\u001b[35m[2021-03-26:04:40:48:INFO] Determined delimiter of CSV input is ','\u001b[0m\n",
      "\u001b[35m[2021-03-26:04:40:48:INFO] Sniff delimiter as ','\u001b[0m\n",
      "\u001b[34m[2021-03-26:04:40:48:INFO] Determined delimiter of CSV input is ','\u001b[0m\n",
      "\u001b[35m[2021-03-26:04:40:48:INFO] Determined delimiter of CSV input is ','\u001b[0m\n"
     ]
    }
   ],
   "source": [
    "xgb_transformer.wait()"
   ]
  },
  {
   "cell_type": "markdown",
   "metadata": {},
   "source": [
    "Now the transform job has executed and the result, the estimated sentiment of each review, has been saved on S3. Since we would rather work on this file locally we can perform a bit of notebook magic to copy the file to the `data_dir`."
   ]
  },
  {
   "cell_type": "code",
   "execution_count": 28,
   "metadata": {},
   "outputs": [
    {
     "name": "stdout",
     "output_type": "stream",
     "text": [
      "Completed 256.0 KiB/473.2 KiB (2.6 MiB/s) with 1 file(s) remaining\r",
      "Completed 473.2 KiB/473.2 KiB (4.5 MiB/s) with 1 file(s) remaining\r",
      "download: s3://sagemaker-us-east-1-534407698314/xgboost-2021-03-26-04-35-24-384/test.csv.out to ../data/sentiment_web_app/test.csv.out\r\n"
     ]
    }
   ],
   "source": [
    "!aws s3 cp --recursive $xgb_transformer.output_path $data_dir"
   ]
  },
  {
   "cell_type": "markdown",
   "metadata": {},
   "source": [
    "The last step is now to read in the output from our model, convert the output to something a little more usable, in this case we want the sentiment to be either `1` (positive) or `0` (negative), and then compare to the ground truth labels."
   ]
  },
  {
   "cell_type": "code",
   "execution_count": 29,
   "metadata": {},
   "outputs": [],
   "source": [
    "predictions = pd.read_csv(os.path.join(data_dir, 'test.csv.out'), header=None)\n",
    "predictions = [round(num) for num in predictions.squeeze().values]"
   ]
  },
  {
   "cell_type": "code",
   "execution_count": 30,
   "metadata": {},
   "outputs": [
    {
     "data": {
      "text/plain": [
       "0.85788"
      ]
     },
     "execution_count": 30,
     "metadata": {},
     "output_type": "execute_result"
    }
   ],
   "source": [
    "from sklearn.metrics import accuracy_score\n",
    "accuracy_score(test_y, predictions)"
   ]
  },
  {
   "cell_type": "markdown",
   "metadata": {},
   "source": [
    "## Step 6: Deploying the model\n",
    "\n",
    "Once we construct and fit our model, SageMaker stores the resulting model artifacts and we can use those to deploy an endpoint (inference code). To see this, look in the SageMaker console and you should see that a model has been created along with a link to the S3 location where the model artifacts have been stored.\n",
    "\n",
    "Deploying an endpoint is a lot like training the model with a few important differences. The first is that a deployed model doesn't change the model artifacts, so as you send it various testing instances the model won't change. Another difference is that since we aren't performing a fixed computation, as we were in the training step or while performing a batch transform, the compute instance that gets started stays running until we tell it to stop. This is important to note as if we forget and leave it running we will be charged the entire time.\n",
    "\n",
    "In other words **If you are no longer using a deployed endpoint, shut it down!**"
   ]
  },
  {
   "cell_type": "code",
   "execution_count": 31,
   "metadata": {},
   "outputs": [
    {
     "name": "stderr",
     "output_type": "stream",
     "text": [
      "Parameter image will be renamed to image_uri in SageMaker Python SDK v2.\n",
      "Using already existing model: xgboost-2021-03-26-04-27-38-343\n"
     ]
    },
    {
     "name": "stdout",
     "output_type": "stream",
     "text": [
      "-----------------!"
     ]
    }
   ],
   "source": [
    "xgb_predictor = xgb.deploy(initial_instance_count = 1, instance_type = 'ml.m4.xlarge')"
   ]
  },
  {
   "cell_type": "markdown",
   "metadata": {},
   "source": [
    "### Testing the model (again)\n",
    "\n",
    "Now that we have deployed our endpoint, we can send the testing data to it and get back the inference results. We already did this earlier using the batch transform functionality of SageMaker, however, we will test our model again using the newly deployed endpoint so that we can make sure that it works properly and to get a bit of a feel for how the endpoint works.\n",
    "\n",
    "When using the created endpoint it is important to know that we are limited in the amount of information we can send in each call so we need to break the testing data up into chunks and then send each chunk. Also, we need to serialize our data before we send it to the endpoint to ensure that our data is transmitted properly. Fortunately, SageMaker can do the serialization part for us provided we tell it the format of our data."
   ]
  },
  {
   "cell_type": "code",
   "execution_count": 32,
   "metadata": {},
   "outputs": [],
   "source": [
    "from sagemaker.predictor import csv_serializer\n",
    "\n",
    "# We need to tell the endpoint what format the data we are sending is in so that SageMaker can perform the serialization.\n",
    "xgb_predictor.content_type = 'text/csv'\n",
    "xgb_predictor.serializer = csv_serializer"
   ]
  },
  {
   "cell_type": "code",
   "execution_count": 33,
   "metadata": {},
   "outputs": [],
   "source": [
    "# We split the data into chunks and send each chunk seperately, accumulating the results.\n",
    "\n",
    "def predict(data, rows=512):\n",
    "    split_array = np.array_split(data, int(data.shape[0] / float(rows) + 1))\n",
    "    predictions = ''\n",
    "    for array in split_array:\n",
    "        predictions = ','.join([predictions, xgb_predictor.predict(array).decode('utf-8')])\n",
    "    \n",
    "    return np.fromstring(predictions[1:], sep=',')"
   ]
  },
  {
   "cell_type": "code",
   "execution_count": 34,
   "metadata": {},
   "outputs": [],
   "source": [
    "test_X = pd.read_csv(os.path.join(data_dir, 'test.csv'), header=None).values\n",
    "\n",
    "predictions = predict(test_X)\n",
    "predictions = [round(num) for num in predictions]"
   ]
  },
  {
   "cell_type": "markdown",
   "metadata": {},
   "source": [
    "Lastly, we check to see what the accuracy of our model is."
   ]
  },
  {
   "cell_type": "code",
   "execution_count": 35,
   "metadata": {},
   "outputs": [
    {
     "data": {
      "text/plain": [
       "0.85788"
      ]
     },
     "execution_count": 35,
     "metadata": {},
     "output_type": "execute_result"
    }
   ],
   "source": [
    "from sklearn.metrics import accuracy_score\n",
    "accuracy_score(test_y, predictions)"
   ]
  },
  {
   "cell_type": "markdown",
   "metadata": {},
   "source": [
    "And the results here should agree with the model testing that we did earlier using the batch transform job.\n",
    "\n",
    "### Cleaning up\n",
    "\n",
    "Now that we've determined that deploying our model works as expected, we are going to shut it down. Remember that the longer the endpoint is left running, the greater the cost and since we have a bit more work to do before we are able to use our endpoint with our simple web app, we should shut everything down."
   ]
  },
  {
   "cell_type": "code",
   "execution_count": 36,
   "metadata": {},
   "outputs": [],
   "source": [
    "xgb_predictor.delete_endpoint()"
   ]
  },
  {
   "cell_type": "markdown",
   "metadata": {},
   "source": [
    "## Step 7: Putting our model to work\n",
    "\n",
    "As we've mentioned a few times now, our goal is to have our model deployed and then access it using a very simple web app. The intent is for this web app to take some user submitted data (a review), send it off to our endpoint (the model) and then display the result.\n",
    "\n",
    "However, there is a small catch. Currently the only way we can access the endpoint to send it data is using the SageMaker API. We can, if we wish, expose the actual URL that our model's endpoint is receiving data from, however, if we just send it data ourselves we will not get anything in return. This is because the endpoint created by SageMaker requires the entity accessing it have the correct permissions. So, we would need to somehow authenticate our web app with AWS.\n",
    "\n",
    "Having a website that authenticates to AWS seems a bit beyond the scope of this lesson so we will opt for an alternative approach. Namely, we will create a new endpoint which does not require authentication and which acts as a proxy for the SageMaker endpoint.\n",
    "\n",
    "As an additional constraint, we will try to avoid doing any data processing in the web app itself. Remember that when we constructed and tested our model we started with a movie review, then we simplified it by removing any html formatting and punctuation, then we constructed a bag of words embedding and the resulting vector is what we sent to our model. All of this needs to be done to our user input as well.\n",
    "\n",
    "Fortunately we can do all of this data processing in the backend, using Amazon's Lambda service.\n",
    "\n",
    "<img src=\"Web App Diagram.svg\">\n",
    "\n",
    "The diagram above gives an overview of how the various services will work together. On the far right is the model which we trained above and which will be deployed using SageMaker. On the far left is our web app that collects a user's movie review, sends it off and expects a positive or negative sentiment in return.\n",
    "\n",
    "In the middle is where some of the magic happens. We will construct a Lambda function, which you can think of as a straightforward Python function that can be executed whenever a specified event occurs. This Python function will do the data processing we need to perform on a user submitted review. In addition, we will give this function permission to send and recieve data from a SageMaker endpoint.\n",
    "\n",
    "Lastly, the method we will use to execute the Lambda function is a new endpoint that we will create using API Gateway. This endpoint will be a url that listens for data to be sent to it. Once it gets some data it will pass that data on to the Lambda function and then return whatever the Lambda function returns. Essentially it will act as an interface that lets our web app communicate with the Lambda function.\n",
    "\n",
    "### Processing a single review\n",
    "\n",
    "For now, suppose we are given a movie review by our user in the form of a string, like so:"
   ]
  },
  {
   "cell_type": "code",
   "execution_count": 37,
   "metadata": {},
   "outputs": [],
   "source": [
    "test_review = \"Nothing but a disgusting materialistic pageant of glistening abed remote control greed zombies, totally devoid of any heart or heat. A romantic comedy that has zero romantic chemestry and zero laughs!\""
   ]
  },
  {
   "cell_type": "markdown",
   "metadata": {},
   "source": [
    "How do we go from this string to the bag of words feature vector that is expected by our model?\n",
    "\n",
    "If we recall at the beginning of this notebook, the first step is to remove any unnecessary characters using the `review_to_words` method. Remember that we intentionally did this in a very simplistic way. This is because we are going to have to copy this method to our (eventual) Lambda function (we will go into more detail later) and this means it needs to be rather simplistic."
   ]
  },
  {
   "cell_type": "code",
   "execution_count": 38,
   "metadata": {},
   "outputs": [
    {
     "name": "stdout",
     "output_type": "stream",
     "text": [
      "nothing but a disgusting materialistic pageant of glistening abed remote control greed zombies totally devoid of any heart or heat a romantic comedy that has zero romantic chemestry and zero laughs\n"
     ]
    }
   ],
   "source": [
    "test_words = review_to_words(test_review)\n",
    "print(test_words)"
   ]
  },
  {
   "cell_type": "markdown",
   "metadata": {},
   "source": [
    "Next, we need to construct a bag of words embedding of the `test_words` string. To do this, remember that a bag of words embedding uses a `vocabulary` consisting of the most frequently appearing words in a set of documents. Then, for each word in the vocabulary we record the number of times that word appears in `test_words`. We constructed the `vocabulary` earlier using the training set for our problem so encoding `test_words` is relatively straightforward."
   ]
  },
  {
   "cell_type": "code",
   "execution_count": 39,
   "metadata": {},
   "outputs": [],
   "source": [
    "def bow_encoding(words, vocabulary):\n",
    "    bow = [0] * len(vocabulary) # Start by setting the count for each word in the vocabulary to zero.\n",
    "    for word in words.split():  # For each word in the string\n",
    "        if word in vocabulary:  # If the word is one that occurs in the vocabulary, increase its count.\n",
    "            bow[vocabulary[word]] += 1\n",
    "    return bow"
   ]
  },
  {
   "cell_type": "code",
   "execution_count": 40,
   "metadata": {},
   "outputs": [
    {
     "name": "stdout",
     "output_type": "stream",
     "text": [
      "[0, 0, 0, 0, 0, 0, 0, 0, 0, 0, 0, 0, 0, 0, 0, 0, 0, 0, 0, 0, 0, 0, 0, 0, 0, 0, 0, 0, 0, 0, 0, 0, 0, 0, 0, 0, 0, 0, 0, 0, 0, 0, 0, 0, 0, 0, 0, 0, 0, 0, 0, 0, 0, 0, 0, 0, 0, 0, 0, 0, 0, 0, 0, 0, 0, 0, 0, 0, 0, 0, 0, 0, 0, 0, 0, 0, 0, 0, 0, 0, 0, 0, 0, 0, 0, 0, 0, 0, 0, 0, 0, 0, 0, 0, 0, 0, 0, 0, 0, 0, 0, 0, 0, 0, 0, 0, 0, 0, 0, 0, 0, 0, 0, 0, 0, 0, 0, 0, 0, 0, 0, 0, 0, 0, 0, 0, 0, 0, 0, 0, 0, 0, 0, 0, 0, 0, 0, 0, 0, 0, 0, 0, 0, 0, 0, 0, 0, 0, 0, 0, 0, 0, 0, 0, 0, 0, 0, 0, 0, 0, 0, 0, 0, 0, 0, 0, 0, 0, 0, 0, 0, 0, 0, 0, 0, 0, 0, 0, 0, 0, 0, 0, 0, 0, 0, 0, 0, 0, 0, 0, 0, 0, 0, 0, 0, 0, 0, 0, 0, 0, 0, 0, 0, 0, 0, 0, 0, 0, 0, 0, 0, 0, 0, 0, 0, 0, 0, 0, 0, 0, 0, 0, 0, 0, 0, 0, 1, 0, 0, 0, 0, 0, 0, 0, 0, 0, 0, 0, 0, 0, 0, 0, 0, 0, 0, 0, 0, 0, 0, 0, 0, 0, 0, 0, 0, 0, 1, 0, 0, 0, 0, 0, 0, 0, 0, 0, 0, 0, 0, 0, 0, 0, 0, 0, 0, 0, 0, 0, 0, 0, 0, 0, 0, 0, 0, 0, 0, 0, 0, 0, 0, 0, 0, 0, 0, 0, 0, 0, 0, 0, 0, 0, 0, 0, 0, 0, 0, 0, 0, 0, 0, 0, 0, 0, 0, 0, 0, 0, 0, 0, 0, 0, 0, 0, 0, 0, 0, 0, 0, 0, 0, 0, 0, 0, 0, 0, 0, 0, 0, 0, 0, 0, 0, 0, 0, 0, 0, 0, 0, 0, 0, 0, 0, 0, 0, 0, 0, 0, 0, 0, 0, 0, 0, 0, 0, 0, 0, 0, 0, 0, 0, 0, 0, 0, 0, 0, 0, 0, 0, 0, 0, 0, 0, 0, 0, 0, 0, 0, 0, 0, 0, 0, 0, 0, 0, 0, 0, 0, 0, 0, 0, 0, 0, 0, 0, 0, 0, 0, 0, 0, 0, 0, 0, 0, 0, 0, 0, 0, 0, 0, 0, 0, 0, 0, 0, 0, 0, 0, 0, 0, 0, 0, 0, 0, 0, 0, 0, 0, 0, 0, 0, 0, 0, 0, 0, 0, 0, 0, 0, 0, 0, 0, 0, 0, 0, 0, 0, 0, 0, 0, 0, 0, 0, 0, 0, 0, 0, 0, 0, 0, 0, 0, 0, 0, 0, 0, 0, 0, 0, 0, 0, 0, 0, 0, 0, 0, 0, 0, 0, 0, 0, 0, 0, 0, 0, 0, 0, 0, 0, 0, 0, 0, 0, 0, 0, 0, 0, 0, 0, 0, 0, 0, 0, 0, 0, 0, 0, 0, 0, 0, 0, 0, 0, 0, 0, 0, 0, 0, 0, 0, 0, 0, 0, 0, 0, 0, 0, 0, 0, 0, 0, 0, 0, 0, 0, 0, 0, 0, 0, 0, 0, 0, 0, 0, 0, 0, 0, 0, 0, 0, 0, 0, 0, 0, 0, 0, 0, 0, 0, 0, 0, 0, 0, 0, 0, 0, 0, 0, 0, 0, 0, 0, 0, 0, 0, 0, 0, 0, 0, 0, 0, 0, 0, 0, 0, 0, 0, 0, 0, 0, 0, 0, 0, 0, 0, 0, 0, 0, 0, 0, 0, 0, 0, 0, 0, 0, 0, 0, 0, 0, 0, 0, 0, 0, 0, 0, 0, 0, 0, 0, 0, 0, 0, 0, 0, 0, 1, 0, 0, 0, 0, 0, 0, 0, 0, 0, 0, 0, 0, 0, 0, 0, 0, 0, 0, 0, 0, 0, 0, 0, 0, 0, 0, 0, 0, 0, 0, 0, 0, 0, 0, 0, 0, 0, 0, 0, 0, 0, 0, 0, 0, 0, 0, 0, 0, 0, 0, 0, 0, 0, 0, 0, 0, 0, 0, 0, 0, 0, 0, 0, 0, 0, 0, 0, 0, 0, 0, 0, 0, 0, 0, 0, 0, 0, 0, 0, 0, 0, 0, 0, 0, 0, 0, 0, 0, 0, 0, 0, 0, 0, 0, 0, 0, 0, 0, 0, 0, 0, 0, 0, 0, 0, 0, 0, 0, 0, 0, 0, 0, 0, 0, 0, 0, 0, 0, 0, 0, 0, 0, 0, 0, 0, 0, 0, 0, 0, 0, 0, 0, 0, 0, 0, 0, 0, 0, 0, 0, 0, 0, 0, 0, 0, 0, 0, 0, 0, 0, 0, 0, 0, 0, 0, 0, 0, 0, 0, 0, 0, 0, 0, 0, 0, 0, 0, 0, 0, 0, 0, 0, 0, 0, 0, 0, 0, 0, 0, 0, 0, 0, 0, 0, 0, 0, 0, 0, 0, 0, 0, 0, 0, 0, 0, 0, 0, 0, 0, 0, 0, 0, 0, 0, 0, 0, 0, 0, 0, 0, 0, 0, 0, 0, 0, 0, 0, 0, 0, 0, 0, 0, 0, 0, 0, 0, 0, 0, 0, 0, 0, 0, 0, 0, 0, 0, 0, 0, 0, 0, 0, 0, 0, 0, 0, 0, 0, 0, 0, 0, 0, 0, 0, 1, 0, 0, 0, 0, 0, 0, 0, 0, 0, 0, 0, 0, 0, 0, 0, 0, 0, 0, 0, 0, 0, 0, 0, 0, 0, 0, 0, 0, 0, 0, 0, 0, 0, 0, 0, 0, 0, 0, 0, 0, 0, 0, 0, 0, 0, 0, 0, 0, 0, 0, 0, 0, 0, 0, 0, 0, 0, 0, 0, 0, 0, 0, 0, 0, 0, 0, 0, 0, 0, 0, 0, 0, 0, 0, 0, 0, 0, 0, 0, 0, 0, 0, 0, 0, 0, 0, 1, 0, 0, 0, 0, 0, 0, 0, 0, 0, 0, 0, 0, 0, 0, 0, 0, 0, 0, 0, 0, 0, 0, 0, 0, 0, 0, 0, 0, 0, 0, 0, 0, 0, 0, 0, 0, 0, 0, 0, 0, 0, 0, 0, 0, 0, 0, 0, 0, 0, 0, 0, 0, 0, 0, 0, 0, 0, 0, 0, 0, 0, 0, 0, 0, 0, 0, 0, 0, 0, 0, 0, 0, 0, 0, 0, 0, 0, 0, 0, 0, 0, 0, 0, 0, 0, 0, 0, 0, 0, 0, 0, 0, 0, 0, 0, 0, 0, 0, 0, 0, 0, 0, 0, 0, 0, 0, 0, 0, 0, 0, 0, 0, 0, 0, 0, 0, 0, 0, 0, 0, 0, 0, 0, 0, 0, 0, 0, 0, 0, 0, 0, 0, 0, 0, 0, 0, 0, 0, 0, 0, 0, 0, 0, 0, 0, 0, 0, 0, 0, 0, 0, 0, 0, 0, 0, 0, 0, 0, 0, 0, 0, 0, 0, 0, 0, 0, 0, 0, 0, 0, 0, 0, 0, 0, 0, 0, 0, 0, 0, 0, 0, 0, 0, 0, 0, 0, 0, 0, 0, 0, 0, 0, 0, 0, 0, 0, 0, 0, 0, 0, 0, 0, 0, 0, 0, 0, 0, 0, 0, 0, 0, 0, 0, 0, 0, 0, 0, 0, 0, 0, 0, 0, 0, 0, 0, 0, 0, 0, 0, 0, 0, 0, 0, 0, 0, 0, 0, 0, 0, 0, 0, 0, 0, 0, 0, 0, 0, 0, 0, 0, 0, 0, 1, 0, 0, 0, 0, 0, 0, 0, 0, 0, 0, 0, 0, 0, 0, 0, 0, 0, 0, 0, 0, 0, 0, 0, 0, 0, 0, 0, 0, 0, 0, 0, 0, 0, 0, 0, 0, 0, 0, 0, 0, 0, 0, 0, 0, 0, 0, 0, 0, 0, 0, 0, 0, 0, 0, 0, 1, 0, 0, 0, 0, 0, 0, 0, 0, 0, 0, 0, 0, 0, 0, 0, 0, 0, 0, 0, 0, 0, 0, 0, 0, 0, 0, 0, 0, 0, 0, 0, 0, 0, 0, 0, 0, 0, 0, 0, 0, 0, 0, 0, 0, 0, 0, 0, 0, 0, 0, 0, 0, 0, 0, 0, 0, 0, 0, 0, 0, 0, 0, 0, 0, 0, 0, 0, 0, 0, 0, 0, 0, 0, 0, 0, 0, 0, 0, 0, 0, 0, 0, 0, 0, 0, 0, 0, 0, 0, 0, 0, 0, 0, 0, 0, 0, 0, 0, 0, 0, 0, 0, 0, 0, 0, 0, 0, 0, 0, 0, 0, 0, 0, 0, 0, 0, 0, 0, 0, 0, 0, 0, 0, 0, 0, 0, 0, 0, 0, 0, 0, 0, 0, 0, 0, 0, 0, 0, 0, 0, 0, 0, 0, 0, 0, 0, 0, 0, 0, 0, 0, 0, 0, 0, 0, 0, 0, 0, 0, 0, 0, 0, 0, 0, 0, 0, 0, 0, 0, 0, 0, 0, 0, 0, 0, 0, 0, 0, 0, 0, 0, 0, 0, 0, 0, 0, 0, 0, 0, 0, 0, 0, 0, 0, 0, 0, 0, 0, 0, 0, 0, 0, 0, 0, 0, 0, 0, 0, 0, 0, 0, 0, 0, 0, 0, 0, 0, 0, 0, 0, 0, 0, 0, 0, 0, 0, 0, 0, 0, 0, 0, 0, 0, 0, 0, 0, 0, 0, 0, 0, 0, 0, 0, 0, 0, 0, 0, 0, 0, 0, 0, 0, 0, 0, 0, 0, 0, 0, 0, 0, 0, 0, 0, 0, 0, 0, 0, 0, 0, 0, 0, 0, 0, 0, 0, 0, 0, 0, 0, 0, 0, 0, 0, 0, 0, 0, 0, 0, 0, 0, 0, 0, 0, 0, 0, 0, 0, 0, 0, 0, 0, 0, 0, 0, 0, 0, 0, 0, 0, 0, 0, 0, 0, 0, 0, 0, 0, 0, 0, 0, 0, 0, 0, 0, 0, 0, 0, 0, 0, 0, 0, 0, 0, 0, 0, 0, 0, 0, 0, 0, 0, 0, 0, 0, 0, 0, 0, 0, 0, 0, 0, 0, 0, 0, 0, 0, 0, 0, 0, 0, 0, 0, 0, 0, 0, 0, 0, 0, 0, 0, 0, 0, 0, 0, 0, 0, 0, 0, 0, 0, 0, 0, 0, 0, 0, 0, 0, 0, 0, 0, 0, 0, 0, 0, 0, 0, 0, 0, 0, 0, 0, 0, 0, 0, 0, 0, 0, 0, 0, 0, 0, 0, 0, 0, 0, 0, 0, 0, 0, 0, 0, 0, 0, 0, 0, 0, 0, 0, 0, 0, 0, 0, 0, 0, 0, 0, 0, 0, 0, 0, 0, 0, 0, 0, 0, 0, 0, 0, 0, 0, 0, 0, 0, 0, 0, 0, 0, 0, 0, 0, 0, 0, 0, 0, 0, 0, 0, 0, 0, 0, 0, 0, 0, 0, 0, 0, 0, 0, 0, 0, 0, 0, 0, 0, 0, 0, 0, 0, 0, 0, 0, 0, 0, 0, 0, 0, 0, 0, 0, 0, 0, 0, 0, 0, 0, 0, 0, 0, 0, 0, 0, 0, 0, 0, 0, 0, 0, 0, 0, 0, 0, 0, 0, 0, 0, 0, 0, 0, 0, 0, 0, 0, 0, 0, 0, 0, 0, 0, 0, 0, 0, 0, 0, 0, 0, 0, 0, 0, 0, 0, 0, 0, 0, 0, 0, 0, 0, 0, 0, 0, 0, 0, 0, 0, 0, 0, 0, 0, 0, 0, 0, 0, 0, 0, 0, 0, 0, 0, 0, 0, 0, 0, 0, 0, 0, 0, 0, 0, 0, 0, 0, 0, 0, 0, 0, 0, 0, 0, 0, 0, 0, 0, 0, 0, 0, 0, 0, 0, 0, 0, 0, 0, 0, 0, 0, 0, 0, 0, 0, 0, 0, 0, 0, 0, 0, 0, 0, 0, 0, 0, 0, 0, 0, 0, 0, 0, 0, 0, 0, 0, 0, 0, 0, 0, 0, 0, 0, 0, 0, 0, 0, 0, 0, 0, 0, 0, 0, 0, 0, 0, 0, 0, 0, 0, 0, 0, 0, 0, 0, 0, 0, 0, 0, 0, 0, 0, 0, 0, 0, 0, 0, 1, 0, 0, 0, 0, 0, 0, 0, 0, 0, 0, 0, 0, 0, 0, 0, 0, 0, 0, 0, 0, 0, 0, 0, 0, 0, 0, 0, 0, 0, 0, 0, 0, 0, 0, 0, 0, 0, 0, 0, 0, 0, 0, 0, 0, 0, 0, 0, 0, 0, 0, 0, 0, 0, 0, 0, 0, 0, 0, 0, 0, 0, 0, 0, 0, 0, 0, 0, 0, 0, 0, 0, 0, 0, 0, 1, 0, 0, 0, 0, 0, 0, 0, 0, 0, 0, 0, 0, 0, 0, 0, 0, 0, 0, 0, 0, 1, 0, 0, 1, 0, 0, 0, 0, 0, 0, 0, 0, 0, 0, 0, 0, 0, 0, 0, 0, 0, 0, 0, 0, 0, 0, 0, 0, 0, 0, 0, 0, 0, 0, 0, 0, 0, 0, 0, 0, 0, 0, 0, 0, 0, 0, 0, 0, 0, 0, 0, 0, 0, 0, 0, 0, 0, 0, 0, 0, 0, 0, 0, 0, 0, 0, 0, 0, 0, 0, 0, 0, 0, 0, 0, 0, 0, 0, 0, 0, 0, 0, 0, 0, 0, 0, 0, 0, 0, 0, 0, 0, 0, 0, 0, 0, 0, 0, 0, 0, 0, 0, 0, 0, 0, 0, 0, 0, 0, 0, 0, 0, 0, 0, 0, 0, 0, 0, 0, 0, 0, 0, 0, 0, 0, 0, 0, 0, 0, 0, 0, 0, 0, 0, 0, 0, 0, 0, 0, 0, 0, 0, 0, 0, 0, 0, 0, 0, 0, 0, 0, 0, 0, 0, 0, 0, 0, 0, 0, 0, 0, 0, 0, 0, 0, 0, 0, 0, 0, 0, 0, 0, 0, 0, 0, 0, 0, 0, 0, 0, 0, 0, 0, 0, 0, 0, 0, 0, 0, 0, 0, 0, 0, 0, 0, 0, 0, 0, 0, 0, 0, 0, 0, 0, 0, 0, 0, 0, 0, 0, 0, 0, 0, 0, 0, 0, 0, 0, 0, 0, 0, 0, 0, 0, 0, 0, 0, 0, 0, 0, 0, 0, 0, 0, 0, 0, 0, 0, 0, 0, 0, 0, 0, 0, 0, 0, 0, 0, 0, 0, 0, 0, 0, 0, 0, 0, 0, 0, 0, 0, 0, 0, 0, 0, 0, 0, 0, 0, 0, 0, 0, 0, 0, 0, 0, 0, 0, 0, 0, 0, 0, 0, 0, 0, 0, 0, 0, 0, 0, 0, 0, 0, 0, 0, 0, 0, 0, 0, 0, 0, 0, 0, 0, 0, 0, 0, 0, 0, 0, 0, 0, 0, 0, 0, 0, 0, 0, 0, 0, 0, 0, 0, 0, 0, 0, 0, 0, 0, 0, 0, 0, 0, 0, 0, 0, 0, 0, 0, 0, 0, 0, 0, 0, 0, 0, 0, 0, 0, 0, 0, 0, 0, 0, 0, 0, 0, 0, 0, 0, 0, 0, 0, 0, 0, 0, 0, 0, 0, 0, 0, 0, 0, 0, 0, 0, 0, 0, 0, 0, 0, 0, 0, 0, 0, 0, 0, 0, 0, 0, 0, 0, 0, 0, 0, 0, 0, 0, 0, 0, 0, 0, 0, 0, 0, 0, 0, 0, 0, 0, 0, 0, 0, 0, 0, 0, 0, 0, 0, 0, 0, 0, 0, 0, 0, 0, 0, 0, 0, 0, 0, 0, 0, 0, 0, 0, 0, 0, 0, 0, 0, 0, 0, 0, 0, 0, 0, 0, 0, 0, 0, 0, 0, 0, 0, 0, 0, 0, 0, 0, 0, 0, 0, 0, 0, 0, 0, 0, 0, 0, 0, 1, 0, 0, 0, 0, 0, 0, 0, 0, 0, 0, 0, 0, 0, 0, 0, 0, 0, 0, 0, 0, 0, 0, 0, 0, 0, 0, 0, 0, 0, 0, 0, 0, 0, 0, 0, 0, 0, 0, 0, 0, 0, 0, 0, 0, 0, 0, 0, 0, 0, 0, 0, 0, 0, 0, 0, 0, 0, 0, 0, 0, 0, 0, 0, 0, 0, 0, 0, 0, 0, 0, 0, 0, 0, 0, 0, 0, 0, 0, 0, 0, 0, 0, 0, 0, 0, 0, 0, 0, 0, 0, 0, 0, 0, 0, 0, 0, 0, 0, 0, 0, 0, 0, 0, 0, 0, 0, 0, 0, 0, 0, 0, 0, 0, 0, 0, 0, 0, 0, 0, 0, 0, 0, 0, 0, 0, 0, 0, 0, 0, 0, 0, 0, 0, 0, 0, 0, 0, 0, 0, 0, 0, 0, 0, 0, 0, 0, 0, 0, 0, 0, 0, 0, 0, 0, 0, 0, 0, 0, 0, 0, 0, 0, 0, 0, 0, 0, 0, 0, 0, 0, 0, 0, 0, 0, 0, 0, 0, 0, 0, 0, 0, 0, 0, 0, 0, 0, 0, 0, 0, 0, 0, 0, 0, 0, 0, 0, 0, 0, 0, 0, 0, 0, 0, 0, 0, 0, 0, 0, 0, 0, 0, 0, 0, 0, 0, 0, 0, 0, 0, 0, 0, 0, 0, 0, 0, 0, 0, 0, 0, 0, 0, 0, 0, 0, 0, 0, 0, 0, 0, 0, 0, 0, 0, 0, 0, 0, 0, 0, 0, 0, 0, 0, 0, 0, 0, 0, 0, 0, 0, 0, 0, 0, 0, 0, 0, 0, 0, 0, 0, 0, 0, 0, 0, 0, 0, 0, 0, 0, 0, 0, 0, 0, 0, 0, 0, 0, 0, 0, 0, 0, 0, 0, 0, 0, 0, 0, 0, 0, 0, 0, 0, 0, 0, 0, 0, 0, 0, 0, 0, 0, 0, 0, 0, 0, 0, 0, 0, 0, 0, 0, 0, 0, 0, 0, 0, 0, 0, 0, 0, 0, 0, 0, 0, 0, 0, 0, 0, 0, 0, 0, 0, 0, 0, 0, 0, 0, 0, 0, 0, 0, 0, 0, 0, 0, 0, 0, 0, 0, 0, 0, 0, 0, 0, 0, 0, 0, 0, 0, 0, 0, 0, 0, 0, 0, 0, 0, 0, 0, 0, 0, 0, 0, 0, 0, 0, 0, 0, 0, 0, 0, 0, 0, 0, 0, 0, 0, 0, 0, 0, 0, 0, 0, 0, 0, 0, 0, 0, 0, 0, 0, 0, 0, 0, 0, 0, 0, 0, 0, 0, 0, 0, 0, 0, 0, 0, 0, 0, 0, 0, 0, 0, 0, 0, 0, 0, 0, 0, 0, 0, 0, 0, 0, 0, 0, 0, 0, 0, 0, 0, 0, 0, 0, 0, 0, 0, 0, 0, 0, 0, 0, 0, 0, 0, 0, 0, 0, 0, 0, 0, 0, 0, 0, 0, 0, 0, 0, 0, 0, 0, 0, 0, 0, 0, 0, 0, 0, 0, 0, 0, 0, 0, 0, 0, 0, 0, 0, 0, 0, 0, 0, 0, 0, 0, 0, 0, 0, 0, 0, 0, 0, 0, 0, 1, 0, 0, 0, 0, 0, 0, 0, 0, 0, 0, 0, 0, 0, 0, 0, 0, 0, 0, 0, 0, 0, 0, 0, 0, 0, 0, 0, 0, 0, 0, 0, 0, 0, 0, 0, 2, 0, 0, 0, 0, 0, 0, 0, 0, 0, 0, 0, 0, 0, 0, 0, 0, 0, 0, 0, 0, 0, 0, 0, 0, 0, 0, 0, 0, 0, 0, 0, 0, 0, 0, 0, 0, 0, 0, 0, 0, 1, 0, 0, 0, 0, 0, 0, 0, 0, 0, 0, 0, 0, 0, 0, 0, 0, 0, 0, 0, 0, 0, 0, 0, 0, 0, 0, 0, 0, 0, 0, 0, 0, 0, 0, 0, 0, 0, 0, 0, 0, 0, 0, 0, 0, 0, 0, 0, 0, 0, 0, 0, 0, 0, 0, 0, 0, 0, 0, 0, 0, 0, 0, 0, 0, 0, 0, 0, 0, 0, 0, 0, 0, 0, 0, 0, 0, 0, 0, 0, 0, 0, 0, 0, 0, 0, 0, 0, 0, 0, 0, 0, 0, 0, 0, 0, 0, 0, 0, 0, 0, 0, 0, 0, 0, 0, 0, 0, 0, 0, 0, 0, 0, 0, 0, 0, 0, 0, 0, 0, 0, 0, 0, 0, 0, 0, 0, 0, 0, 0, 0, 0, 0, 0, 0, 0, 0, 0, 0, 0, 0, 0, 0, 0, 0, 0, 0, 0, 0, 0, 0, 0, 0, 0, 0, 0, 0, 0, 0, 0, 0, 0, 0, 0, 0, 0, 0, 0, 0, 0, 0, 0, 0, 0, 0, 0, 0, 0, 0, 0, 0, 0, 0, 0, 0, 0, 0, 0, 0, 0, 0, 0, 0, 0, 0, 0, 0, 0, 0, 0, 0, 0, 0, 0, 0, 0, 0, 0, 0, 0, 0, 0, 0, 0, 0, 0, 0, 0, 0, 0, 0, 0, 0, 0, 0, 0, 0, 0, 0, 0, 0, 0, 0, 0, 0, 0, 0, 0, 0, 0, 0, 0, 0, 0, 0, 0, 0, 0, 0, 0, 0, 0, 0, 0, 0, 0, 0, 0, 0, 0, 0, 0, 0, 0, 0, 0, 0, 0, 0, 0, 0, 0, 0, 0, 0, 0, 0, 0, 0, 0, 0, 0, 0, 0, 0, 0, 0, 0, 0, 0, 0, 0, 0, 0, 0, 0, 0, 0, 0, 0, 0, 0, 0, 0, 0, 0, 0, 0, 0, 0, 0, 0, 0, 0, 0, 0, 0, 0, 0, 0, 0, 0, 0, 0, 0, 0, 0, 0, 0, 0, 0, 0, 0, 0, 0, 0, 0, 0, 0, 0, 0, 0, 0, 0, 0, 0, 0, 0, 0, 0, 0, 0, 0, 0, 0, 0, 0, 0, 0, 0, 0, 0, 0, 0, 0, 0, 0, 0, 0, 0, 0, 0, 0, 0, 0, 0, 0, 0, 0, 0, 0, 0, 0, 0, 0, 0, 0, 0, 0, 0, 0, 0, 0, 0, 0, 0, 0, 0, 0, 0, 0, 0, 0, 0, 0, 0, 0, 0, 0, 0, 0, 0, 0, 0, 0, 0, 0, 0, 0, 0, 0, 0, 0, 0, 0, 0, 0, 0, 0, 0, 0, 0, 0, 0, 0, 0, 0, 0, 0, 0, 0, 0, 0, 0, 0, 0, 0, 0, 0, 0, 0, 0, 0, 0, 0, 0, 0, 0, 0, 0, 0, 0, 0, 0, 0, 0, 0, 0, 0, 0, 0, 0, 0, 0, 0, 0, 0, 0, 0, 0, 0, 0, 0, 0, 0, 0, 0, 0, 0, 0, 0, 0, 0, 0, 0, 0, 0, 0, 1, 0, 0, 0, 0, 0, 0, 0, 0, 0, 0, 0, 0, 0, 0, 0, 0, 0, 0, 0, 0, 0, 0, 0, 0, 0, 0, 0, 0, 0, 0, 0, 0, 0, 0, 0, 0, 0, 0, 0, 0, 0, 0, 0, 0, 0, 0, 0, 0, 0, 0, 0, 0, 0, 0, 0, 0, 0, 0, 0, 0, 0, 0, 0, 0, 0, 0, 0, 0, 0, 0, 0, 0, 0, 0, 0, 0, 0, 0, 0, 0, 0, 0, 0, 0, 0, 0, 0, 0, 0, 0, 0, 0, 0, 0, 0, 0, 0, 0, 0, 0, 0, 0, 0, 0, 0, 0, 0, 0, 0, 0, 2, 0, 0, 0, 0, 0, 0, 0, 0, 0, 0, 0, 0, 0, 0, 0, 0, 0, 0, 0, 0, 0, 0, 0, 0, 0, 0, 0, 0, 0, 0, 0, 0, 0, 0, 0, 0, 0, 0, 0, 0, 0, 0, 0, 0, 0, 0, 0, 0, 0, 0, 0, 0, 0, 0, 0, 0, 0, 0, 0, 0, 0, 0, 0, 0, 0, 0, 0, 0, 0, 0, 0, 0, 0, 0, 0, 0, 0, 0, 0, 0, 0, 0, 0, 0, 0, 0, 0, 0, 0, 0, 0, 0, 0, 0, 0, 0, 0, 0, 0, 0, 0, 0, 0, 0, 0, 0, 0, 0, 0, 0, 0, 0, 0, 0, 0, 0, 0, 0, 0, 0, 0, 0, 0, 0, 0, 0, 0, 0, 0, 0, 0, 0, 0, 0, 0, 0, 0, 0, 0, 0, 0, 0, 0, 0, 0, 0, 0, 0, 0, 0, 0, 0, 0, 0, 0, 0, 0, 0, 0, 0, 0, 0, 0, 0, 0, 0, 0, 0, 0, 0, 0, 0, 0, 0, 0, 0, 0, 0, 0, 0, 0, 0, 0, 0, 0, 0, 0, 0, 0, 0, 0, 0, 0, 0, 0, 0, 0, 0, 0, 0, 0, 0, 0, 0, 0, 0, 0, 0, 0, 0, 0, 0, 0, 0, 0, 0, 0, 0, 0, 0, 0, 0, 0, 0, 0, 0, 0, 0, 0, 0, 0, 0, 0, 0, 0, 0, 0, 0, 0, 0, 0, 0, 0, 0, 0, 0, 0, 0, 0, 0, 0, 0, 0, 0, 0, 0, 0, 0, 0, 0, 0, 0, 0, 0, 0, 0, 0, 0, 0, 0, 0, 0, 0, 0, 0, 0, 0, 0, 0, 0, 0, 0, 0, 0, 0, 0, 0, 0, 0, 0, 0, 0, 0, 0, 0, 0, 0, 0, 0, 0, 0, 0, 0, 0, 0, 0, 0, 0, 0, 0, 0, 0, 0, 0, 0, 0, 0, 0, 0, 0, 0, 0, 0, 0, 0, 0, 0, 0, 0, 0, 0, 0, 0, 0, 0, 0, 0, 0, 0, 0, 0, 0, 0, 0, 0, 0, 0, 0, 0, 0, 0, 0, 0, 0, 0, 0, 0, 0, 0, 0, 0, 0, 0, 0, 0, 0, 0, 0, 0, 0, 0, 0, 0, 0, 0, 0, 0, 0, 0, 0, 0, 0, 0, 0, 0, 0, 0, 0, 0, 0, 0, 0, 0, 0, 0, 0, 0, 0, 0, 0, 0, 0, 0, 0, 0, 0, 0, 0, 0, 0, 0, 0, 0, 0, 0, 0, 0, 0, 0, 0, 0, 0, 0, 0, 0, 0, 0, 0, 0, 0, 0, 0, 0, 0, 0, 0, 0, 0, 0, 0, 0, 0, 0, 0, 0, 0, 0, 0, 0, 0, 0, 0, 0, 0, 0, 0, 0, 0, 0, 0, 0, 0, 0, 0, 0, 0, 0, 0, 0, 0, 0, 0, 0, 0, 0, 0, 0, 0, 0, 0, 0, 0, 0, 0, 0, 0, 0, 0, 0, 0, 0, 0, 0, 0, 0, 0, 0, 0, 0, 0, 0, 0, 0, 0, 0, 0, 0, 0, 0, 0, 0, 0, 0, 0, 0, 0, 0, 0, 0, 0, 0, 0, 0, 0, 0, 0, 0, 0, 0, 0, 0, 0, 0, 0, 0, 0, 0, 0, 0, 0, 0, 0, 0, 0, 0, 0, 0, 0, 0, 0, 0, 0, 0, 0, 0, 0, 0, 0, 0, 0, 0, 0, 0, 0, 0, 0, 0, 0, 0, 0, 0, 0, 0, 0, 0, 0, 0, 0, 0, 0, 0, 0, 0, 0, 0, 0, 0, 0, 0, 0, 0, 0, 0, 0, 0, 0, 0, 0, 0, 0, 0, 0, 0, 0, 0, 0, 0, 0, 0, 0, 0, 0, 0, 0, 0, 0, 0, 0, 0, 0, 0, 0, 0, 0, 0, 0, 0, 0, 0, 0, 0, 0, 0, 0, 0, 0, 0, 0, 0, 0, 0, 0, 0, 0, 0, 0, 0, 0, 0, 0, 0, 0, 0, 0, 0, 0, 0, 0, 0, 0, 0, 0, 0, 0, 0, 0, 0, 0, 0, 0, 0, 0, 0, 0, 0, 0, 0, 0, 0, 0, 0, 0, 0, 0, 0, 0, 0, 0, 0, 0, 1, 0, 0, 0, 0, 0, 0, 0, 0, 0, 0, 0, 0, 0, 0, 0, 0, 0, 0, 0, 0, 0, 0, 0, 0, 0, 0, 0, 0, 0, 0, 0, 0, 0, 0, 0, 0, 0, 0, 0, 0, 0, 0, 0, 0, 0, 0, 0, 0, 0, 0, 0, 0, 0, 0, 0, 0, 0, 0, 0, 0, 0, 0, 0, 0, 0, 0, 0, 0, 0, 0, 0, 0, 0, 0, 0, 0, 0, 0, 0, 0, 0, 0, 0, 0, 0, 0, 0, 0, 0, 0, 0, 0, 0, 0, 0, 0, 0, 0, 0, 0, 0, 0, 0, 0, 0, 0, 0, 1, 0, 0, 0, 0, 0, 0, 0, 0, 0, 0, 0, 0, 0, 0, 0, 0, 0, 0, 0, 0, 0, 0, 0, 0, 0, 0, 0, 0, 0, 0, 0, 0, 0, 0, 0, 0, 0, 0, 0, 0, 0, 0, 0, 0, 0, 0, 0, 0, 0, 0, 0, 0, 0, 0, 0, 0, 0, 0, 0, 0, 0, 0, 0, 0, 0, 0, 0, 0, 0, 0, 0, 0, 0, 0, 0, 0, 0, 0, 0, 0, 0, 0, 0, 0, 0, 0, 0, 0, 0, 0, 0, 0, 0, 0, 0, 0, 0, 0, 0, 0, 0, 0, 0, 0, 0, 0, 0, 0, 0, 0, 0, 0, 0, 0, 0, 0, 0, 0, 0, 0, 0, 0, 0, 0, 0, 0, 0, 0, 0, 0, 0, 0, 0, 0, 0, 0, 0, 0, 0, 0, 0, 0, 0, 0, 0, 0, 0, 0, 0, 0, 0, 0, 0, 0, 0, 0, 0, 0, 0, 0, 0, 0, 0, 0, 0, 0, 0, 0, 0, 0, 0, 0, 0, 0, 0, 0, 0, 0, 0, 0, 0, 0, 0, 0, 0, 0, 0, 0, 0, 0, 0, 0, 0, 0, 0, 0, 0, 0, 0, 0, 0, 0, 0, 0, 0, 0, 0, 0, 0, 0, 0, 0, 0, 0, 0, 0, 0, 0, 0, 0, 0, 0, 0, 0, 0, 0, 0, 0, 0, 0, 0, 0, 0, 0, 0, 0, 0, 0, 0, 0, 0, 0, 0, 0, 0, 0, 0, 0, 0, 0, 0, 0, 0, 0, 0, 0, 0, 0, 0, 0, 0, 0, 0, 0, 0, 0, 0, 0, 0, 0, 0, 0, 0, 0, 0, 0, 0, 0, 0, 0, 0, 0, 0, 0, 0, 0, 0, 0, 0, 0, 0, 0, 0, 0, 0, 0, 0, 0, 0, 0, 0, 0, 0, 0, 0, 0, 0, 0, 0, 0, 0, 0, 0, 0, 0, 0, 0, 0, 0, 0, 0, 0, 0, 0, 0, 0, 0, 0, 0, 0, 0, 0, 0, 0, 0, 0, 0, 0, 0, 0, 0, 0, 0, 0, 0, 0, 0, 0, 0, 0, 0, 0, 0, 0, 0, 0, 0, 0, 0, 0, 0, 0, 0, 0, 0, 0, 0, 0, 0, 0, 0, 0, 0, 0, 0, 0, 0, 0, 0, 0, 0, 0, 0, 0, 0, 0, 0, 0, 0, 0, 0, 0, 0, 0, 0, 0, 0, 0, 0, 0, 0, 0, 0, 0, 0, 0, 0, 0, 0, 0, 0, 0, 0, 0, 0, 0, 0, 0, 0, 0, 0, 0, 0, 0, 0, 0, 0, 0, 0, 0, 0, 0, 0, 0, 0, 0, 0, 0, 0, 0, 0, 0, 0, 0, 0, 0, 0, 0, 0, 0, 0, 0, 0, 0, 0, 0, 0, 0, 0, 0, 0, 0, 0, 2, 0, 1, 0]\n"
     ]
    }
   ],
   "source": [
    "test_bow = bow_encoding(test_words, vocabulary)\n",
    "print(test_bow)"
   ]
  },
  {
   "cell_type": "code",
   "execution_count": 41,
   "metadata": {},
   "outputs": [
    {
     "data": {
      "text/plain": [
       "5000"
      ]
     },
     "execution_count": 41,
     "metadata": {},
     "output_type": "execute_result"
    }
   ],
   "source": [
    "len(test_bow)"
   ]
  },
  {
   "cell_type": "markdown",
   "metadata": {},
   "source": [
    "So now we know how to construct a bag of words encoding of a user provided review, how to we send it to our endpoint? First, we need to start the endpoint back up."
   ]
  },
  {
   "cell_type": "code",
   "execution_count": 47,
   "metadata": {},
   "outputs": [
    {
     "name": "stderr",
     "output_type": "stream",
     "text": [
      "Parameter image will be renamed to image_uri in SageMaker Python SDK v2.\n",
      "Using already existing model: xgboost-2021-03-26-04-27-38-343\n"
     ]
    },
    {
     "name": "stdout",
     "output_type": "stream",
     "text": [
      "---------------!"
     ]
    }
   ],
   "source": [
    "xgb_predictor = xgb.deploy(initial_instance_count = 1, instance_type = 'ml.m4.xlarge')"
   ]
  },
  {
   "cell_type": "markdown",
   "metadata": {},
   "source": [
    "At this point we could just do the same thing that we did earlier when we tested our deployed model and send `test_bow` to our endpoint using the `xgb_predictor` object. However, when we eventually construct our Lambda function we won't have access to this object, so how do we call a SageMaker endpoint?\n",
    "\n",
    "It turns out that Python functions that are used in Lambda have access to another Amazon library called `boto3`. This library provides an API for working with Amazon services, including SageMaker. To start with, we need to get a handle to the SageMaker runtime."
   ]
  },
  {
   "cell_type": "code",
   "execution_count": 48,
   "metadata": {},
   "outputs": [],
   "source": [
    "import boto3\n",
    "\n",
    "runtime = boto3.Session().client('sagemaker-runtime')"
   ]
  },
  {
   "cell_type": "markdown",
   "metadata": {},
   "source": [
    "And now that we have access to the SageMaker runtime, we can ask it to make use of (invoke) an endpoint that has already been created. However, we need to provide SageMaker with the name of the deployed endpoint. To find this out we can print it out using the `xgb_predictor` object."
   ]
  },
  {
   "cell_type": "code",
   "execution_count": 49,
   "metadata": {},
   "outputs": [
    {
     "data": {
      "text/plain": [
       "'xgboost-2021-03-26-04-27-38-343'"
      ]
     },
     "execution_count": 49,
     "metadata": {},
     "output_type": "execute_result"
    }
   ],
   "source": [
    "xgb_predictor.endpoint"
   ]
  },
  {
   "cell_type": "markdown",
   "metadata": {},
   "source": [
    "Using the SageMaker runtime and the name of our endpoint, we can invoke the endpoint and send it the `test_bow` data."
   ]
  },
  {
   "cell_type": "code",
   "execution_count": 50,
   "metadata": {},
   "outputs": [
    {
     "ename": "ParamValidationError",
     "evalue": "Parameter validation failed:\nInvalid type for parameter Body, value: [0, 0, 0, 0, 0, 0, 0, 0, 0, 0, 0, 0, 0, 0, 0, 0, 0, 0, 0, 0, 0, 0, 0, 0, 0, 0, 0, 0, 0, 0, 0, 0, 0, 0, 0, 0, 0, 0, 0, 0, 0, 0, 0, 0, 0, 0, 0, 0, 0, 0, 0, 0, 0, 0, 0, 0, 0, 0, 0, 0, 0, 0, 0, 0, 0, 0, 0, 0, 0, 0, 0, 0, 0, 0, 0, 0, 0, 0, 0, 0, 0, 0, 0, 0, 0, 0, 0, 0, 0, 0, 0, 0, 0, 0, 0, 0, 0, 0, 0, 0, 0, 0, 0, 0, 0, 0, 0, 0, 0, 0, 0, 0, 0, 0, 0, 0, 0, 0, 0, 0, 0, 0, 0, 0, 0, 0, 0, 0, 0, 0, 0, 0, 0, 0, 0, 0, 0, 0, 0, 0, 0, 0, 0, 0, 0, 0, 0, 0, 0, 0, 0, 0, 0, 0, 0, 0, 0, 0, 0, 0, 0, 0, 0, 0, 0, 0, 0, 0, 0, 0, 0, 0, 0, 0, 0, 0, 0, 0, 0, 0, 0, 0, 0, 0, 0, 0, 0, 0, 0, 0, 0, 0, 0, 0, 0, 0, 0, 0, 0, 0, 0, 0, 0, 0, 0, 0, 0, 0, 0, 0, 0, 0, 0, 0, 0, 0, 0, 0, 0, 0, 0, 0, 0, 0, 0, 0, 1, 0, 0, 0, 0, 0, 0, 0, 0, 0, 0, 0, 0, 0, 0, 0, 0, 0, 0, 0, 0, 0, 0, 0, 0, 0, 0, 0, 0, 0, 1, 0, 0, 0, 0, 0, 0, 0, 0, 0, 0, 0, 0, 0, 0, 0, 0, 0, 0, 0, 0, 0, 0, 0, 0, 0, 0, 0, 0, 0, 0, 0, 0, 0, 0, 0, 0, 0, 0, 0, 0, 0, 0, 0, 0, 0, 0, 0, 0, 0, 0, 0, 0, 0, 0, 0, 0, 0, 0, 0, 0, 0, 0, 0, 0, 0, 0, 0, 0, 0, 0, 0, 0, 0, 0, 0, 0, 0, 0, 0, 0, 0, 0, 0, 0, 0, 0, 0, 0, 0, 0, 0, 0, 0, 0, 0, 0, 0, 0, 0, 0, 0, 0, 0, 0, 0, 0, 0, 0, 0, 0, 0, 0, 0, 0, 0, 0, 0, 0, 0, 0, 0, 0, 0, 0, 0, 0, 0, 0, 0, 0, 0, 0, 0, 0, 0, 0, 0, 0, 0, 0, 0, 0, 0, 0, 0, 0, 0, 0, 0, 0, 0, 0, 0, 0, 0, 0, 0, 0, 0, 0, 0, 0, 0, 0, 0, 0, 0, 0, 0, 0, 0, 0, 0, 0, 0, 0, 0, 0, 0, 0, 0, 0, 0, 0, 0, 0, 0, 0, 0, 0, 0, 0, 0, 0, 0, 0, 0, 0, 0, 0, 0, 0, 0, 0, 0, 0, 0, 0, 0, 0, 0, 0, 0, 0, 0, 0, 0, 0, 0, 0, 0, 0, 0, 0, 0, 0, 0, 0, 0, 0, 0, 0, 0, 0, 0, 0, 0, 0, 0, 0, 0, 0, 0, 0, 0, 0, 0, 0, 0, 0, 0, 0, 0, 0, 0, 0, 0, 0, 0, 0, 0, 0, 0, 0, 0, 0, 0, 0, 0, 0, 0, 0, 0, 0, 0, 0, 0, 0, 0, 0, 0, 0, 0, 0, 0, 0, 0, 0, 0, 0, 0, 0, 0, 0, 0, 0, 0, 0, 0, 0, 0, 0, 0, 0, 0, 0, 0, 0, 0, 0, 0, 0, 0, 0, 0, 0, 0, 0, 0, 0, 0, 0, 0, 0, 0, 0, 0, 0, 0, 0, 0, 0, 0, 0, 0, 0, 0, 0, 0, 0, 0, 0, 0, 0, 0, 0, 0, 0, 0, 0, 0, 0, 0, 0, 0, 0, 0, 0, 0, 0, 0, 0, 0, 0, 0, 0, 0, 0, 0, 0, 0, 0, 0, 0, 0, 0, 0, 0, 0, 1, 0, 0, 0, 0, 0, 0, 0, 0, 0, 0, 0, 0, 0, 0, 0, 0, 0, 0, 0, 0, 0, 0, 0, 0, 0, 0, 0, 0, 0, 0, 0, 0, 0, 0, 0, 0, 0, 0, 0, 0, 0, 0, 0, 0, 0, 0, 0, 0, 0, 0, 0, 0, 0, 0, 0, 0, 0, 0, 0, 0, 0, 0, 0, 0, 0, 0, 0, 0, 0, 0, 0, 0, 0, 0, 0, 0, 0, 0, 0, 0, 0, 0, 0, 0, 0, 0, 0, 0, 0, 0, 0, 0, 0, 0, 0, 0, 0, 0, 0, 0, 0, 0, 0, 0, 0, 0, 0, 0, 0, 0, 0, 0, 0, 0, 0, 0, 0, 0, 0, 0, 0, 0, 0, 0, 0, 0, 0, 0, 0, 0, 0, 0, 0, 0, 0, 0, 0, 0, 0, 0, 0, 0, 0, 0, 0, 0, 0, 0, 0, 0, 0, 0, 0, 0, 0, 0, 0, 0, 0, 0, 0, 0, 0, 0, 0, 0, 0, 0, 0, 0, 0, 0, 0, 0, 0, 0, 0, 0, 0, 0, 0, 0, 0, 0, 0, 0, 0, 0, 0, 0, 0, 0, 0, 0, 0, 0, 0, 0, 0, 0, 0, 0, 0, 0, 0, 0, 0, 0, 0, 0, 0, 0, 0, 0, 0, 0, 0, 0, 0, 0, 0, 0, 0, 0, 0, 0, 0, 0, 0, 0, 0, 0, 0, 0, 0, 0, 0, 0, 0, 0, 0, 0, 0, 0, 0, 0, 0, 0, 0, 0, 0, 0, 0, 1, 0, 0, 0, 0, 0, 0, 0, 0, 0, 0, 0, 0, 0, 0, 0, 0, 0, 0, 0, 0, 0, 0, 0, 0, 0, 0, 0, 0, 0, 0, 0, 0, 0, 0, 0, 0, 0, 0, 0, 0, 0, 0, 0, 0, 0, 0, 0, 0, 0, 0, 0, 0, 0, 0, 0, 0, 0, 0, 0, 0, 0, 0, 0, 0, 0, 0, 0, 0, 0, 0, 0, 0, 0, 0, 0, 0, 0, 0, 0, 0, 0, 0, 0, 0, 0, 0, 1, 0, 0, 0, 0, 0, 0, 0, 0, 0, 0, 0, 0, 0, 0, 0, 0, 0, 0, 0, 0, 0, 0, 0, 0, 0, 0, 0, 0, 0, 0, 0, 0, 0, 0, 0, 0, 0, 0, 0, 0, 0, 0, 0, 0, 0, 0, 0, 0, 0, 0, 0, 0, 0, 0, 0, 0, 0, 0, 0, 0, 0, 0, 0, 0, 0, 0, 0, 0, 0, 0, 0, 0, 0, 0, 0, 0, 0, 0, 0, 0, 0, 0, 0, 0, 0, 0, 0, 0, 0, 0, 0, 0, 0, 0, 0, 0, 0, 0, 0, 0, 0, 0, 0, 0, 0, 0, 0, 0, 0, 0, 0, 0, 0, 0, 0, 0, 0, 0, 0, 0, 0, 0, 0, 0, 0, 0, 0, 0, 0, 0, 0, 0, 0, 0, 0, 0, 0, 0, 0, 0, 0, 0, 0, 0, 0, 0, 0, 0, 0, 0, 0, 0, 0, 0, 0, 0, 0, 0, 0, 0, 0, 0, 0, 0, 0, 0, 0, 0, 0, 0, 0, 0, 0, 0, 0, 0, 0, 0, 0, 0, 0, 0, 0, 0, 0, 0, 0, 0, 0, 0, 0, 0, 0, 0, 0, 0, 0, 0, 0, 0, 0, 0, 0, 0, 0, 0, 0, 0, 0, 0, 0, 0, 0, 0, 0, 0, 0, 0, 0, 0, 0, 0, 0, 0, 0, 0, 0, 0, 0, 0, 0, 0, 0, 0, 0, 0, 0, 0, 0, 0, 0, 0, 0, 0, 0, 0, 0, 0, 0, 0, 0, 0, 1, 0, 0, 0, 0, 0, 0, 0, 0, 0, 0, 0, 0, 0, 0, 0, 0, 0, 0, 0, 0, 0, 0, 0, 0, 0, 0, 0, 0, 0, 0, 0, 0, 0, 0, 0, 0, 0, 0, 0, 0, 0, 0, 0, 0, 0, 0, 0, 0, 0, 0, 0, 0, 0, 0, 0, 1, 0, 0, 0, 0, 0, 0, 0, 0, 0, 0, 0, 0, 0, 0, 0, 0, 0, 0, 0, 0, 0, 0, 0, 0, 0, 0, 0, 0, 0, 0, 0, 0, 0, 0, 0, 0, 0, 0, 0, 0, 0, 0, 0, 0, 0, 0, 0, 0, 0, 0, 0, 0, 0, 0, 0, 0, 0, 0, 0, 0, 0, 0, 0, 0, 0, 0, 0, 0, 0, 0, 0, 0, 0, 0, 0, 0, 0, 0, 0, 0, 0, 0, 0, 0, 0, 0, 0, 0, 0, 0, 0, 0, 0, 0, 0, 0, 0, 0, 0, 0, 0, 0, 0, 0, 0, 0, 0, 0, 0, 0, 0, 0, 0, 0, 0, 0, 0, 0, 0, 0, 0, 0, 0, 0, 0, 0, 0, 0, 0, 0, 0, 0, 0, 0, 0, 0, 0, 0, 0, 0, 0, 0, 0, 0, 0, 0, 0, 0, 0, 0, 0, 0, 0, 0, 0, 0, 0, 0, 0, 0, 0, 0, 0, 0, 0, 0, 0, 0, 0, 0, 0, 0, 0, 0, 0, 0, 0, 0, 0, 0, 0, 0, 0, 0, 0, 0, 0, 0, 0, 0, 0, 0, 0, 0, 0, 0, 0, 0, 0, 0, 0, 0, 0, 0, 0, 0, 0, 0, 0, 0, 0, 0, 0, 0, 0, 0, 0, 0, 0, 0, 0, 0, 0, 0, 0, 0, 0, 0, 0, 0, 0, 0, 0, 0, 0, 0, 0, 0, 0, 0, 0, 0, 0, 0, 0, 0, 0, 0, 0, 0, 0, 0, 0, 0, 0, 0, 0, 0, 0, 0, 0, 0, 0, 0, 0, 0, 0, 0, 0, 0, 0, 0, 0, 0, 0, 0, 0, 0, 0, 0, 0, 0, 0, 0, 0, 0, 0, 0, 0, 0, 0, 0, 0, 0, 0, 0, 0, 0, 0, 0, 0, 0, 0, 0, 0, 0, 0, 0, 0, 0, 0, 0, 0, 0, 0, 0, 0, 0, 0, 0, 0, 0, 0, 0, 0, 0, 0, 0, 0, 0, 0, 0, 0, 0, 0, 0, 0, 0, 0, 0, 0, 0, 0, 0, 0, 0, 0, 0, 0, 0, 0, 0, 0, 0, 0, 0, 0, 0, 0, 0, 0, 0, 0, 0, 0, 0, 0, 0, 0, 0, 0, 0, 0, 0, 0, 0, 0, 0, 0, 0, 0, 0, 0, 0, 0, 0, 0, 0, 0, 0, 0, 0, 0, 0, 0, 0, 0, 0, 0, 0, 0, 0, 0, 0, 0, 0, 0, 0, 0, 0, 0, 0, 0, 0, 0, 0, 0, 0, 0, 0, 0, 0, 0, 0, 0, 0, 0, 0, 0, 0, 0, 0, 0, 0, 0, 0, 0, 0, 0, 0, 0, 0, 0, 0, 0, 0, 0, 0, 0, 0, 0, 0, 0, 0, 0, 0, 0, 0, 0, 0, 0, 0, 0, 0, 0, 0, 0, 0, 0, 0, 0, 0, 0, 0, 0, 0, 0, 0, 0, 0, 0, 0, 0, 0, 0, 0, 0, 0, 0, 0, 0, 0, 0, 0, 0, 0, 0, 0, 0, 0, 0, 0, 0, 0, 0, 0, 0, 0, 0, 0, 0, 0, 0, 0, 0, 0, 0, 0, 0, 0, 0, 0, 0, 0, 0, 0, 0, 0, 0, 0, 0, 0, 0, 0, 0, 0, 0, 0, 0, 0, 0, 0, 0, 0, 0, 0, 0, 0, 0, 0, 0, 0, 0, 0, 0, 0, 0, 0, 0, 0, 0, 0, 0, 0, 0, 0, 0, 0, 0, 0, 0, 0, 0, 0, 0, 0, 0, 0, 0, 0, 0, 0, 0, 0, 0, 0, 0, 0, 0, 0, 0, 0, 0, 0, 0, 0, 0, 0, 0, 0, 0, 0, 0, 0, 0, 0, 0, 0, 0, 0, 0, 0, 0, 0, 0, 0, 0, 0, 0, 0, 0, 0, 0, 0, 0, 0, 0, 0, 0, 0, 0, 0, 0, 0, 0, 0, 0, 0, 0, 0, 0, 0, 0, 0, 0, 0, 0, 0, 0, 0, 0, 0, 0, 0, 0, 0, 0, 0, 0, 0, 0, 0, 0, 0, 0, 0, 0, 0, 0, 0, 0, 0, 0, 0, 0, 0, 0, 0, 0, 0, 0, 1, 0, 0, 0, 0, 0, 0, 0, 0, 0, 0, 0, 0, 0, 0, 0, 0, 0, 0, 0, 0, 0, 0, 0, 0, 0, 0, 0, 0, 0, 0, 0, 0, 0, 0, 0, 0, 0, 0, 0, 0, 0, 0, 0, 0, 0, 0, 0, 0, 0, 0, 0, 0, 0, 0, 0, 0, 0, 0, 0, 0, 0, 0, 0, 0, 0, 0, 0, 0, 0, 0, 0, 0, 0, 0, 1, 0, 0, 0, 0, 0, 0, 0, 0, 0, 0, 0, 0, 0, 0, 0, 0, 0, 0, 0, 0, 1, 0, 0, 1, 0, 0, 0, 0, 0, 0, 0, 0, 0, 0, 0, 0, 0, 0, 0, 0, 0, 0, 0, 0, 0, 0, 0, 0, 0, 0, 0, 0, 0, 0, 0, 0, 0, 0, 0, 0, 0, 0, 0, 0, 0, 0, 0, 0, 0, 0, 0, 0, 0, 0, 0, 0, 0, 0, 0, 0, 0, 0, 0, 0, 0, 0, 0, 0, 0, 0, 0, 0, 0, 0, 0, 0, 0, 0, 0, 0, 0, 0, 0, 0, 0, 0, 0, 0, 0, 0, 0, 0, 0, 0, 0, 0, 0, 0, 0, 0, 0, 0, 0, 0, 0, 0, 0, 0, 0, 0, 0, 0, 0, 0, 0, 0, 0, 0, 0, 0, 0, 0, 0, 0, 0, 0, 0, 0, 0, 0, 0, 0, 0, 0, 0, 0, 0, 0, 0, 0, 0, 0, 0, 0, 0, 0, 0, 0, 0, 0, 0, 0, 0, 0, 0, 0, 0, 0, 0, 0, 0, 0, 0, 0, 0, 0, 0, 0, 0, 0, 0, 0, 0, 0, 0, 0, 0, 0, 0, 0, 0, 0, 0, 0, 0, 0, 0, 0, 0, 0, 0, 0, 0, 0, 0, 0, 0, 0, 0, 0, 0, 0, 0, 0, 0, 0, 0, 0, 0, 0, 0, 0, 0, 0, 0, 0, 0, 0, 0, 0, 0, 0, 0, 0, 0, 0, 0, 0, 0, 0, 0, 0, 0, 0, 0, 0, 0, 0, 0, 0, 0, 0, 0, 0, 0, 0, 0, 0, 0, 0, 0, 0, 0, 0, 0, 0, 0, 0, 0, 0, 0, 0, 0, 0, 0, 0, 0, 0, 0, 0, 0, 0, 0, 0, 0, 0, 0, 0, 0, 0, 0, 0, 0, 0, 0, 0, 0, 0, 0, 0, 0, 0, 0, 0, 0, 0, 0, 0, 0, 0, 0, 0, 0, 0, 0, 0, 0, 0, 0, 0, 0, 0, 0, 0, 0, 0, 0, 0, 0, 0, 0, 0, 0, 0, 0, 0, 0, 0, 0, 0, 0, 0, 0, 0, 0, 0, 0, 0, 0, 0, 0, 0, 0, 0, 0, 0, 0, 0, 0, 0, 0, 0, 0, 0, 0, 0, 0, 0, 0, 0, 0, 0, 0, 0, 0, 0, 0, 0, 0, 0, 0, 0, 0, 0, 0, 0, 0, 0, 0, 0, 0, 0, 0, 0, 0, 0, 0, 0, 0, 0, 0, 0, 0, 0, 0, 0, 0, 0, 0, 0, 0, 0, 0, 0, 0, 0, 0, 0, 0, 0, 0, 0, 0, 0, 0, 0, 0, 0, 0, 0, 0, 0, 0, 0, 0, 0, 0, 0, 0, 0, 0, 0, 0, 0, 0, 0, 0, 0, 0, 0, 0, 0, 0, 0, 0, 0, 0, 0, 0, 0, 0, 0, 0, 0, 0, 0, 0, 0, 0, 0, 0, 0, 0, 0, 0, 0, 0, 0, 0, 0, 1, 0, 0, 0, 0, 0, 0, 0, 0, 0, 0, 0, 0, 0, 0, 0, 0, 0, 0, 0, 0, 0, 0, 0, 0, 0, 0, 0, 0, 0, 0, 0, 0, 0, 0, 0, 0, 0, 0, 0, 0, 0, 0, 0, 0, 0, 0, 0, 0, 0, 0, 0, 0, 0, 0, 0, 0, 0, 0, 0, 0, 0, 0, 0, 0, 0, 0, 0, 0, 0, 0, 0, 0, 0, 0, 0, 0, 0, 0, 0, 0, 0, 0, 0, 0, 0, 0, 0, 0, 0, 0, 0, 0, 0, 0, 0, 0, 0, 0, 0, 0, 0, 0, 0, 0, 0, 0, 0, 0, 0, 0, 0, 0, 0, 0, 0, 0, 0, 0, 0, 0, 0, 0, 0, 0, 0, 0, 0, 0, 0, 0, 0, 0, 0, 0, 0, 0, 0, 0, 0, 0, 0, 0, 0, 0, 0, 0, 0, 0, 0, 0, 0, 0, 0, 0, 0, 0, 0, 0, 0, 0, 0, 0, 0, 0, 0, 0, 0, 0, 0, 0, 0, 0, 0, 0, 0, 0, 0, 0, 0, 0, 0, 0, 0, 0, 0, 0, 0, 0, 0, 0, 0, 0, 0, 0, 0, 0, 0, 0, 0, 0, 0, 0, 0, 0, 0, 0, 0, 0, 0, 0, 0, 0, 0, 0, 0, 0, 0, 0, 0, 0, 0, 0, 0, 0, 0, 0, 0, 0, 0, 0, 0, 0, 0, 0, 0, 0, 0, 0, 0, 0, 0, 0, 0, 0, 0, 0, 0, 0, 0, 0, 0, 0, 0, 0, 0, 0, 0, 0, 0, 0, 0, 0, 0, 0, 0, 0, 0, 0, 0, 0, 0, 0, 0, 0, 0, 0, 0, 0, 0, 0, 0, 0, 0, 0, 0, 0, 0, 0, 0, 0, 0, 0, 0, 0, 0, 0, 0, 0, 0, 0, 0, 0, 0, 0, 0, 0, 0, 0, 0, 0, 0, 0, 0, 0, 0, 0, 0, 0, 0, 0, 0, 0, 0, 0, 0, 0, 0, 0, 0, 0, 0, 0, 0, 0, 0, 0, 0, 0, 0, 0, 0, 0, 0, 0, 0, 0, 0, 0, 0, 0, 0, 0, 0, 0, 0, 0, 0, 0, 0, 0, 0, 0, 0, 0, 0, 0, 0, 0, 0, 0, 0, 0, 0, 0, 0, 0, 0, 0, 0, 0, 0, 0, 0, 0, 0, 0, 0, 0, 0, 0, 0, 0, 0, 0, 0, 0, 0, 0, 0, 0, 0, 0, 0, 0, 0, 0, 0, 0, 0, 0, 0, 0, 0, 0, 0, 0, 0, 0, 0, 0, 0, 0, 0, 0, 0, 0, 0, 0, 0, 0, 0, 0, 0, 0, 0, 0, 0, 0, 0, 0, 0, 0, 0, 0, 0, 0, 0, 0, 0, 0, 0, 0, 0, 0, 0, 0, 0, 0, 0, 0, 0, 0, 0, 0, 0, 0, 0, 0, 0, 0, 0, 0, 0, 0, 0, 0, 0, 0, 0, 0, 0, 0, 0, 0, 0, 0, 0, 0, 0, 0, 0, 0, 0, 0, 0, 0, 0, 0, 0, 0, 0, 0, 0, 0, 0, 0, 0, 0, 0, 0, 0, 0, 1, 0, 0, 0, 0, 0, 0, 0, 0, 0, 0, 0, 0, 0, 0, 0, 0, 0, 0, 0, 0, 0, 0, 0, 0, 0, 0, 0, 0, 0, 0, 0, 0, 0, 0, 0, 2, 0, 0, 0, 0, 0, 0, 0, 0, 0, 0, 0, 0, 0, 0, 0, 0, 0, 0, 0, 0, 0, 0, 0, 0, 0, 0, 0, 0, 0, 0, 0, 0, 0, 0, 0, 0, 0, 0, 0, 0, 1, 0, 0, 0, 0, 0, 0, 0, 0, 0, 0, 0, 0, 0, 0, 0, 0, 0, 0, 0, 0, 0, 0, 0, 0, 0, 0, 0, 0, 0, 0, 0, 0, 0, 0, 0, 0, 0, 0, 0, 0, 0, 0, 0, 0, 0, 0, 0, 0, 0, 0, 0, 0, 0, 0, 0, 0, 0, 0, 0, 0, 0, 0, 0, 0, 0, 0, 0, 0, 0, 0, 0, 0, 0, 0, 0, 0, 0, 0, 0, 0, 0, 0, 0, 0, 0, 0, 0, 0, 0, 0, 0, 0, 0, 0, 0, 0, 0, 0, 0, 0, 0, 0, 0, 0, 0, 0, 0, 0, 0, 0, 0, 0, 0, 0, 0, 0, 0, 0, 0, 0, 0, 0, 0, 0, 0, 0, 0, 0, 0, 0, 0, 0, 0, 0, 0, 0, 0, 0, 0, 0, 0, 0, 0, 0, 0, 0, 0, 0, 0, 0, 0, 0, 0, 0, 0, 0, 0, 0, 0, 0, 0, 0, 0, 0, 0, 0, 0, 0, 0, 0, 0, 0, 0, 0, 0, 0, 0, 0, 0, 0, 0, 0, 0, 0, 0, 0, 0, 0, 0, 0, 0, 0, 0, 0, 0, 0, 0, 0, 0, 0, 0, 0, 0, 0, 0, 0, 0, 0, 0, 0, 0, 0, 0, 0, 0, 0, 0, 0, 0, 0, 0, 0, 0, 0, 0, 0, 0, 0, 0, 0, 0, 0, 0, 0, 0, 0, 0, 0, 0, 0, 0, 0, 0, 0, 0, 0, 0, 0, 0, 0, 0, 0, 0, 0, 0, 0, 0, 0, 0, 0, 0, 0, 0, 0, 0, 0, 0, 0, 0, 0, 0, 0, 0, 0, 0, 0, 0, 0, 0, 0, 0, 0, 0, 0, 0, 0, 0, 0, 0, 0, 0, 0, 0, 0, 0, 0, 0, 0, 0, 0, 0, 0, 0, 0, 0, 0, 0, 0, 0, 0, 0, 0, 0, 0, 0, 0, 0, 0, 0, 0, 0, 0, 0, 0, 0, 0, 0, 0, 0, 0, 0, 0, 0, 0, 0, 0, 0, 0, 0, 0, 0, 0, 0, 0, 0, 0, 0, 0, 0, 0, 0, 0, 0, 0, 0, 0, 0, 0, 0, 0, 0, 0, 0, 0, 0, 0, 0, 0, 0, 0, 0, 0, 0, 0, 0, 0, 0, 0, 0, 0, 0, 0, 0, 0, 0, 0, 0, 0, 0, 0, 0, 0, 0, 0, 0, 0, 0, 0, 0, 0, 0, 0, 0, 0, 0, 0, 0, 0, 0, 0, 0, 0, 0, 0, 0, 0, 0, 0, 0, 0, 0, 0, 0, 0, 0, 0, 0, 0, 0, 0, 0, 0, 0, 0, 0, 0, 0, 0, 0, 0, 0, 0, 0, 0, 0, 0, 0, 0, 0, 0, 0, 0, 0, 0, 0, 0, 0, 0, 0, 0, 0, 0, 0, 0, 0, 0, 0, 0, 0, 0, 0, 0, 0, 0, 0, 0, 0, 0, 0, 0, 0, 0, 0, 0, 0, 0, 0, 0, 0, 0, 0, 0, 0, 0, 0, 0, 0, 1, 0, 0, 0, 0, 0, 0, 0, 0, 0, 0, 0, 0, 0, 0, 0, 0, 0, 0, 0, 0, 0, 0, 0, 0, 0, 0, 0, 0, 0, 0, 0, 0, 0, 0, 0, 0, 0, 0, 0, 0, 0, 0, 0, 0, 0, 0, 0, 0, 0, 0, 0, 0, 0, 0, 0, 0, 0, 0, 0, 0, 0, 0, 0, 0, 0, 0, 0, 0, 0, 0, 0, 0, 0, 0, 0, 0, 0, 0, 0, 0, 0, 0, 0, 0, 0, 0, 0, 0, 0, 0, 0, 0, 0, 0, 0, 0, 0, 0, 0, 0, 0, 0, 0, 0, 0, 0, 0, 0, 0, 0, 2, 0, 0, 0, 0, 0, 0, 0, 0, 0, 0, 0, 0, 0, 0, 0, 0, 0, 0, 0, 0, 0, 0, 0, 0, 0, 0, 0, 0, 0, 0, 0, 0, 0, 0, 0, 0, 0, 0, 0, 0, 0, 0, 0, 0, 0, 0, 0, 0, 0, 0, 0, 0, 0, 0, 0, 0, 0, 0, 0, 0, 0, 0, 0, 0, 0, 0, 0, 0, 0, 0, 0, 0, 0, 0, 0, 0, 0, 0, 0, 0, 0, 0, 0, 0, 0, 0, 0, 0, 0, 0, 0, 0, 0, 0, 0, 0, 0, 0, 0, 0, 0, 0, 0, 0, 0, 0, 0, 0, 0, 0, 0, 0, 0, 0, 0, 0, 0, 0, 0, 0, 0, 0, 0, 0, 0, 0, 0, 0, 0, 0, 0, 0, 0, 0, 0, 0, 0, 0, 0, 0, 0, 0, 0, 0, 0, 0, 0, 0, 0, 0, 0, 0, 0, 0, 0, 0, 0, 0, 0, 0, 0, 0, 0, 0, 0, 0, 0, 0, 0, 0, 0, 0, 0, 0, 0, 0, 0, 0, 0, 0, 0, 0, 0, 0, 0, 0, 0, 0, 0, 0, 0, 0, 0, 0, 0, 0, 0, 0, 0, 0, 0, 0, 0, 0, 0, 0, 0, 0, 0, 0, 0, 0, 0, 0, 0, 0, 0, 0, 0, 0, 0, 0, 0, 0, 0, 0, 0, 0, 0, 0, 0, 0, 0, 0, 0, 0, 0, 0, 0, 0, 0, 0, 0, 0, 0, 0, 0, 0, 0, 0, 0, 0, 0, 0, 0, 0, 0, 0, 0, 0, 0, 0, 0, 0, 0, 0, 0, 0, 0, 0, 0, 0, 0, 0, 0, 0, 0, 0, 0, 0, 0, 0, 0, 0, 0, 0, 0, 0, 0, 0, 0, 0, 0, 0, 0, 0, 0, 0, 0, 0, 0, 0, 0, 0, 0, 0, 0, 0, 0, 0, 0, 0, 0, 0, 0, 0, 0, 0, 0, 0, 0, 0, 0, 0, 0, 0, 0, 0, 0, 0, 0, 0, 0, 0, 0, 0, 0, 0, 0, 0, 0, 0, 0, 0, 0, 0, 0, 0, 0, 0, 0, 0, 0, 0, 0, 0, 0, 0, 0, 0, 0, 0, 0, 0, 0, 0, 0, 0, 0, 0, 0, 0, 0, 0, 0, 0, 0, 0, 0, 0, 0, 0, 0, 0, 0, 0, 0, 0, 0, 0, 0, 0, 0, 0, 0, 0, 0, 0, 0, 0, 0, 0, 0, 0, 0, 0, 0, 0, 0, 0, 0, 0, 0, 0, 0, 0, 0, 0, 0, 0, 0, 0, 0, 0, 0, 0, 0, 0, 0, 0, 0, 0, 0, 0, 0, 0, 0, 0, 0, 0, 0, 0, 0, 0, 0, 0, 0, 0, 0, 0, 0, 0, 0, 0, 0, 0, 0, 0, 0, 0, 0, 0, 0, 0, 0, 0, 0, 0, 0, 0, 0, 0, 0, 0, 0, 0, 0, 0, 0, 0, 0, 0, 0, 0, 0, 0, 0, 0, 0, 0, 0, 0, 0, 0, 0, 0, 0, 0, 0, 0, 0, 0, 0, 0, 0, 0, 0, 0, 0, 0, 0, 0, 0, 0, 0, 0, 0, 0, 0, 0, 0, 0, 0, 0, 0, 0, 0, 0, 0, 0, 0, 0, 0, 0, 0, 0, 0, 0, 0, 0, 0, 0, 0, 0, 0, 0, 0, 0, 0, 0, 0, 0, 0, 0, 0, 0, 0, 0, 0, 0, 0, 0, 0, 0, 0, 0, 0, 0, 0, 0, 0, 0, 0, 0, 0, 0, 0, 0, 0, 0, 0, 0, 0, 0, 0, 0, 0, 0, 0, 0, 0, 0, 0, 0, 0, 0, 0, 0, 0, 0, 0, 0, 0, 0, 0, 0, 0, 0, 0, 0, 0, 0, 0, 0, 0, 0, 0, 0, 0, 0, 0, 0, 0, 0, 0, 0, 0, 0, 0, 0, 0, 0, 0, 0, 0, 0, 0, 0, 0, 0, 0, 0, 0, 0, 0, 0, 0, 0, 0, 0, 0, 0, 0, 0, 0, 0, 0, 0, 0, 0, 0, 0, 0, 0, 0, 0, 0, 0, 0, 0, 0, 0, 0, 0, 0, 0, 0, 0, 0, 0, 0, 0, 0, 0, 0, 0, 0, 0, 0, 0, 1, 0, 0, 0, 0, 0, 0, 0, 0, 0, 0, 0, 0, 0, 0, 0, 0, 0, 0, 0, 0, 0, 0, 0, 0, 0, 0, 0, 0, 0, 0, 0, 0, 0, 0, 0, 0, 0, 0, 0, 0, 0, 0, 0, 0, 0, 0, 0, 0, 0, 0, 0, 0, 0, 0, 0, 0, 0, 0, 0, 0, 0, 0, 0, 0, 0, 0, 0, 0, 0, 0, 0, 0, 0, 0, 0, 0, 0, 0, 0, 0, 0, 0, 0, 0, 0, 0, 0, 0, 0, 0, 0, 0, 0, 0, 0, 0, 0, 0, 0, 0, 0, 0, 0, 0, 0, 0, 0, 1, 0, 0, 0, 0, 0, 0, 0, 0, 0, 0, 0, 0, 0, 0, 0, 0, 0, 0, 0, 0, 0, 0, 0, 0, 0, 0, 0, 0, 0, 0, 0, 0, 0, 0, 0, 0, 0, 0, 0, 0, 0, 0, 0, 0, 0, 0, 0, 0, 0, 0, 0, 0, 0, 0, 0, 0, 0, 0, 0, 0, 0, 0, 0, 0, 0, 0, 0, 0, 0, 0, 0, 0, 0, 0, 0, 0, 0, 0, 0, 0, 0, 0, 0, 0, 0, 0, 0, 0, 0, 0, 0, 0, 0, 0, 0, 0, 0, 0, 0, 0, 0, 0, 0, 0, 0, 0, 0, 0, 0, 0, 0, 0, 0, 0, 0, 0, 0, 0, 0, 0, 0, 0, 0, 0, 0, 0, 0, 0, 0, 0, 0, 0, 0, 0, 0, 0, 0, 0, 0, 0, 0, 0, 0, 0, 0, 0, 0, 0, 0, 0, 0, 0, 0, 0, 0, 0, 0, 0, 0, 0, 0, 0, 0, 0, 0, 0, 0, 0, 0, 0, 0, 0, 0, 0, 0, 0, 0, 0, 0, 0, 0, 0, 0, 0, 0, 0, 0, 0, 0, 0, 0, 0, 0, 0, 0, 0, 0, 0, 0, 0, 0, 0, 0, 0, 0, 0, 0, 0, 0, 0, 0, 0, 0, 0, 0, 0, 0, 0, 0, 0, 0, 0, 0, 0, 0, 0, 0, 0, 0, 0, 0, 0, 0, 0, 0, 0, 0, 0, 0, 0, 0, 0, 0, 0, 0, 0, 0, 0, 0, 0, 0, 0, 0, 0, 0, 0, 0, 0, 0, 0, 0, 0, 0, 0, 0, 0, 0, 0, 0, 0, 0, 0, 0, 0, 0, 0, 0, 0, 0, 0, 0, 0, 0, 0, 0, 0, 0, 0, 0, 0, 0, 0, 0, 0, 0, 0, 0, 0, 0, 0, 0, 0, 0, 0, 0, 0, 0, 0, 0, 0, 0, 0, 0, 0, 0, 0, 0, 0, 0, 0, 0, 0, 0, 0, 0, 0, 0, 0, 0, 0, 0, 0, 0, 0, 0, 0, 0, 0, 0, 0, 0, 0, 0, 0, 0, 0, 0, 0, 0, 0, 0, 0, 0, 0, 0, 0, 0, 0, 0, 0, 0, 0, 0, 0, 0, 0, 0, 0, 0, 0, 0, 0, 0, 0, 0, 0, 0, 0, 0, 0, 0, 0, 0, 0, 0, 0, 0, 0, 0, 0, 0, 0, 0, 0, 0, 0, 0, 0, 0, 0, 0, 0, 0, 0, 0, 0, 0, 0, 0, 0, 0, 0, 0, 0, 0, 0, 0, 0, 0, 0, 0, 0, 0, 0, 0, 0, 0, 0, 0, 0, 0, 0, 0, 0, 0, 0, 0, 0, 0, 0, 0, 0, 0, 0, 0, 0, 0, 0, 0, 0, 0, 0, 0, 0, 0, 0, 0, 0, 0, 0, 0, 0, 0, 2, 0, 1, 0], type: <class 'list'>, valid types: <class 'bytes'>, <class 'bytearray'>, file-like object",
     "output_type": "error",
     "traceback": [
      "\u001b[0;31m---------------------------------------------------------------------------\u001b[0m",
      "\u001b[0;31mParamValidationError\u001b[0m                      Traceback (most recent call last)",
      "\u001b[0;32m<ipython-input-50-c9ab54ae3a48>\u001b[0m in \u001b[0;36m<module>\u001b[0;34m\u001b[0m\n\u001b[1;32m      1\u001b[0m response = runtime.invoke_endpoint(EndpointName = xgb_predictor.endpoint, # The name of the endpoint we created\n\u001b[1;32m      2\u001b[0m                                        \u001b[0mContentType\u001b[0m \u001b[0;34m=\u001b[0m \u001b[0;34m'text/csv'\u001b[0m\u001b[0;34m,\u001b[0m                     \u001b[0;31m# The data format that is expected\u001b[0m\u001b[0;34m\u001b[0m\u001b[0;34m\u001b[0m\u001b[0m\n\u001b[0;32m----> 3\u001b[0;31m                                        Body = test_bow)\n\u001b[0m",
      "\u001b[0;32m~/anaconda3/envs/python3/lib/python3.6/site-packages/botocore/client.py\u001b[0m in \u001b[0;36m_api_call\u001b[0;34m(self, *args, **kwargs)\u001b[0m\n\u001b[1;32m    355\u001b[0m                     \"%s() only accepts keyword arguments.\" % py_operation_name)\n\u001b[1;32m    356\u001b[0m             \u001b[0;31m# The \"self\" in this scope is referring to the BaseClient.\u001b[0m\u001b[0;34m\u001b[0m\u001b[0;34m\u001b[0m\u001b[0;34m\u001b[0m\u001b[0m\n\u001b[0;32m--> 357\u001b[0;31m             \u001b[0;32mreturn\u001b[0m \u001b[0mself\u001b[0m\u001b[0;34m.\u001b[0m\u001b[0m_make_api_call\u001b[0m\u001b[0;34m(\u001b[0m\u001b[0moperation_name\u001b[0m\u001b[0;34m,\u001b[0m \u001b[0mkwargs\u001b[0m\u001b[0;34m)\u001b[0m\u001b[0;34m\u001b[0m\u001b[0;34m\u001b[0m\u001b[0m\n\u001b[0m\u001b[1;32m    358\u001b[0m \u001b[0;34m\u001b[0m\u001b[0m\n\u001b[1;32m    359\u001b[0m         \u001b[0m_api_call\u001b[0m\u001b[0;34m.\u001b[0m\u001b[0m__name__\u001b[0m \u001b[0;34m=\u001b[0m \u001b[0mstr\u001b[0m\u001b[0;34m(\u001b[0m\u001b[0mpy_operation_name\u001b[0m\u001b[0;34m)\u001b[0m\u001b[0;34m\u001b[0m\u001b[0;34m\u001b[0m\u001b[0m\n",
      "\u001b[0;32m~/anaconda3/envs/python3/lib/python3.6/site-packages/botocore/client.py\u001b[0m in \u001b[0;36m_make_api_call\u001b[0;34m(self, operation_name, api_params)\u001b[0m\n\u001b[1;32m    647\u001b[0m         }\n\u001b[1;32m    648\u001b[0m         request_dict = self._convert_to_request_dict(\n\u001b[0;32m--> 649\u001b[0;31m             api_params, operation_model, context=request_context)\n\u001b[0m\u001b[1;32m    650\u001b[0m \u001b[0;34m\u001b[0m\u001b[0m\n\u001b[1;32m    651\u001b[0m         \u001b[0mservice_id\u001b[0m \u001b[0;34m=\u001b[0m \u001b[0mself\u001b[0m\u001b[0;34m.\u001b[0m\u001b[0m_service_model\u001b[0m\u001b[0;34m.\u001b[0m\u001b[0mservice_id\u001b[0m\u001b[0;34m.\u001b[0m\u001b[0mhyphenize\u001b[0m\u001b[0;34m(\u001b[0m\u001b[0;34m)\u001b[0m\u001b[0;34m\u001b[0m\u001b[0;34m\u001b[0m\u001b[0m\n",
      "\u001b[0;32m~/anaconda3/envs/python3/lib/python3.6/site-packages/botocore/client.py\u001b[0m in \u001b[0;36m_convert_to_request_dict\u001b[0;34m(self, api_params, operation_model, context)\u001b[0m\n\u001b[1;32m    695\u001b[0m             api_params, operation_model, context)\n\u001b[1;32m    696\u001b[0m         request_dict = self._serializer.serialize_to_request(\n\u001b[0;32m--> 697\u001b[0;31m             api_params, operation_model)\n\u001b[0m\u001b[1;32m    698\u001b[0m         \u001b[0;32mif\u001b[0m \u001b[0;32mnot\u001b[0m \u001b[0mself\u001b[0m\u001b[0;34m.\u001b[0m\u001b[0m_client_config\u001b[0m\u001b[0;34m.\u001b[0m\u001b[0minject_host_prefix\u001b[0m\u001b[0;34m:\u001b[0m\u001b[0;34m\u001b[0m\u001b[0;34m\u001b[0m\u001b[0m\n\u001b[1;32m    699\u001b[0m             \u001b[0mrequest_dict\u001b[0m\u001b[0;34m.\u001b[0m\u001b[0mpop\u001b[0m\u001b[0;34m(\u001b[0m\u001b[0;34m'host_prefix'\u001b[0m\u001b[0;34m,\u001b[0m \u001b[0;32mNone\u001b[0m\u001b[0;34m)\u001b[0m\u001b[0;34m\u001b[0m\u001b[0;34m\u001b[0m\u001b[0m\n",
      "\u001b[0;32m~/anaconda3/envs/python3/lib/python3.6/site-packages/botocore/validate.py\u001b[0m in \u001b[0;36mserialize_to_request\u001b[0;34m(self, parameters, operation_model)\u001b[0m\n\u001b[1;32m    291\u001b[0m                                                     operation_model.input_shape)\n\u001b[1;32m    292\u001b[0m             \u001b[0;32mif\u001b[0m \u001b[0mreport\u001b[0m\u001b[0;34m.\u001b[0m\u001b[0mhas_errors\u001b[0m\u001b[0;34m(\u001b[0m\u001b[0;34m)\u001b[0m\u001b[0;34m:\u001b[0m\u001b[0;34m\u001b[0m\u001b[0;34m\u001b[0m\u001b[0m\n\u001b[0;32m--> 293\u001b[0;31m                 \u001b[0;32mraise\u001b[0m \u001b[0mParamValidationError\u001b[0m\u001b[0;34m(\u001b[0m\u001b[0mreport\u001b[0m\u001b[0;34m=\u001b[0m\u001b[0mreport\u001b[0m\u001b[0;34m.\u001b[0m\u001b[0mgenerate_report\u001b[0m\u001b[0;34m(\u001b[0m\u001b[0;34m)\u001b[0m\u001b[0;34m)\u001b[0m\u001b[0;34m\u001b[0m\u001b[0;34m\u001b[0m\u001b[0m\n\u001b[0m\u001b[1;32m    294\u001b[0m         return self._serializer.serialize_to_request(parameters,\n\u001b[1;32m    295\u001b[0m                                                      operation_model)\n",
      "\u001b[0;31mParamValidationError\u001b[0m: Parameter validation failed:\nInvalid type for parameter Body, value: [0, 0, 0, 0, 0, 0, 0, 0, 0, 0, 0, 0, 0, 0, 0, 0, 0, 0, 0, 0, 0, 0, 0, 0, 0, 0, 0, 0, 0, 0, 0, 0, 0, 0, 0, 0, 0, 0, 0, 0, 0, 0, 0, 0, 0, 0, 0, 0, 0, 0, 0, 0, 0, 0, 0, 0, 0, 0, 0, 0, 0, 0, 0, 0, 0, 0, 0, 0, 0, 0, 0, 0, 0, 0, 0, 0, 0, 0, 0, 0, 0, 0, 0, 0, 0, 0, 0, 0, 0, 0, 0, 0, 0, 0, 0, 0, 0, 0, 0, 0, 0, 0, 0, 0, 0, 0, 0, 0, 0, 0, 0, 0, 0, 0, 0, 0, 0, 0, 0, 0, 0, 0, 0, 0, 0, 0, 0, 0, 0, 0, 0, 0, 0, 0, 0, 0, 0, 0, 0, 0, 0, 0, 0, 0, 0, 0, 0, 0, 0, 0, 0, 0, 0, 0, 0, 0, 0, 0, 0, 0, 0, 0, 0, 0, 0, 0, 0, 0, 0, 0, 0, 0, 0, 0, 0, 0, 0, 0, 0, 0, 0, 0, 0, 0, 0, 0, 0, 0, 0, 0, 0, 0, 0, 0, 0, 0, 0, 0, 0, 0, 0, 0, 0, 0, 0, 0, 0, 0, 0, 0, 0, 0, 0, 0, 0, 0, 0, 0, 0, 0, 0, 0, 0, 0, 0, 0, 1, 0, 0, 0, 0, 0, 0, 0, 0, 0, 0, 0, 0, 0, 0, 0, 0, 0, 0, 0, 0, 0, 0, 0, 0, 0, 0, 0, 0, 0, 1, 0, 0, 0, 0, 0, 0, 0, 0, 0, 0, 0, 0, 0, 0, 0, 0, 0, 0, 0, 0, 0, 0, 0, 0, 0, 0, 0, 0, 0, 0, 0, 0, 0, 0, 0, 0, 0, 0, 0, 0, 0, 0, 0, 0, 0, 0, 0, 0, 0, 0, 0, 0, 0, 0, 0, 0, 0, 0, 0, 0, 0, 0, 0, 0, 0, 0, 0, 0, 0, 0, 0, 0, 0, 0, 0, 0, 0, 0, 0, 0, 0, 0, 0, 0, 0, 0, 0, 0, 0, 0, 0, 0, 0, 0, 0, 0, 0, 0, 0, 0, 0, 0, 0, 0, 0, 0, 0, 0, 0, 0, 0, 0, 0, 0, 0, 0, 0, 0, 0, 0, 0, 0, 0, 0, 0, 0, 0, 0, 0, 0, 0, 0, 0, 0, 0, 0, 0, 0, 0, 0, 0, 0, 0, 0, 0, 0, 0, 0, 0, 0, 0, 0, 0, 0, 0, 0, 0, 0, 0, 0, 0, 0, 0, 0, 0, 0, 0, 0, 0, 0, 0, 0, 0, 0, 0, 0, 0, 0, 0, 0, 0, 0, 0, 0, 0, 0, 0, 0, 0, 0, 0, 0, 0, 0, 0, 0, 0, 0, 0, 0, 0, 0, 0, 0, 0, 0, 0, 0, 0, 0, 0, 0, 0, 0, 0, 0, 0, 0, 0, 0, 0, 0, 0, 0, 0, 0, 0, 0, 0, 0, 0, 0, 0, 0, 0, 0, 0, 0, 0, 0, 0, 0, 0, 0, 0, 0, 0, 0, 0, 0, 0, 0, 0, 0, 0, 0, 0, 0, 0, 0, 0, 0, 0, 0, 0, 0, 0, 0, 0, 0, 0, 0, 0, 0, 0, 0, 0, 0, 0, 0, 0, 0, 0, 0, 0, 0, 0, 0, 0, 0, 0, 0, 0, 0, 0, 0, 0, 0, 0, 0, 0, 0, 0, 0, 0, 0, 0, 0, 0, 0, 0, 0, 0, 0, 0, 0, 0, 0, 0, 0, 0, 0, 0, 0, 0, 0, 0, 0, 0, 0, 0, 0, 0, 0, 0, 0, 0, 0, 0, 0, 0, 0, 0, 0, 0, 0, 0, 0, 0, 0, 0, 0, 0, 0, 0, 0, 0, 0, 0, 0, 0, 0, 0, 0, 0, 0, 0, 0, 0, 0, 0, 0, 0, 0, 0, 0, 0, 0, 0, 1, 0, 0, 0, 0, 0, 0, 0, 0, 0, 0, 0, 0, 0, 0, 0, 0, 0, 0, 0, 0, 0, 0, 0, 0, 0, 0, 0, 0, 0, 0, 0, 0, 0, 0, 0, 0, 0, 0, 0, 0, 0, 0, 0, 0, 0, 0, 0, 0, 0, 0, 0, 0, 0, 0, 0, 0, 0, 0, 0, 0, 0, 0, 0, 0, 0, 0, 0, 0, 0, 0, 0, 0, 0, 0, 0, 0, 0, 0, 0, 0, 0, 0, 0, 0, 0, 0, 0, 0, 0, 0, 0, 0, 0, 0, 0, 0, 0, 0, 0, 0, 0, 0, 0, 0, 0, 0, 0, 0, 0, 0, 0, 0, 0, 0, 0, 0, 0, 0, 0, 0, 0, 0, 0, 0, 0, 0, 0, 0, 0, 0, 0, 0, 0, 0, 0, 0, 0, 0, 0, 0, 0, 0, 0, 0, 0, 0, 0, 0, 0, 0, 0, 0, 0, 0, 0, 0, 0, 0, 0, 0, 0, 0, 0, 0, 0, 0, 0, 0, 0, 0, 0, 0, 0, 0, 0, 0, 0, 0, 0, 0, 0, 0, 0, 0, 0, 0, 0, 0, 0, 0, 0, 0, 0, 0, 0, 0, 0, 0, 0, 0, 0, 0, 0, 0, 0, 0, 0, 0, 0, 0, 0, 0, 0, 0, 0, 0, 0, 0, 0, 0, 0, 0, 0, 0, 0, 0, 0, 0, 0, 0, 0, 0, 0, 0, 0, 0, 0, 0, 0, 0, 0, 0, 0, 0, 0, 0, 0, 0, 0, 0, 0, 0, 0, 1, 0, 0, 0, 0, 0, 0, 0, 0, 0, 0, 0, 0, 0, 0, 0, 0, 0, 0, 0, 0, 0, 0, 0, 0, 0, 0, 0, 0, 0, 0, 0, 0, 0, 0, 0, 0, 0, 0, 0, 0, 0, 0, 0, 0, 0, 0, 0, 0, 0, 0, 0, 0, 0, 0, 0, 0, 0, 0, 0, 0, 0, 0, 0, 0, 0, 0, 0, 0, 0, 0, 0, 0, 0, 0, 0, 0, 0, 0, 0, 0, 0, 0, 0, 0, 0, 0, 1, 0, 0, 0, 0, 0, 0, 0, 0, 0, 0, 0, 0, 0, 0, 0, 0, 0, 0, 0, 0, 0, 0, 0, 0, 0, 0, 0, 0, 0, 0, 0, 0, 0, 0, 0, 0, 0, 0, 0, 0, 0, 0, 0, 0, 0, 0, 0, 0, 0, 0, 0, 0, 0, 0, 0, 0, 0, 0, 0, 0, 0, 0, 0, 0, 0, 0, 0, 0, 0, 0, 0, 0, 0, 0, 0, 0, 0, 0, 0, 0, 0, 0, 0, 0, 0, 0, 0, 0, 0, 0, 0, 0, 0, 0, 0, 0, 0, 0, 0, 0, 0, 0, 0, 0, 0, 0, 0, 0, 0, 0, 0, 0, 0, 0, 0, 0, 0, 0, 0, 0, 0, 0, 0, 0, 0, 0, 0, 0, 0, 0, 0, 0, 0, 0, 0, 0, 0, 0, 0, 0, 0, 0, 0, 0, 0, 0, 0, 0, 0, 0, 0, 0, 0, 0, 0, 0, 0, 0, 0, 0, 0, 0, 0, 0, 0, 0, 0, 0, 0, 0, 0, 0, 0, 0, 0, 0, 0, 0, 0, 0, 0, 0, 0, 0, 0, 0, 0, 0, 0, 0, 0, 0, 0, 0, 0, 0, 0, 0, 0, 0, 0, 0, 0, 0, 0, 0, 0, 0, 0, 0, 0, 0, 0, 0, 0, 0, 0, 0, 0, 0, 0, 0, 0, 0, 0, 0, 0, 0, 0, 0, 0, 0, 0, 0, 0, 0, 0, 0, 0, 0, 0, 0, 0, 0, 0, 0, 0, 0, 0, 0, 0, 0, 1, 0, 0, 0, 0, 0, 0, 0, 0, 0, 0, 0, 0, 0, 0, 0, 0, 0, 0, 0, 0, 0, 0, 0, 0, 0, 0, 0, 0, 0, 0, 0, 0, 0, 0, 0, 0, 0, 0, 0, 0, 0, 0, 0, 0, 0, 0, 0, 0, 0, 0, 0, 0, 0, 0, 0, 1, 0, 0, 0, 0, 0, 0, 0, 0, 0, 0, 0, 0, 0, 0, 0, 0, 0, 0, 0, 0, 0, 0, 0, 0, 0, 0, 0, 0, 0, 0, 0, 0, 0, 0, 0, 0, 0, 0, 0, 0, 0, 0, 0, 0, 0, 0, 0, 0, 0, 0, 0, 0, 0, 0, 0, 0, 0, 0, 0, 0, 0, 0, 0, 0, 0, 0, 0, 0, 0, 0, 0, 0, 0, 0, 0, 0, 0, 0, 0, 0, 0, 0, 0, 0, 0, 0, 0, 0, 0, 0, 0, 0, 0, 0, 0, 0, 0, 0, 0, 0, 0, 0, 0, 0, 0, 0, 0, 0, 0, 0, 0, 0, 0, 0, 0, 0, 0, 0, 0, 0, 0, 0, 0, 0, 0, 0, 0, 0, 0, 0, 0, 0, 0, 0, 0, 0, 0, 0, 0, 0, 0, 0, 0, 0, 0, 0, 0, 0, 0, 0, 0, 0, 0, 0, 0, 0, 0, 0, 0, 0, 0, 0, 0, 0, 0, 0, 0, 0, 0, 0, 0, 0, 0, 0, 0, 0, 0, 0, 0, 0, 0, 0, 0, 0, 0, 0, 0, 0, 0, 0, 0, 0, 0, 0, 0, 0, 0, 0, 0, 0, 0, 0, 0, 0, 0, 0, 0, 0, 0, 0, 0, 0, 0, 0, 0, 0, 0, 0, 0, 0, 0, 0, 0, 0, 0, 0, 0, 0, 0, 0, 0, 0, 0, 0, 0, 0, 0, 0, 0, 0, 0, 0, 0, 0, 0, 0, 0, 0, 0, 0, 0, 0, 0, 0, 0, 0, 0, 0, 0, 0, 0, 0, 0, 0, 0, 0, 0, 0, 0, 0, 0, 0, 0, 0, 0, 0, 0, 0, 0, 0, 0, 0, 0, 0, 0, 0, 0, 0, 0, 0, 0, 0, 0, 0, 0, 0, 0, 0, 0, 0, 0, 0, 0, 0, 0, 0, 0, 0, 0, 0, 0, 0, 0, 0, 0, 0, 0, 0, 0, 0, 0, 0, 0, 0, 0, 0, 0, 0, 0, 0, 0, 0, 0, 0, 0, 0, 0, 0, 0, 0, 0, 0, 0, 0, 0, 0, 0, 0, 0, 0, 0, 0, 0, 0, 0, 0, 0, 0, 0, 0, 0, 0, 0, 0, 0, 0, 0, 0, 0, 0, 0, 0, 0, 0, 0, 0, 0, 0, 0, 0, 0, 0, 0, 0, 0, 0, 0, 0, 0, 0, 0, 0, 0, 0, 0, 0, 0, 0, 0, 0, 0, 0, 0, 0, 0, 0, 0, 0, 0, 0, 0, 0, 0, 0, 0, 0, 0, 0, 0, 0, 0, 0, 0, 0, 0, 0, 0, 0, 0, 0, 0, 0, 0, 0, 0, 0, 0, 0, 0, 0, 0, 0, 0, 0, 0, 0, 0, 0, 0, 0, 0, 0, 0, 0, 0, 0, 0, 0, 0, 0, 0, 0, 0, 0, 0, 0, 0, 0, 0, 0, 0, 0, 0, 0, 0, 0, 0, 0, 0, 0, 0, 0, 0, 0, 0, 0, 0, 0, 0, 0, 0, 0, 0, 0, 0, 0, 0, 0, 0, 0, 0, 0, 0, 0, 0, 0, 0, 0, 0, 0, 0, 0, 0, 0, 0, 0, 0, 0, 0, 0, 0, 0, 0, 0, 0, 0, 0, 0, 0, 0, 0, 0, 0, 0, 0, 0, 0, 0, 0, 0, 0, 0, 0, 0, 0, 0, 0, 0, 0, 0, 0, 0, 0, 0, 0, 0, 0, 0, 0, 0, 0, 0, 0, 0, 0, 0, 0, 0, 0, 0, 0, 0, 0, 0, 0, 0, 0, 0, 0, 0, 0, 0, 0, 0, 0, 0, 0, 0, 0, 0, 0, 0, 0, 0, 0, 0, 0, 0, 0, 0, 0, 0, 0, 0, 0, 0, 0, 0, 0, 0, 0, 0, 0, 0, 0, 0, 0, 0, 0, 0, 0, 0, 0, 0, 0, 0, 0, 0, 0, 0, 0, 0, 0, 0, 0, 0, 0, 0, 0, 0, 0, 0, 0, 0, 0, 0, 0, 0, 0, 0, 0, 0, 0, 0, 0, 0, 0, 0, 0, 0, 0, 0, 0, 0, 0, 0, 0, 0, 0, 0, 0, 0, 0, 0, 0, 0, 0, 0, 0, 0, 0, 1, 0, 0, 0, 0, 0, 0, 0, 0, 0, 0, 0, 0, 0, 0, 0, 0, 0, 0, 0, 0, 0, 0, 0, 0, 0, 0, 0, 0, 0, 0, 0, 0, 0, 0, 0, 0, 0, 0, 0, 0, 0, 0, 0, 0, 0, 0, 0, 0, 0, 0, 0, 0, 0, 0, 0, 0, 0, 0, 0, 0, 0, 0, 0, 0, 0, 0, 0, 0, 0, 0, 0, 0, 0, 0, 1, 0, 0, 0, 0, 0, 0, 0, 0, 0, 0, 0, 0, 0, 0, 0, 0, 0, 0, 0, 0, 1, 0, 0, 1, 0, 0, 0, 0, 0, 0, 0, 0, 0, 0, 0, 0, 0, 0, 0, 0, 0, 0, 0, 0, 0, 0, 0, 0, 0, 0, 0, 0, 0, 0, 0, 0, 0, 0, 0, 0, 0, 0, 0, 0, 0, 0, 0, 0, 0, 0, 0, 0, 0, 0, 0, 0, 0, 0, 0, 0, 0, 0, 0, 0, 0, 0, 0, 0, 0, 0, 0, 0, 0, 0, 0, 0, 0, 0, 0, 0, 0, 0, 0, 0, 0, 0, 0, 0, 0, 0, 0, 0, 0, 0, 0, 0, 0, 0, 0, 0, 0, 0, 0, 0, 0, 0, 0, 0, 0, 0, 0, 0, 0, 0, 0, 0, 0, 0, 0, 0, 0, 0, 0, 0, 0, 0, 0, 0, 0, 0, 0, 0, 0, 0, 0, 0, 0, 0, 0, 0, 0, 0, 0, 0, 0, 0, 0, 0, 0, 0, 0, 0, 0, 0, 0, 0, 0, 0, 0, 0, 0, 0, 0, 0, 0, 0, 0, 0, 0, 0, 0, 0, 0, 0, 0, 0, 0, 0, 0, 0, 0, 0, 0, 0, 0, 0, 0, 0, 0, 0, 0, 0, 0, 0, 0, 0, 0, 0, 0, 0, 0, 0, 0, 0, 0, 0, 0, 0, 0, 0, 0, 0, 0, 0, 0, 0, 0, 0, 0, 0, 0, 0, 0, 0, 0, 0, 0, 0, 0, 0, 0, 0, 0, 0, 0, 0, 0, 0, 0, 0, 0, 0, 0, 0, 0, 0, 0, 0, 0, 0, 0, 0, 0, 0, 0, 0, 0, 0, 0, 0, 0, 0, 0, 0, 0, 0, 0, 0, 0, 0, 0, 0, 0, 0, 0, 0, 0, 0, 0, 0, 0, 0, 0, 0, 0, 0, 0, 0, 0, 0, 0, 0, 0, 0, 0, 0, 0, 0, 0, 0, 0, 0, 0, 0, 0, 0, 0, 0, 0, 0, 0, 0, 0, 0, 0, 0, 0, 0, 0, 0, 0, 0, 0, 0, 0, 0, 0, 0, 0, 0, 0, 0, 0, 0, 0, 0, 0, 0, 0, 0, 0, 0, 0, 0, 0, 0, 0, 0, 0, 0, 0, 0, 0, 0, 0, 0, 0, 0, 0, 0, 0, 0, 0, 0, 0, 0, 0, 0, 0, 0, 0, 0, 0, 0, 0, 0, 0, 0, 0, 0, 0, 0, 0, 0, 0, 0, 0, 0, 0, 0, 0, 0, 0, 0, 0, 0, 0, 0, 0, 0, 0, 0, 0, 0, 0, 0, 0, 0, 0, 0, 0, 0, 0, 0, 0, 0, 0, 0, 0, 0, 0, 0, 0, 0, 0, 0, 0, 0, 0, 0, 0, 0, 0, 0, 0, 0, 0, 0, 0, 0, 0, 0, 0, 0, 0, 0, 0, 0, 0, 0, 0, 0, 0, 0, 0, 0, 0, 0, 0, 0, 0, 0, 0, 0, 0, 0, 0, 0, 0, 0, 1, 0, 0, 0, 0, 0, 0, 0, 0, 0, 0, 0, 0, 0, 0, 0, 0, 0, 0, 0, 0, 0, 0, 0, 0, 0, 0, 0, 0, 0, 0, 0, 0, 0, 0, 0, 0, 0, 0, 0, 0, 0, 0, 0, 0, 0, 0, 0, 0, 0, 0, 0, 0, 0, 0, 0, 0, 0, 0, 0, 0, 0, 0, 0, 0, 0, 0, 0, 0, 0, 0, 0, 0, 0, 0, 0, 0, 0, 0, 0, 0, 0, 0, 0, 0, 0, 0, 0, 0, 0, 0, 0, 0, 0, 0, 0, 0, 0, 0, 0, 0, 0, 0, 0, 0, 0, 0, 0, 0, 0, 0, 0, 0, 0, 0, 0, 0, 0, 0, 0, 0, 0, 0, 0, 0, 0, 0, 0, 0, 0, 0, 0, 0, 0, 0, 0, 0, 0, 0, 0, 0, 0, 0, 0, 0, 0, 0, 0, 0, 0, 0, 0, 0, 0, 0, 0, 0, 0, 0, 0, 0, 0, 0, 0, 0, 0, 0, 0, 0, 0, 0, 0, 0, 0, 0, 0, 0, 0, 0, 0, 0, 0, 0, 0, 0, 0, 0, 0, 0, 0, 0, 0, 0, 0, 0, 0, 0, 0, 0, 0, 0, 0, 0, 0, 0, 0, 0, 0, 0, 0, 0, 0, 0, 0, 0, 0, 0, 0, 0, 0, 0, 0, 0, 0, 0, 0, 0, 0, 0, 0, 0, 0, 0, 0, 0, 0, 0, 0, 0, 0, 0, 0, 0, 0, 0, 0, 0, 0, 0, 0, 0, 0, 0, 0, 0, 0, 0, 0, 0, 0, 0, 0, 0, 0, 0, 0, 0, 0, 0, 0, 0, 0, 0, 0, 0, 0, 0, 0, 0, 0, 0, 0, 0, 0, 0, 0, 0, 0, 0, 0, 0, 0, 0, 0, 0, 0, 0, 0, 0, 0, 0, 0, 0, 0, 0, 0, 0, 0, 0, 0, 0, 0, 0, 0, 0, 0, 0, 0, 0, 0, 0, 0, 0, 0, 0, 0, 0, 0, 0, 0, 0, 0, 0, 0, 0, 0, 0, 0, 0, 0, 0, 0, 0, 0, 0, 0, 0, 0, 0, 0, 0, 0, 0, 0, 0, 0, 0, 0, 0, 0, 0, 0, 0, 0, 0, 0, 0, 0, 0, 0, 0, 0, 0, 0, 0, 0, 0, 0, 0, 0, 0, 0, 0, 0, 0, 0, 0, 0, 0, 0, 0, 0, 0, 0, 0, 0, 0, 0, 0, 0, 0, 0, 0, 0, 0, 0, 0, 0, 0, 0, 0, 0, 0, 0, 0, 0, 0, 0, 0, 0, 0, 0, 0, 0, 0, 0, 0, 0, 0, 0, 0, 0, 0, 0, 0, 0, 0, 0, 0, 0, 0, 0, 0, 0, 0, 0, 0, 0, 0, 0, 0, 0, 0, 0, 0, 0, 0, 0, 0, 0, 0, 0, 0, 0, 0, 0, 0, 0, 0, 0, 0, 0, 0, 0, 0, 0, 0, 0, 0, 0, 0, 0, 0, 0, 0, 0, 0, 0, 0, 0, 0, 0, 0, 0, 0, 0, 0, 0, 0, 0, 0, 0, 0, 0, 0, 0, 0, 0, 0, 0, 0, 0, 0, 1, 0, 0, 0, 0, 0, 0, 0, 0, 0, 0, 0, 0, 0, 0, 0, 0, 0, 0, 0, 0, 0, 0, 0, 0, 0, 0, 0, 0, 0, 0, 0, 0, 0, 0, 0, 2, 0, 0, 0, 0, 0, 0, 0, 0, 0, 0, 0, 0, 0, 0, 0, 0, 0, 0, 0, 0, 0, 0, 0, 0, 0, 0, 0, 0, 0, 0, 0, 0, 0, 0, 0, 0, 0, 0, 0, 0, 1, 0, 0, 0, 0, 0, 0, 0, 0, 0, 0, 0, 0, 0, 0, 0, 0, 0, 0, 0, 0, 0, 0, 0, 0, 0, 0, 0, 0, 0, 0, 0, 0, 0, 0, 0, 0, 0, 0, 0, 0, 0, 0, 0, 0, 0, 0, 0, 0, 0, 0, 0, 0, 0, 0, 0, 0, 0, 0, 0, 0, 0, 0, 0, 0, 0, 0, 0, 0, 0, 0, 0, 0, 0, 0, 0, 0, 0, 0, 0, 0, 0, 0, 0, 0, 0, 0, 0, 0, 0, 0, 0, 0, 0, 0, 0, 0, 0, 0, 0, 0, 0, 0, 0, 0, 0, 0, 0, 0, 0, 0, 0, 0, 0, 0, 0, 0, 0, 0, 0, 0, 0, 0, 0, 0, 0, 0, 0, 0, 0, 0, 0, 0, 0, 0, 0, 0, 0, 0, 0, 0, 0, 0, 0, 0, 0, 0, 0, 0, 0, 0, 0, 0, 0, 0, 0, 0, 0, 0, 0, 0, 0, 0, 0, 0, 0, 0, 0, 0, 0, 0, 0, 0, 0, 0, 0, 0, 0, 0, 0, 0, 0, 0, 0, 0, 0, 0, 0, 0, 0, 0, 0, 0, 0, 0, 0, 0, 0, 0, 0, 0, 0, 0, 0, 0, 0, 0, 0, 0, 0, 0, 0, 0, 0, 0, 0, 0, 0, 0, 0, 0, 0, 0, 0, 0, 0, 0, 0, 0, 0, 0, 0, 0, 0, 0, 0, 0, 0, 0, 0, 0, 0, 0, 0, 0, 0, 0, 0, 0, 0, 0, 0, 0, 0, 0, 0, 0, 0, 0, 0, 0, 0, 0, 0, 0, 0, 0, 0, 0, 0, 0, 0, 0, 0, 0, 0, 0, 0, 0, 0, 0, 0, 0, 0, 0, 0, 0, 0, 0, 0, 0, 0, 0, 0, 0, 0, 0, 0, 0, 0, 0, 0, 0, 0, 0, 0, 0, 0, 0, 0, 0, 0, 0, 0, 0, 0, 0, 0, 0, 0, 0, 0, 0, 0, 0, 0, 0, 0, 0, 0, 0, 0, 0, 0, 0, 0, 0, 0, 0, 0, 0, 0, 0, 0, 0, 0, 0, 0, 0, 0, 0, 0, 0, 0, 0, 0, 0, 0, 0, 0, 0, 0, 0, 0, 0, 0, 0, 0, 0, 0, 0, 0, 0, 0, 0, 0, 0, 0, 0, 0, 0, 0, 0, 0, 0, 0, 0, 0, 0, 0, 0, 0, 0, 0, 0, 0, 0, 0, 0, 0, 0, 0, 0, 0, 0, 0, 0, 0, 0, 0, 0, 0, 0, 0, 0, 0, 0, 0, 0, 0, 0, 0, 0, 0, 0, 0, 0, 0, 0, 0, 0, 0, 0, 0, 0, 0, 0, 0, 0, 0, 0, 0, 0, 0, 0, 0, 0, 0, 0, 0, 0, 0, 0, 0, 0, 0, 0, 0, 0, 0, 0, 0, 0, 0, 0, 0, 0, 0, 0, 0, 0, 0, 0, 0, 0, 0, 0, 0, 0, 0, 0, 0, 0, 0, 0, 0, 0, 0, 0, 0, 0, 0, 0, 0, 0, 0, 0, 0, 1, 0, 0, 0, 0, 0, 0, 0, 0, 0, 0, 0, 0, 0, 0, 0, 0, 0, 0, 0, 0, 0, 0, 0, 0, 0, 0, 0, 0, 0, 0, 0, 0, 0, 0, 0, 0, 0, 0, 0, 0, 0, 0, 0, 0, 0, 0, 0, 0, 0, 0, 0, 0, 0, 0, 0, 0, 0, 0, 0, 0, 0, 0, 0, 0, 0, 0, 0, 0, 0, 0, 0, 0, 0, 0, 0, 0, 0, 0, 0, 0, 0, 0, 0, 0, 0, 0, 0, 0, 0, 0, 0, 0, 0, 0, 0, 0, 0, 0, 0, 0, 0, 0, 0, 0, 0, 0, 0, 0, 0, 0, 2, 0, 0, 0, 0, 0, 0, 0, 0, 0, 0, 0, 0, 0, 0, 0, 0, 0, 0, 0, 0, 0, 0, 0, 0, 0, 0, 0, 0, 0, 0, 0, 0, 0, 0, 0, 0, 0, 0, 0, 0, 0, 0, 0, 0, 0, 0, 0, 0, 0, 0, 0, 0, 0, 0, 0, 0, 0, 0, 0, 0, 0, 0, 0, 0, 0, 0, 0, 0, 0, 0, 0, 0, 0, 0, 0, 0, 0, 0, 0, 0, 0, 0, 0, 0, 0, 0, 0, 0, 0, 0, 0, 0, 0, 0, 0, 0, 0, 0, 0, 0, 0, 0, 0, 0, 0, 0, 0, 0, 0, 0, 0, 0, 0, 0, 0, 0, 0, 0, 0, 0, 0, 0, 0, 0, 0, 0, 0, 0, 0, 0, 0, 0, 0, 0, 0, 0, 0, 0, 0, 0, 0, 0, 0, 0, 0, 0, 0, 0, 0, 0, 0, 0, 0, 0, 0, 0, 0, 0, 0, 0, 0, 0, 0, 0, 0, 0, 0, 0, 0, 0, 0, 0, 0, 0, 0, 0, 0, 0, 0, 0, 0, 0, 0, 0, 0, 0, 0, 0, 0, 0, 0, 0, 0, 0, 0, 0, 0, 0, 0, 0, 0, 0, 0, 0, 0, 0, 0, 0, 0, 0, 0, 0, 0, 0, 0, 0, 0, 0, 0, 0, 0, 0, 0, 0, 0, 0, 0, 0, 0, 0, 0, 0, 0, 0, 0, 0, 0, 0, 0, 0, 0, 0, 0, 0, 0, 0, 0, 0, 0, 0, 0, 0, 0, 0, 0, 0, 0, 0, 0, 0, 0, 0, 0, 0, 0, 0, 0, 0, 0, 0, 0, 0, 0, 0, 0, 0, 0, 0, 0, 0, 0, 0, 0, 0, 0, 0, 0, 0, 0, 0, 0, 0, 0, 0, 0, 0, 0, 0, 0, 0, 0, 0, 0, 0, 0, 0, 0, 0, 0, 0, 0, 0, 0, 0, 0, 0, 0, 0, 0, 0, 0, 0, 0, 0, 0, 0, 0, 0, 0, 0, 0, 0, 0, 0, 0, 0, 0, 0, 0, 0, 0, 0, 0, 0, 0, 0, 0, 0, 0, 0, 0, 0, 0, 0, 0, 0, 0, 0, 0, 0, 0, 0, 0, 0, 0, 0, 0, 0, 0, 0, 0, 0, 0, 0, 0, 0, 0, 0, 0, 0, 0, 0, 0, 0, 0, 0, 0, 0, 0, 0, 0, 0, 0, 0, 0, 0, 0, 0, 0, 0, 0, 0, 0, 0, 0, 0, 0, 0, 0, 0, 0, 0, 0, 0, 0, 0, 0, 0, 0, 0, 0, 0, 0, 0, 0, 0, 0, 0, 0, 0, 0, 0, 0, 0, 0, 0, 0, 0, 0, 0, 0, 0, 0, 0, 0, 0, 0, 0, 0, 0, 0, 0, 0, 0, 0, 0, 0, 0, 0, 0, 0, 0, 0, 0, 0, 0, 0, 0, 0, 0, 0, 0, 0, 0, 0, 0, 0, 0, 0, 0, 0, 0, 0, 0, 0, 0, 0, 0, 0, 0, 0, 0, 0, 0, 0, 0, 0, 0, 0, 0, 0, 0, 0, 0, 0, 0, 0, 0, 0, 0, 0, 0, 0, 0, 0, 0, 0, 0, 0, 0, 0, 0, 0, 0, 0, 0, 0, 0, 0, 0, 0, 0, 0, 0, 0, 0, 0, 0, 0, 0, 0, 0, 0, 0, 0, 0, 0, 0, 0, 0, 0, 0, 0, 0, 0, 0, 0, 0, 0, 0, 0, 0, 0, 0, 0, 0, 0, 0, 0, 0, 0, 0, 0, 0, 0, 0, 0, 0, 0, 0, 0, 0, 0, 0, 0, 0, 0, 0, 0, 0, 0, 0, 0, 0, 0, 0, 0, 0, 0, 0, 0, 0, 0, 0, 0, 0, 0, 0, 0, 0, 0, 0, 0, 0, 0, 0, 0, 0, 0, 0, 0, 0, 0, 0, 0, 0, 0, 0, 0, 0, 0, 0, 0, 0, 0, 0, 0, 0, 0, 0, 0, 0, 0, 0, 0, 0, 0, 0, 0, 0, 0, 0, 0, 0, 0, 0, 0, 0, 0, 0, 0, 0, 0, 0, 0, 0, 0, 0, 0, 0, 0, 0, 0, 0, 0, 0, 0, 0, 0, 0, 0, 0, 0, 0, 0, 0, 0, 0, 0, 0, 1, 0, 0, 0, 0, 0, 0, 0, 0, 0, 0, 0, 0, 0, 0, 0, 0, 0, 0, 0, 0, 0, 0, 0, 0, 0, 0, 0, 0, 0, 0, 0, 0, 0, 0, 0, 0, 0, 0, 0, 0, 0, 0, 0, 0, 0, 0, 0, 0, 0, 0, 0, 0, 0, 0, 0, 0, 0, 0, 0, 0, 0, 0, 0, 0, 0, 0, 0, 0, 0, 0, 0, 0, 0, 0, 0, 0, 0, 0, 0, 0, 0, 0, 0, 0, 0, 0, 0, 0, 0, 0, 0, 0, 0, 0, 0, 0, 0, 0, 0, 0, 0, 0, 0, 0, 0, 0, 0, 1, 0, 0, 0, 0, 0, 0, 0, 0, 0, 0, 0, 0, 0, 0, 0, 0, 0, 0, 0, 0, 0, 0, 0, 0, 0, 0, 0, 0, 0, 0, 0, 0, 0, 0, 0, 0, 0, 0, 0, 0, 0, 0, 0, 0, 0, 0, 0, 0, 0, 0, 0, 0, 0, 0, 0, 0, 0, 0, 0, 0, 0, 0, 0, 0, 0, 0, 0, 0, 0, 0, 0, 0, 0, 0, 0, 0, 0, 0, 0, 0, 0, 0, 0, 0, 0, 0, 0, 0, 0, 0, 0, 0, 0, 0, 0, 0, 0, 0, 0, 0, 0, 0, 0, 0, 0, 0, 0, 0, 0, 0, 0, 0, 0, 0, 0, 0, 0, 0, 0, 0, 0, 0, 0, 0, 0, 0, 0, 0, 0, 0, 0, 0, 0, 0, 0, 0, 0, 0, 0, 0, 0, 0, 0, 0, 0, 0, 0, 0, 0, 0, 0, 0, 0, 0, 0, 0, 0, 0, 0, 0, 0, 0, 0, 0, 0, 0, 0, 0, 0, 0, 0, 0, 0, 0, 0, 0, 0, 0, 0, 0, 0, 0, 0, 0, 0, 0, 0, 0, 0, 0, 0, 0, 0, 0, 0, 0, 0, 0, 0, 0, 0, 0, 0, 0, 0, 0, 0, 0, 0, 0, 0, 0, 0, 0, 0, 0, 0, 0, 0, 0, 0, 0, 0, 0, 0, 0, 0, 0, 0, 0, 0, 0, 0, 0, 0, 0, 0, 0, 0, 0, 0, 0, 0, 0, 0, 0, 0, 0, 0, 0, 0, 0, 0, 0, 0, 0, 0, 0, 0, 0, 0, 0, 0, 0, 0, 0, 0, 0, 0, 0, 0, 0, 0, 0, 0, 0, 0, 0, 0, 0, 0, 0, 0, 0, 0, 0, 0, 0, 0, 0, 0, 0, 0, 0, 0, 0, 0, 0, 0, 0, 0, 0, 0, 0, 0, 0, 0, 0, 0, 0, 0, 0, 0, 0, 0, 0, 0, 0, 0, 0, 0, 0, 0, 0, 0, 0, 0, 0, 0, 0, 0, 0, 0, 0, 0, 0, 0, 0, 0, 0, 0, 0, 0, 0, 0, 0, 0, 0, 0, 0, 0, 0, 0, 0, 0, 0, 0, 0, 0, 0, 0, 0, 0, 0, 0, 0, 0, 0, 0, 0, 0, 0, 0, 0, 0, 0, 0, 0, 0, 0, 0, 0, 0, 0, 0, 0, 0, 0, 0, 0, 0, 0, 0, 0, 0, 0, 0, 0, 0, 0, 0, 0, 0, 0, 0, 0, 0, 0, 0, 0, 0, 0, 0, 0, 0, 0, 0, 0, 0, 0, 0, 0, 0, 0, 0, 0, 0, 0, 0, 0, 0, 0, 0, 0, 0, 0, 0, 0, 0, 0, 0, 0, 0, 0, 0, 0, 0, 0, 0, 0, 0, 0, 0, 0, 0, 0, 0, 0, 0, 0, 0, 0, 0, 2, 0, 1, 0], type: <class 'list'>, valid types: <class 'bytes'>, <class 'bytearray'>, file-like object"
     ]
    }
   ],
   "source": [
    "response = runtime.invoke_endpoint(EndpointName = xgb_predictor.endpoint, # The name of the endpoint we created\n",
    "                                       ContentType = 'text/csv',                     # The data format that is expected\n",
    "                                       Body = test_bow)"
   ]
  },
  {
   "cell_type": "markdown",
   "metadata": {},
   "source": [
    "So why did we get an error?\n",
    "\n",
    "Because we tried to send the endpoint a list of integers but it expected us to send data of type `text/csv`. So, we need to convert it."
   ]
  },
  {
   "cell_type": "code",
   "execution_count": 51,
   "metadata": {},
   "outputs": [],
   "source": [
    "response = runtime.invoke_endpoint(EndpointName = xgb_predictor.endpoint, # The name of the endpoint we created\n",
    "                                       ContentType = 'text/csv',                     # The data format that is expected\n",
    "                                       Body = ','.join([str(val) for val in test_bow]).encode('utf-8'))"
   ]
  },
  {
   "cell_type": "code",
   "execution_count": 52,
   "metadata": {},
   "outputs": [
    {
     "name": "stdout",
     "output_type": "stream",
     "text": [
      "{'ResponseMetadata': {'RequestId': 'ab0b348c-d59c-40a2-a702-cebcf48b88eb', 'HTTPStatusCode': 200, 'HTTPHeaders': {'x-amzn-requestid': 'ab0b348c-d59c-40a2-a702-cebcf48b88eb', 'x-amzn-invoked-production-variant': 'AllTraffic', 'date': 'Fri, 26 Mar 2021 05:07:19 GMT', 'content-type': 'text/csv; charset=utf-8', 'content-length': '18'}, 'RetryAttempts': 0}, 'ContentType': 'text/csv; charset=utf-8', 'InvokedProductionVariant': 'AllTraffic', 'Body': <botocore.response.StreamingBody object at 0x7ff32cd45860>}\n"
     ]
    }
   ],
   "source": [
    "print(response)"
   ]
  },
  {
   "cell_type": "markdown",
   "metadata": {},
   "source": [
    "As we can see, the response from our model is a somewhat complicated looking dict that contains a bunch of information. The bit that we are most interested in is `'Body'` object which is a streaming object that we need to `read` in order to make use of."
   ]
  },
  {
   "cell_type": "code",
   "execution_count": 53,
   "metadata": {},
   "outputs": [
    {
     "name": "stdout",
     "output_type": "stream",
     "text": [
      "0.4859122931957245\n"
     ]
    }
   ],
   "source": [
    "response = response['Body'].read().decode('utf-8')\n",
    "print(response)"
   ]
  },
  {
   "cell_type": "markdown",
   "metadata": {},
   "source": [
    "Now that we know how to process the incoming user data we can start setting up the infrastructure to make our simple web app work. To do this we will make use of two different services. Amazon's Lambda and API Gateway services.\n",
    "\n",
    "Lambda is a service which allows someone to write some relatively simple code and have it executed whenever a chosen trigger occurs. For example, you may want to update a database whenever new data is uploaded to a folder stored on S3.\n",
    "\n",
    "API Gateway is a service that allows you to create HTTP endpoints (url addresses) which are connected to other AWS services. One of the benefits to this is that you get to decide what credentials, if any, are required to access these endpoints.\n",
    "\n",
    "In our case we are going to set up an HTTP endpoint through API Gateway which is open to the public. Then, whenever anyone sends data to our public endpoint we will trigger a Lambda function which will send the input (in our case a review) to our model's endpoint and then return the result."
   ]
  },
  {
   "cell_type": "markdown",
   "metadata": {},
   "source": [
    "### Setting up a Lambda function\n",
    "\n",
    "The first thing we are going to do is set up a Lambda function. This Lambda function will be executed whenever our public API has data sent to it. When it is executed it will receive the data, perform any sort of processing that is required, send the data (the review) to the SageMaker endpoint we've created and then return the result.\n",
    "\n",
    "#### Part A: Create an IAM Role for the Lambda function\n",
    "\n",
    "Since we want the Lambda function to call a SageMaker endpoint, we need to make sure that it has permission to do so. To do this, we will construct a role that we can later give the Lambda function.\n",
    "\n",
    "Using the AWS Console, navigate to the **IAM** page and click on **Roles**. Then, click on **Create role**. Make sure that the **AWS service** is the type of trusted entity selected and choose **Lambda** as the service that will use this role, then click **Next: Permissions**.\n",
    "\n",
    "In the search box type `sagemaker` and select the check box next to the **AmazonSageMakerFullAccess** policy. Then, click on **Next: Review**.\n",
    "\n",
    "Lastly, give this role a name. Make sure you use a name that you will remember later on, for example `LambdaSageMakerRole`. Then, click on **Create role**."
   ]
  },
  {
   "cell_type": "markdown",
   "metadata": {},
   "source": [
    "#### Part B: Create a Lambda function\n",
    "\n",
    "Now it is time to actually create the Lambda function. Remember from earlier that in order to process the user provided input and send it to our endpoint we need to gather two pieces of information:\n",
    "\n",
    " - The name of the endpoint, and\n",
    " - the vocabulary object.\n",
    "\n",
    "We will copy these pieces of information to our Lambda function after we create it.\n",
    "\n",
    "To start, using the AWS Console, navigate to the AWS Lambda page and click on **Create a function**. When you get to the next page, make sure that **Author from scratch** is selected. Now, name your Lambda function, using a name that you will remember later on, for example `sentiment_analysis_xgboost_func`. Make sure that the **Python 3.6** runtime is selected and then choose the role that you created in the previous part. Then, click on **Create Function**.\n",
    "\n",
    "On the next page you will see some information about the Lambda function you've just created. If you scroll down you should see an editor in which you can write the code that will be executed when your Lambda function is triggered. Collecting the code we wrote above to process a single review and adding it to the provided example `lambda_handler` we arrive at the following.\n",
    "\n",
    "```python\n",
    "# We need to use the low-level library to interact with SageMaker since the SageMaker API\n",
    "# is not available natively through Lambda.\n",
    "import boto3\n",
    "\n",
    "# And we need the regular expression library to do some of the data processing\n",
    "import re\n",
    "\n",
    "REPLACE_NO_SPACE = re.compile(\"(\\.)|(\\;)|(\\:)|(\\!)|(\\')|(\\?)|(\\,)|(\\\")|(\\()|(\\))|(\\[)|(\\])\")\n",
    "REPLACE_WITH_SPACE = re.compile(\"(<br\\s*/><br\\s*/>)|(\\-)|(\\/)\")\n",
    "\n",
    "def review_to_words(review):\n",
    "    words = REPLACE_NO_SPACE.sub(\"\", review.lower())\n",
    "    words = REPLACE_WITH_SPACE.sub(\" \", words)\n",
    "    return words\n",
    "    \n",
    "def bow_encoding(words, vocabulary):\n",
    "    bow = [0] * len(vocabulary) # Start by setting the count for each word in the vocabulary to zero.\n",
    "    for word in words.split():  # For each word in the string\n",
    "        if word in vocabulary:  # If the word is one that occurs in the vocabulary, increase its count.\n",
    "            bow[vocabulary[word]] += 1\n",
    "    return bow\n",
    "\n",
    "\n",
    "def lambda_handler(event, context):\n",
    "    \n",
    "    vocab = \"*** ACTUAL VOCABULARY GOES HERE ***\"\n",
    "    \n",
    "    words = review_to_words(event['body'])\n",
    "    bow = bow_encoding(words, vocab)\n",
    "\n",
    "    # The SageMaker runtime is what allows us to invoke the endpoint that we've created.\n",
    "    runtime = boto3.Session().client('sagemaker-runtime')\n",
    "\n",
    "    # Now we use the SageMaker runtime to invoke our endpoint, sending the review we were given\n",
    "    response = runtime.invoke_endpoint(EndpointName = '***ENDPOINT NAME HERE***',# The name of the endpoint we created\n",
    "                                       ContentType = 'text/csv',                 # The data format that is expected\n",
    "                                       Body = ','.join([str(val) for val in bow]).encode('utf-8')) # The actual review\n",
    "\n",
    "    # The response is an HTTP response whose body contains the result of our inference\n",
    "    result = response['Body'].read().decode('utf-8')\n",
    "    \n",
    "    # Round the result so that our web app only gets '1' or '0' as a response.\n",
    "    result = round(float(result))\n",
    "\n",
    "    return {\n",
    "        'statusCode' : 200,\n",
    "        'headers' : { 'Content-Type' : 'text/plain', 'Access-Control-Allow-Origin' : '*' },\n",
    "        'body' : str(result)\n",
    "    }\n",
    "```"
   ]
  },
  {
   "cell_type": "markdown",
   "metadata": {},
   "source": [
    "Once you have copy and pasted the code above into the Lambda code editor, replace the `**ENDPOINT NAME HERE**` portion with the name of the endpoint that we deployed earlier. You can determine the name of the endpoint using the code cell below."
   ]
  },
  {
   "cell_type": "code",
   "execution_count": 54,
   "metadata": {},
   "outputs": [
    {
     "data": {
      "text/plain": [
       "'xgboost-2021-03-26-04-27-38-343'"
      ]
     },
     "execution_count": 54,
     "metadata": {},
     "output_type": "execute_result"
    }
   ],
   "source": [
    "xgb_predictor.endpoint"
   ]
  },
  {
   "cell_type": "markdown",
   "metadata": {},
   "source": [
    "In addition, you will need to copy the vocabulary dict to the appropriate place in the code at the beginning of the `lambda_handler` method. The cell below prints out the vocabulary dict in a way that is easy to copy and paste."
   ]
  },
  {
   "cell_type": "code",
   "execution_count": 55,
   "metadata": {},
   "outputs": [
    {
     "name": "stdout",
     "output_type": "stream",
     "text": [
      "{'havent': 2053, 'yet': 4984, 'read': 3543, 'kurt': 2499, 'mother': 2911, 'night': 3013, 'though': 4461, 'ive': 2372, 'other': 3135, 'books': 536, 'of': 3083, 'his': 2118, 'all': 187, 'outstanding': 3147, 'pieces': 3273, 'satire': 3788, 'and': 226, 'game': 1864, 'changing': 752, 'novel': 3052, 'after': 143, 'seeing': 3857, 'film': 1716, 'adaptation': 113, 'book': 535, 'it': 2366, 'will': 4886, 'be': 418, 'an': 223, 'must': 2950, 'in': 2257, 'the': 4426, 'near': 2979, 'future': 1856, 'its': 2370, 'kind': 2476, 'material': 2766, 'that': 4424, 'im': 2232, 'sure': 4308, 'if': 2222, 'wasnt': 4807, 'made': 2697, 'as': 311, 'would': 4957, 'picked': 3266, 'up': 4683, 'right': 3696, 'away': 369, 'today': 4508, 'time': 4495, 'period': 3236, 'when': 4862, 'many': 2732, 'post': 3352, 'present': 3374, 'movies': 2927, 'are': 285, 'quite': 3495, 'popular': 3333, 'except': 1556, 'this': 4457, 'is': 2360, 'much': 2934, 'darker': 1116, 'even': 1533, 'more': 2904, 'about': 67, 'nature': 2975, 'playing': 3300, 'roles': 3727, 'real': 3547, 'underlying': 4641, 'horror': 2168, 'living': 2629, 'with': 4911, 'life': 2592, 'war': 4792, 'than': 4420, 'say': 3799, 'very': 4723, 'danger': 1109, 'pretending': 3382, 'which': 4867, 'what': 4858, 'being': 448, 'spy': 4135, 'really': 3556, 'one': 3107, 'thing': 4450, 'had': 2003, 'script': 3834, 'lot': 2661, 'emotional': 1459, 'depth': 1190, 'complexity': 924, 'moral': 2902, 'choice': 797, 'constant': 957, 'role': 3726, 'ends': 1474, 'for': 1784, 'howard': 2182, 'nick': 3012, 'does': 1308, 'but': 636, 'also': 199, 'just': 2437, 'strong': 4229, 'cinematic': 818, 'technique': 4383, 'gordon': 1940, 'not': 3040, 'someone': 4064, 'usually': 4700, 'think': 4452, 'director': 1264, 'so': 4046, 'back': 378, 'to': 4507, 'him': 2110, 'actor': 103, 'oddly': 3081, 'enough': 1491, 'featured': 1679, 'briefly': 580, 'himself': 2111, 'school': 3813, 'revelation': 3674, 'he': 2056, 'takes': 4351, 'story': 4207, 'campbell': 663, 'german': 1896, 'propaganda': 3435, 'master': 2757, 'only': 3110, 'american': 213, 'left': 2561, 'berlin': 467, 'who': 4871, 'actually': 109, 'americans': 214, 'can': 665, 'never': 3001, 'have': 2052, 'identity': 2217, 'revealed': 3671, 'was': 4805, 'before': 440, 'nation': 2969, 'two': 4620, 'wife': 4884, 'lee': 2559, 'follows': 1775, 'from': 1840, 'prison': 3401, 'cell': 730, 'trial': 4580, 'writes': 4970, 'tells': 4397, 'pretend': 3381, 'nazi': 2977, 'then': 4436, 'semi': 3874, 'hiding': 2099, 'new': 3003, 'york': 4985, 'apartment': 265, 'where': 4864, 'place': 3282, 'heavy': 2070, 'like': 2599, 'on': 3105, 'level': 2584, 'might': 2835, 'another': 250, 'poetry': 3314, 'by': 642, 'way': 4820, 'trying': 4601, 'give': 1912, 'us': 4690, 'look': 2646, 'at': 331, 'man': 2721, 'has': 2043, 'nothing': 3047, 'memory': 2804, 'later': 2525, 'weird': 4841, 'long': 2644, 'lost': 2660, 'love': 2669, 'sister': 4001, 'come': 886, 'nyc': 3065, 'hes': 2093, 'own': 3158, 'alan': 171, 'good': 1937, 'here': 2086, 'found': 1811, 'out': 3141, 'white': 4870, 'leading': 2547, 'surface': 4310, 'should': 3951, 'something': 4066, 'mans': 2730, 'ultimately': 4628, 'those': 4460, 'characters': 760, 'could': 1007, 'hours': 2177, 'end': 1468, 'same': 3778, 'reached': 3537, 'line': 2610, 'said': 3774, 'bigger': 479, 'lie': 2590, 'people': 3221, 'believe': 454, 'few': 1700, 'started': 4157, 'know': 2489, 'secret': 3849, 'power': 3359, 'oh': 3096, 'were': 4848, 'wonderful': 4928, 'tragic': 4552, 'comic': 893, 'tale': 4353, 'or': 3124, 'featuring': 1681, 'some': 4061, 'fantastic': 1651, 'performances': 3229, 'best': 469, 'we': 4823, 'remember': 3616, 'twin': 4615, 'laura': 2536, 'multiple': 2936, 'especially': 1520, 'scene': 3809, 'she': 3923, 'reveals': 3673, 'shes': 3930, 'shot': 3949, 'brilliant': 583, 'lighting': 2596, 'shots': 3950, 'reflect': 3584, 'state': 4160, 'mind': 2849, 'character': 758, 'colors': 879, 'watch': 4811, 'old': 3100, 'watches': 4814, 'younger': 4990, 'self': 3869, 'faces': 1618, 'great': 1964, 'music': 2946, 'rise': 3702, 'tragedy': 4551, 'too': 4522, 'times': 4497, 'past': 3207, 'usual': 4699, 'dramatic': 1348, 'makes': 2716, 'human': 2188, 'always': 203, 'easy': 1410, 'take': 4349, 'emotionally': 1460, 'twists': 4619, 'do': 1302, 'any': 256, 'sticks': 4186, 'through': 4477, 'taking': 4352, 'appearance': 274, 'performance': 3228, 'art': 304, 'death': 1141, 'making': 2718, 'into': 2332, 'worth': 4953, 'no': 3020, 'idea': 2213, 'better': 472, 'around': 297, 'moment': 2886, 'hard': 2033, 'me': 2778, 'recommend': 3571, 'anyone': 259, 'looking': 2648, 'masterpiece': 2759, 'storytelling': 4209, 'find': 1726, 'movie': 2926, 'mostly': 2910, 'dialogue': 1234, 'my': 2951, 'house': 2178, 'video': 4733, 'store': 4204, 'seen': 3865, 'yes': 4982, 'reviewers': 3678, 'well': 4843, 'beautifully': 429, 'photographed': 3258, 'although': 201, 'opening': 3114, 'sequence': 3887, 'children': 792, 'violent': 4748, 'acted': 98, 'convincing': 985, 'most': 2909, 'part': 3193, 'strip': 4228, 'corpse': 999, 'middle': 2833, 'town': 4541, 'square': 4136, 'full': 1846, 'view': 4736, 'dead': 1132, '10': 0, 'year': 4978, 'boy': 557, 'minor': 2857, 'detail': 1217, 'point': 3316, 'feel': 1684, 'non': 3027, 'magical': 2704, 'set': 3898, 'spanish': 4092, 'civil': 826, 'fast': 1661, 'forward': 1808, 'three': 4469, 'survived': 4322, 'incident': 2260, 'age': 148, 'working': 4944, 'boys': 559, 'both': 547, 'patients': 3212, 'hey': 2095, 'happen': 2026, 'problem': 3408, 'fans': 1650, 'exception': 1557, 'their': 4431, 'motivations': 2915, 'personalities': 3241, 'often': 3095, 'simply': 3986, 'incoherent': 2265, 'whats': 4860, 'horrific': 2166, 'prepared': 3371, 'lots': 2662, 'pain': 3170, 'blood': 512, 'reviewer': 3677, 'called': 652, 'track': 4544, 'been': 438, '40': 48, 'years': 4979, 'ago': 154, 'poster': 3353, 'wouldve': 4959, 'see': 3855, 'forbidden': 1785, 'rape': 3521, 'murder': 2939, 'animal': 239, 'nearly': 2981, 'make': 2713, 'relationships': 3598, 'believable': 453, 'work': 4940, 'flashbacks': 1747, 'flesh': 1753, 'seems': 3864, 'bizarre': 492, 'depressing': 1188, 'cross': 1066, 'between': 475, 'brother': 598, 'sun': 4292, 'moon': 2900, 'pulp': 3465, 'fiction': 1702, 'sounds': 4084, 'youve': 4995, 'got': 1944, 'means': 2783, 'enjoy': 1484, 'go': 1924, 'doesnt': 1309, 'need': 2987, 'shower': 3957, 'off': 3084, 'gore': 1941, 'fairly': 1631, 'different': 1248, 'surprised': 4313, 'comment': 898, 'apparently': 270, 'needed': 2988, 'subtitles': 4259, 'understand': 4643, 'youd': 4987, 'bergman': 466, 'warner': 4799, 'sadly': 3769, 'suffers': 4278, 'difficult': 1249, 'major': 2711, 'plot': 3309, 'seem': 3861, 'brain': 562, 'begins': 444, 'coming': 896, 'family': 1645, 'everything': 1544, 'things': 4451, 'couldnt': 1008, 'perfect': 3224, 'until': 4680, 'fay': 1674, 'dies': 1245, 'stock': 4193, 'market': 2740, 'familys': 1646, 'fortune': 1806, 'forced': 1787, 'home': 2142, 'france': 1816, 'portion': 3338, 'bit': 488, 'sweet': 4336, 'bad': 382, 'improved': 2255, 'returns': 3668, 'four': 1812, 'now': 3054, 'grown': 1984, 'there': 4438, 'isnt': 2362, 'reason': 3557, 'why': 4878, 'theyd': 4443, 'hire': 2116, 'her': 2085, 'once': 3106, 'again': 146, 'occurs': 3078, 'sons': 4073, 'david': 1124, 'brings': 587, 'susan': 4326, 'miss': 2866, 'black': 493, 'others': 3136, 'while': 4868, 'they': 4442, 'obviously': 3072, 'devil': 1228, 'worse': 4951, 'comes': 891, 'live': 2625, 'gets': 1900, 'dumb': 1385, 'affair': 135, 'brothers': 599, 'father': 1666, 'sees': 3866, 'lovers': 2673, 'enters': 1496, 'room': 3735, 'jack': 2373, 'person': 3238, 'save': 3794, 'butt': 638, 'evil': 1548, 'woman': 4921, 'exactly': 1551, 'sort': 4077, 'excuse': 1564, 'get': 1899, 'rid': 3690, 'case': 707, 'lousy': 2667, 'writing': 4971, 'likely': 2601, 'did': 1241, 'audiences': 353, 'rest': 3657, 'consists': 955, 'failed': 1626, 'opportunity': 3121, 'exposed': 1598, 'flies': 1756, 'against': 147, 'common': 906, 'sense': 3877, 'silly': 3976, 'melodramatic': 2798, 'mess': 2818, 'expected': 1577, 'however': 2183, 'truth': 4599, 'eventually': 1537, 'everyone': 1542, 'happy': 2032, 'big': 478, 'loving': 2675, 'because': 432, 'poor': 3328, 'least': 2554, 'how': 2181, 'handled': 2019, 'having': 2054, 'second': 3846, 'rate': 3526, 'soap': 4047, 'saves': 3796, 'acting': 99, 'tried': 4584, 'suffice': 4279, 'pictures': 3270, 'writers': 4969, 'refreshing': 3586, 'enjoyable': 1485, 'you': 4986, 'enjoyed': 1486, 'funeral': 1849, 'peters': 3248, 'friends': 1837, 'etc': 1527, 'number': 3060, 'familiar': 1643, 'talented': 4355, 'actors': 104, 'laugh': 2529, 'sad': 3767, 'entertainment': 1500, 'english': 1483, 'generally': 1881, 'fit': 1740, 'bill': 481, 'try': 4600, 'figure': 1711, 'anti': 254, 'simple': 3983, 'apparent': 269, 'wonder': 4926, 'anything': 260, 'theyre': 4445, 'introduce': 2336, 'lives': 2628, 'introduction': 2339, 'them': 4432, 'parents': 3188, 'alcoholic': 177, 'totally': 4532, 'touch': 4533, 'succeed': 4262, 'tom': 4514, 'hanks': 2025, 'arguably': 289, 'worst': 4952, 'still': 4188, 'dealing': 1136, 'disappeared': 1271, 'may': 2775, 'mentioned': 2811, 'couple': 1016, 'play': 3296, 'problems': 3409, 'adult': 125, 'careers': 687, 'games': 1865, 'put': 3480, 'daniel': 1111, 'want': 4788, 'design': 1202, 'computer': 927, 'whos': 4876, 'constantly': 958, 'drunk': 1375, 'suddenly': 4273, 'fresh': 1833, 'bright': 581, 'decides': 1150, 'commit': 904, 'suicide': 4283, 'entirely': 1503, 'lonely': 2643, 'genius': 1887, 'cant': 671, 'date': 1118, 'famous': 1647, 'chick': 786, 'happens': 2029, 'anyways': 262, 'almost': 193, 'purpose': 3474, 'fact': 1621, 'action': 100, 'killing': 2472, 'whole': 4873, 'kate': 2446, 'chain': 741, 'mail': 2706, 'looks': 2649, 'camera': 659, 'says': 3801, 'monsters': 2893, 'ones': 3108, 'our': 3139, 'minds': 2852, 'biggest': 480, 'fantasy': 1652, 'element': 1442, 'passing': 3204, 'rich': 3685, 'rob': 3710, 'dirty': 1268, 'homeless': 2143, 'guy': 2000, 'magic': 2703, 'theme': 4433, 'poignant': 3315, 'kick': 2460, 'downright': 1337, 'final': 1722, 'mystery': 2956, 'hero': 2088, 'wearing': 4831, 'psychotic': 3459, 'break': 569, 'becomes': 434, 'completely': 922, 'quest': 3486, 'course': 1019, 'first': 1736, 'change': 749, '20': 29, 'century': 736, 'street': 4216, 'clothes': 860, 'maybe': 2776, 'guess': 1989, 'topic': 4526, 'days': 1130, 'circle': 821, 'kids': 2467, 'possibly': 3351, 'possessed': 3347, 'insane': 2296, 'spoke': 4125, 'paranoia': 3186, 'pretty': 3384, 'reporter': 3636, 'asks': 319, 'cop': 991, 'going': 1931, 'theres': 4440, 'chance': 747, 'somehow': 4063, 'involved': 2346, 'vaguely': 4706, 'allows': 192, 'turns': 4609, 'polished': 3323, 'possibility': 3349, 'explanation': 1590, 'interesting': 2325, 'tv': 4610, 'finds': 1728, 'according': 88, 'jim': 2402, 'television': 4394, 'comedy': 890, 'rock': 3720, 'your': 4991, 'world': 4946, 'add': 115, 'kudos': 2497, 'talent': 4354, 'charismatic': 763, 'star': 4150, 'network': 3000, 'abc': 63, 'air': 164, 'crap': 1031, 'show': 3953, 'brown': 601, 'thank': 4421, 'loved': 2670, 'lesser': 2576, 'deserve': 1199, 'comedic': 888, 'projects': 3428, 'far': 1653, 'behind': 447, 'ability': 65, 'blues': 519, 'standard': 4144, 'showcase': 3954, 'lacks': 2505, 'every': 1539, 'project': 3427, 'public': 3460, 'am': 204, 'combination': 883, 'fear': 1676, 'john': 2409, 'concerned': 932, 'turn': 4605, 'harris': 2038, 'absolutely': 72, 'paul': 3214, 'proper': 3436, 'didnt': 1242, 'help': 2079, 'pleasantly': 3303, 'probably': 3407, 'thanks': 4423, 'involvement': 2347, 'michael': 2829, 'directed': 1259, 'let': 2579, 'knew': 2486, 'came': 656, 'across': 96, 'credit': 1049, 'given': 1913, 'named': 2961, 'mark': 2739, 'whom': 4875, 'little': 2624, 'day': 1129, 'city': 825, 'imagine': 2238, 'meeting': 2794, 'lived': 2626, 'truly': 4597, 'such': 4268, 'took': 4523, 'imagined': 2239, 'conversation': 980, 'gives': 1914, 'glimpse': 1919, 'these': 4441, 'intelligence': 2313, 'humor': 2192, 'reaction': 3541, 'relationship': 3597, 'team': 4378, 'broke': 593, 'since': 3990, 'talk': 4358, 'hour': 2176, 'half': 2007, 'bore': 540, 'true': 4596, 'piece': 3272, 'touching': 4536, 'interested': 2324, 'musical': 2947, 'quickly': 3491, 'youll': 4988, 'over': 3148, 'shock': 3938, 'intimate': 2331, 'committed': 905, 'priceless': 3390, 'insight': 2298, 'funny': 1852, 'certainly': 738, 'recommended': 3572, 'cannot': 670, 'garbage': 1870, 'words': 4938, 'description': 1197, 'poorly': 3329, 'dubbing': 1380, 'shape': 3919, 'form': 1798, 'filmed': 1717, '1970s': 17, 'phone': 3255, 'laughable': 2530, 'due': 1382, 'unbelievable': 4634, 'expect': 1575, 'saturday': 3792, 'afternoon': 144, 'ripped': 3701, 'dont': 1324, 'expecting': 1578, 'zombie': 4997, 'production': 3419, 'values': 4710, 'low': 2676, 'unwatchable': 4682, 'avoid': 363, 'boyfriend': 558, 'viewer': 4738, 'modern': 2882, 'japan': 2381, 'current': 1084, 'themes': 4434, 'realistic': 3550, 'detailed': 1218, 'unpredictable': 4675, 'ending': 1471, 'mini': 2854, 'plots': 3310, 'within': 4912, 'several': 3905, 'together': 4511, 'highly': 2105, 'romance': 3732, 'child': 789, 'catches': 715, 'cheating': 776, 'lets': 2580, 'keep': 2449, 'kid': 2464, 'claims': 830, 'early': 1400, '1930s': 11, 'support': 4303, 'amazingly': 210, 'wow': 4962, 'picking': 3267, 'men': 2805, 'result': 3660, 'changes': 751, 'wild': 4885, 'party': 3200, 'girl': 1909, 'doing': 1312, 'herself': 2092, 'luck': 2681, 'pass': 3201, 'daughter': 1121, '17': 9, 'changed': 750, 'friend': 1835, 'daughters': 1122, 'designs': 1204, 'promises': 3432, 'touches': 4535, 'shell': 3927, 'kill': 2468, 'next': 3007, 'overall': 3150, 'confusing': 942, 'less': 2575, 'focused': 1767, 'actions': 101, 'notion': 3050, 'unusual': 4681, 'particularly': 3195, 'jane': 2380, 'stories': 4205, 'reaching': 3539, 'written': 4972, 'nonsense': 3030, 'thought': 4462, 'base': 402, 'wrong': 4973, 'likable': 2598, 'audience': 352, 'emotions': 1461, 'deliver': 1169, 'wanted': 4789, 'anne': 246, 'thats': 4425, 'getting': 1901, 'instead': 2307, 'resist': 3648, 'throw': 4479, 'continue': 969, 'watching': 4815, 'utterly': 4702, 'annoying': 249, 'throughout': 4478, 'seemed': 3862, 'attracted': 349, 'bland': 500, 'dull': 1384, 'following': 1774, 'rather': 3528, 'lead': 2545, 'done': 1322, 'various': 4715, 'mary': 2751, 'blown': 516, 'personality': 3242, 'mrs': 2930, 'similar': 3978, 'flaws': 1752, 'endearing': 1469, 'whereas': 4865, 'freak': 1824, 'handsome': 2021, 'decent': 1147, 'wondering': 4930, 'surely': 4309, 'alive': 186, 'wise': 4903, 'portrayed': 3342, 'anthony': 253, 'head': 2057, 'excellent': 1555, 'soon': 4074, 'saw': 3798, 'elizabeth': 1445, '100': 1, 'bitter': 491, 'missed': 2867, 'core': 995, 'name': 2960, 'dropping': 1371, 'instance': 2304, 'clear': 839, 'lady': 2507, 'russell': 3761, 'felt': 1692, 'unrealistic': 4677, 'looked': 2647, 'kiss': 2483, 'strange': 4211, 'kissing': 2484, 'busy': 635, 'yelling': 4980, 'already': 197, 'lips': 2615, 'ages': 152, 'met': 2822, 'seconds': 3848, 'minute': 2858, 'issue': 2364, 'regular': 3592, 'pay': 3216, 'attention': 345, 'angles': 237, 'unless': 4669, 'decide': 1148, 'noticed': 3049, 'filmmakers': 1720, 'job': 2405, 'conversations': 981, 'extreme': 1609, 'facial': 1619, 'used': 4693, 'important': 2247, 'therefore': 4439, 'lacked': 2503, 'meaning': 2780, 'hand': 2015, 'held': 2074, 'feeling': 1685, 'occasion': 3073, 'drama': 1346, 'running': 3756, 'contemporary': 965, 'mention': 2810, 'itself': 2371, 'caught': 722, 'season': 3843, 'park': 3190, 'leave': 2555, 'ill': 2228, 'version': 4720, 'bbc': 417, 'beautiful': 428, 'deal': 1135, 'minutes': 2859, 'moments': 2887, 'trailer': 4554, 'expectations': 1576, 'drags': 1345, 'slowly': 4032, 'exciting': 1563, 'premise': 3370, 'comments': 901, 'hate': 2046, 'considering': 952, 'cast': 710, 'julia': 2427, 'clearly': 840, 'among': 217, 'else': 1448, 'falls': 1640, 'along': 195, 'lees': 2560, 'filled': 1715, 'elegant': 1441, 'law': 2538, 'bride': 577, 'fitting': 1742, 'stereotypes': 4179, 'stand': 4143, 'source': 4086, 'disappointment': 1275, 'despite': 1211, 'jokes': 2415, 'intended': 2315, 'intelligent': 2314, 'safe': 3771, 'cleverly': 842, 'example': 1553, 'act': 97, 'last': 2521, 'listening': 2620, 'radio': 3504, 'program': 3424, 'talking': 4360, 'blair': 497, 'jason': 2383, 'lying': 2690, 'turning': 4608, 'down': 1335, 'finally': 1724, 'copy': 994, 'disappointing': 1274, 'die': 1243, 'works': 4945, 'hot': 2174, 'nevertheless': 3002, 'embarrassed': 1453, 'ease': 1404, 'depressed': 1187, 'cover': 1022, 'eyes': 1613, 'parts': 3199, 'believing': 457, 'glad': 1916, 'watched': 4813, 'goodness': 1938, 'dennis': 1179, 'hopper': 2161, 'steal': 4170, 'cage': 645, 'fine': 1729, 'neo': 2998, 'noir': 3023, 'creepy': 1052, 'mistaken': 2872, 'hit': 2122, 'tries': 4585, 'parallel': 3185, 'walks': 4780, 'mountain': 2917, 'step': 4175, 'ahead': 159, 'rip': 3700, 'dark': 1115, 'note': 3044, 'red': 3576, 'twist': 4617, 'hits': 2125, 'nice': 3008, 'adventure': 130, 'satisfying': 3791, 'serious': 3891, 'issues': 2365, 'facing': 1620, 'jump': 2429, 'straight': 4210, 'scenes': 3811, 'sexual': 3908, 'order': 3126, 'trade': 4547, 'holly': 2136, 'moved': 2922, 'international': 2326, 'laws': 2540, 'attempt': 340, 'cry': 1073, 'five': 1743, 'odd': 3080, 'hollywood': 2137, 'tear': 4379, 'useful': 4694, 'necessary': 2984, 'engaging': 1481, 'terrible': 4407, 'endure': 1475, 'stupid': 4247, 'involving': 2349, 'cat': 713, 'images': 2235, 'represented': 3638, 'horrendous': 2162, 'acts': 107, 'offensive': 3086, 'cause': 723, 'cheap': 774, 'signed': 3971, 'powerful': 3360, 'suggest': 4280, 'saving': 3797, 'money': 2888, 'cinema': 816, 'ticket': 4487, 'release': 3602, 'screenwriter': 3833, 'pamela': 3179, 'gave': 1875, 'introduced': 2337, 'specific': 4099, 'historical': 2119, 'record': 3573, 'joseph': 2419, 'directly': 1263, 'responsible': 3656, 'prisoners': 3403, 'lena': 2568, 'top': 4525, 'impossible': 2249, 'became': 431, 'hook': 2152, 'actual': 108, 'sex': 3907, 'below': 462, 'fire': 1734, 'lisa': 2616, 'films': 1721, 'social': 4049, 'alone': 194, 'mundane': 2938, 'society': 4050, 'questions': 3489, 'definitely': 1162, 'original': 3129, 'debut': 1143, 'tone': 4517, 'inside': 2297, 'messed': 2821, 'hardly': 2036, 'sentence': 3881, 'follow': 1772, 'contact': 961, 'known': 2492, 'sorry': 4076, 'appreciate': 279, 'mann': 2728, 'un': 4630, 'commercial': 902, 'saved': 3795, 'budget': 610, 'tough': 4537, 'screening': 3830, 'randomly': 3515, 'hopefully': 2157, 'itll': 2369, 'dvd': 1391, 'silent': 3975, 'theater': 4427, 'la': 2500, 'glover': 1923, 'sky': 4017, 'wonderfully': 4929, 'los': 2653, 'late': 2523, 'excited': 1561, 'disappointed': 1273, 'blew': 505, 'surprise': 4312, 'ever': 1538, 'kept': 2456, 'superb': 4296, 'finding': 1727, 'forever': 1792, 'kelly': 2452, 'legend': 2564, 'hoping': 2160, 'accurate': 90, 'depiction': 1185, 'creative': 1041, 'taken': 4350, 'eg': 1434, 'existed': 1570, 'reality': 3551, 'purely': 3472, 'holds': 2131, 'title': 4504, 'solid': 4057, 'cinemas': 817, 'ned': 2986, 'previous': 3387, 'include': 2261, 'former': 1800, 'australian': 357, 'rules': 3754, 'football': 1783, 'bob': 524, 'location': 2635, 'shooting': 3943, 'area': 286, 'outside': 3146, 'weak': 4824, 'continuity': 972, 'peter': 3247, 'falk': 1636, 'reasons': 3560, 'lines': 2612, 'hell': 2077, 'buy': 640, 'efforts': 1433, 'direction': 1261, 'editing': 1421, 'imdb': 2240, 'rating': 3529, 'starts': 4159, 'energy': 1478, 'feels': 1687, 'drag': 1342, 'predictable': 3367, 'office': 3091, 'delightful': 1168, 'third': 4455, 'become': 433, 'hundreds': 2196, 'told': 4513, 'slightly': 4029, 'circumstances': 822, 'stomach': 4196, 'dialog': 1232, 'werent': 4849, 'stale': 4141, 'unfortunately': 4654, 'letter': 2581, 'domino': 1319, 'widely': 4881, 'site': 4005, 'style': 4249, 'photography': 3260, 'substance': 4258, 'disagree': 1269, 'represents': 3639, 'absolute': 71, 'tony': 4521, 'career': 686, 'created': 1037, 'eighties': 1437, 'scott': 3824, 'closer': 856, 'portray': 3340, 'inner': 2292, 'worlds': 4947, 'conflict': 939, 'board': 522, 'nuclear': 3057, 'use': 4692, 'combined': 885, 'angle': 236, 'carried': 698, 'enemy': 1477, 'visually': 4758, 'move': 2921, 'flash': 1745, 'express': 1600, 'rage': 3505, 'successful': 4266, 'techniques': 4384, 'expression': 1602, 'device': 1227, 'fbi': 1675, 'presents': 3377, 'infamous': 2284, 'hunter': 2199, 'via': 4726, 'disjointed': 1287, 'memories': 2803, 'brief': 579, 'events': 1536, 'describes': 1196, 'system': 4345, 'individual': 2277, 'vision': 4754, 'anyway': 261, 'hunting': 2201, 'relate': 3593, 'cinematographer': 819, 'dan': 1102, 'harry': 2039, 'williams': 4888, 'gradually': 1952, 'begin': 442, 'realize': 3552, 'culture': 1079, 'cultural': 1078, 'aware': 368, 'innocence': 2293, 'narrative': 2966, 'introduces': 2338, 'portrays': 3344, 'escape': 1517, 'surreal': 4317, 'trip': 4588, 'overly': 3155, 'painting': 3175, 'associated': 327, 'free': 1827, 'huge': 2185, 'entire': 1502, 'footage': 1782, '90s': 61, 'boring': 543, 'repeat': 3630, 'hadnt': 2004, 'dollar': 1314, 'total': 4531, 'write': 4967, 'trash': 4565, 'convey': 982, 'everyday': 1541, 'sometimes': 4067, 'miracle': 2860, 'feelings': 1686, 'needs': 2990, 'streep': 4215, 'journey': 2421, 'hope': 2155, 'beings': 449, 'learn': 2550, 'struggle': 4234, 'racism': 3502, 'judging': 2425, 'earth': 1403, 'companion': 909, 'helps': 2082, 'dream': 1354, 'peace': 3219, 'hurt': 2202, 'guarantee': 1987, 'understanding': 4645, 'christian': 808, 'plague': 3285, 'awful': 372, 'list': 2617, 'reviews': 3679, 'wasted': 4809, 'evening': 1534, 'drawn': 1351, 'bible': 477, 'waste': 4808, 'complain': 919, 'murdered': 2940, 'bodies': 526, 'stolen': 4195, 'newspaper': 3006, 'writer': 4968, 'investigate': 2342, 'mysterious': 2955, 'killings': 2473, 'discovers': 1281, 'each': 1395, 'rare': 3523, 'supposedly': 4307, 'contained': 963, 'drug': 1373, 'dr': 1340, 'estate': 1525, 'crimes': 1056, 'putting': 3482, 'using': 4698, 'young': 4989, 'foster': 1809, 'medical': 2790, 'surrounding': 4319, 'force': 1786, 'setting': 3900, 'phony': 3256, 'wedding': 4836, 'leads': 2548, 'mad': 2696, 'doctors': 1305, 'reel': 3581, 'basically': 407, 'ended': 1470, 'deserved': 1200, 'steals': 4172, 'lugosi': 2686, 'memorable': 2802, 'qualities': 3483, 'stereotypical': 4180, 'todays': 4509, 'contrived': 976, 'based': 404, 'basic': 406, 'instinct': 2308, 'stone': 4197, 'douglas': 1334, 'supporting': 4304, 'marvelous': 2750, 'adding': 117, 'sequel': 3885, 'exact': 1550, 'opposite': 3123, 'lame': 2510, 'inept': 2281, 'somewhat': 4068, 'keeps': 2451, 'relatively': 3600, 'short': 3946, 'wait': 4770, 're': 3535, 'copies': 992, 'laughed': 2532, 'spite': 4117, 'myself': 2953, 'shining': 3933, 'horrible': 2163, 'jerry': 2396, 'score': 3822, 'jones': 2418, 'wit': 4908, 'included': 2262, 'smoking': 4040, 'sends': 3876, 'attorney': 348, 'damage': 1099, 'redeeming': 3577, 'value': 4709, 'ms': 2931, 'perfection': 3225, 'concerns': 934, 'body': 527, 'extremely': 1610, 'sam': 3777, 'shows': 3960, 'poverty': 3357, 'lifestyle': 2593, 'background': 380, 'aka': 168, 'goes': 1930, 'survive': 4321, 'duty': 1390, 'capture': 676, 'tons': 4520, 'struggles': 4235, 'beat': 423, 'angry': 238, 'dogs': 1311, 'chilling': 794, 'elements': 1443, 'intellectual': 2312, 'thriller': 4472, 'grand': 1953, 'pace': 3161, 'moody': 2899, 'flick': 1754, 'includes': 2263, 'eye': 1611, 'ice': 2210, 'cold': 872, 'soundtrack': 4085, 'cuts': 1091, 'typical': 4623, 'violence': 4747, 'protagonist': 3441, 'seed': 3856, 'face': 1616, 'unknown': 4668, 'winter': 4900, 'devils': 1229, 'presence': 3373, 'wake': 4774, 'ass': 323, 'victims': 4730, 'subtle': 4260, 'riding': 3695, 'empty': 1465, 'hotel': 2175, 'garden': 1872, 'errors': 1516, 'discover': 1279, 'upon': 4684, 'without': 4913, 'comparison': 914, 'proud': 3444, 'terrifying': 4410, 'couldve': 1009, 'cut': 1089, 'directors': 1266, 'history': 2121, 'captures': 678, 'terror': 4412, 'eccentric': 1414, 'ties': 4490, 'heart': 2064, 'eyed': 1612, 'gone': 1935, 'atmosphere': 333, 'loss': 2659, 'humanity': 2189, 'alien': 183, 'invasion': 2340, 'blob': 507, 'host': 2173, 'nasty': 2968, 'tongue': 4518, 'fake': 1635, 'absurd': 73, 'missing': 2869, 'hair': 2005, 'remake': 3612, 'hilarious': 2106, 'classic': 835, 'ironically': 2356, 'partly': 3197, 'underground': 4640, 'station': 4164, 'aforementioned': 139, 'contains': 964, 'train': 4556, 'originality': 3130, 'indeed': 2271, 'points': 3319, 'lacking': 2504, 'gory': 1943, 'whilst': 4869, 'sub': 4252, 'fully': 1847, 'explained': 1587, 'under': 4639, 'developed': 1223, 'thin': 4449, 'run': 3755, 'scream': 3826, 'small': 4033, 'dog': 1310, 'pack': 3165, 'tame': 4363, 'rats': 3531, 'london': 2641, 'bag': 384, 'spot': 4131, 'pick': 3265, 'bargain': 400, 'bin': 483, 'dig': 1250, 'raw': 3532, 'meat': 2787, 'quality': 3484, 'swedish': 4335, 'start': 4156, 'throwing': 4480, 'window': 4894, 'path': 3209, 'process': 3412, 'military': 2844, 'gang': 1867, 'police': 3322, 'officers': 3093, 'complicated': 925, 'appear': 273, 'ok': 3098, 'performs': 3234, 'revolves': 3682, 'fighting': 1709, 'prove': 3445, 'male': 2719, 'thousand': 4465, 'actress': 105, 'plausible': 3295, 'aliens': 184, 'landing': 2512, 'asleep': 320, 'main': 2707, 'suspense': 4330, 'standards': 4145, 'opinion': 3118, 'focus': 1766, 'forget': 1793, 'light': 2595, 'forgettable': 1794, 'effort': 1432, 'industry': 2280, 'ten': 4399, '11': 2, 'masterpieces': 2760, 'mexican': 2826, 'chose': 804, 'individuals': 2278, 'groups': 1981, 'connection': 946, 'deaf': 1134, 'aids': 161, 'corruption': 1002, 'africa': 141, 'muslim': 2949, 'usa': 4691, 'wwii': 4975, 'hearts': 2066, 'asian': 314, 'soldiers': 4054, 'limits': 2607, 'empathy': 1462, 'ways': 4822, 'ignore': 2224, 'care': 684, 'effectively': 1430, 'surprising': 4315, 'sean': 3840, 'collection': 874, 'spoiler': 4123, 'portrayal': 3341, 'crazy': 1035, 'flat': 1748, 'widow': 4883, 'shines': 3932, 'lights': 2597, 'general': 1880, 'deep': 1154, 'side': 3965, 'loosely': 2651, 'dozen': 1338, 'greed': 1968, 'played': 3297, 'during': 1387, 'heat': 2067, 'anger': 235, 'treatment': 4574, 'retarded': 3663, 'security': 3854, 'equipment': 1511, 'episode': 1507, 'closely': 855, 'followed': 1773, 'hated': 2047, 'compelled': 915, 'fun': 1848, 'urban': 4688, 'question': 3487, 'group': 1980, 'experienced': 1581, 'hunters': 2200, 'guide': 1993, 'plays': 3301, 'woods': 4935, 'thomas': 4458, 'burns': 628, 'richard': 3686, 'dangerous': 1110, 'showed': 3956, 'class': 833, 'grade': 1951, 'students': 4239, 'cutting': 1092, 'pointless': 3318, 'fan': 1648, 'monkey': 2890, 'ignored': 2225, 'fall': 1637, 'taste': 4369, 'bored': 541, 'turned': 4606, 'cameo': 657, 'burning': 627, 'humorous': 2193, 'sequences': 3888, 'bottom': 551, 'subject': 4253, 'matter': 2769, 'check': 777, 'angela': 232, 'gotten': 1947, 'operation': 3117, 'son': 4070, 'born': 544, 'camp': 662, 'appropriate': 283, 'franchise': 1817, 'sequels': 3886, 'imaginative': 2237, 'arent': 288, 'nudity': 3059, 'elaborate': 1439, 'entertaining': 1499, 'goofy': 1939, '80s': 59, 'call': 651, 'gonna': 1936, 'dude': 1381, 'slasher': 4020, 'teenagers': 4391, 'killer': 2470, 'behavior': 446, 'friday': 1834, '13th': 5, 'mid': 2832, 'learned': 2551, 'amazed': 208, 'method': 2824, 'madness': 2698, 'impressed': 2251, 'message': 2819, 'albeit': 173, 'kills': 2474, 'lesson': 2577, 'drugs': 1374, 'screen': 3829, 'guys': 2001, 'went': 4847, 'trouble': 4592, 'clean': 838, 'normal': 3033, 'wicked': 4879, 'witch': 4909, 'west': 4852, 'control': 977, 'ha': 2002, 'demands': 1175, 'id': 2212, 'walked': 4776, 'taught': 4370, '15': 7, 'notice': 3048, 'okay': 3099, 'killed': 2469, 'cheesy': 781, 'cliché': 844, 'seriously': 3892, 'tension': 4404, 'tense': 4403, 'failure': 1629, 'unlikely': 4671, 'mean': 2779, 'occur': 3076, 'credibility': 1047, 'clichés': 846, 'stuff': 4243, 'formulaic': 1803, 'cool': 989, 'frustrated': 1842, 'victim': 4729, 'naive': 2958, 'happened': 2027, 'obvious': 3071, 'broken': 594, 'car': 680, 'achieve': 92, 'teacher': 4375, 'student': 4238, 'growing': 1983, 'toward': 4539, 'persons': 3244, 'incredibly': 2270, 'stop': 4201, 'porn': 3336, 'sappy': 3784, 'happening': 2028, 'spends': 4107, 'development': 1225, 'unnecessary': 4672, 'admit': 122, 'appearing': 277, 'series': 3890, 'deserves': 1201, 'husband': 2204, 'wants': 4791, 'sleep': 4024, 'watchable': 4812, 'canadian': 667, 'stars': 4155, 'jean': 2389, 'buddies': 608, 'trashy': 4566, 'tell': 4395, 'advanced': 128, 'crime': 1055, 'shall': 3916, 'affect': 136, 'sit': 4003, 'capital': 673, 'ideas': 2215, 'dreams': 1355, 'grab': 1949, 'average': 362, 'sound': 4081, 'storyline': 4208, 'makeup': 2717, 'rubbish': 3748, 'spend': 4105, 'slap': 4018, 'stick': 4185, 'variety': 4714, 'nobody': 3022, 'torture': 4529, 'morning': 2906, 'cartoons': 705, 'cg': 739, 'graphics': 1959, 'artistic': 308, 'stones': 4198, 'metal': 2823, 'wood': 4933, 'adds': 119, 'unlike': 4670, 'quirky': 3493, 'cute': 1090, 'strangely': 4212, 'easier': 1405, 'suspend': 4329, 'disbelief': 1277, 'clothing': 861, 'par': 3184, 'likes': 2602, 'giant': 1905, 'front': 1841, 'caused': 724, 'admire': 121, 'beyond': 476, 'cars': 702, 'wall': 4781, 'space': 4090, 'dragon': 1344, 'lord': 2652, 'rings': 3699, 'thrown': 4481, 'magnificent': 2705, 'ride': 3692, 'walk': 4775, 'chinese': 796, 'floating': 1758, 'breath': 573, 'epic': 1506, 'thankfully': 4422, 'animation': 242, 'inspiration': 2300, 'stretch': 4221, '3d': 46, 'models': 2881, 'either': 1438, 'characterization': 759, 'gentle': 1890, 'confidence': 938, 'manager': 2724, 'recent': 3566, 'reminiscent': 3621, 'apart': 264, 'fare': 1655, 'impact': 2244, 'ready': 3546, 'adventures': 131, 'french': 1830, 'sounded': 4082, 'favorites': 1672, 'hear': 2061, 'voice': 4761, 'max': 2774, 'mediocre': 2791, 'ratings': 3530, 'lowest': 2678, 'vote': 4766, 'approach': 282, 'european': 1530, 'opposed': 3122, 'sounding': 4083, 'slow': 4031, 'thinks': 4454, 'cult': 1077, 'era': 1513, 'cinematography': 820, 'wouldnt': 4958, 'contain': 962, 'horses': 2171, 'edge': 1418, 'bed': 436, 'plain': 3286, 'skip': 4016, 'utter': 4701, 'boredom': 542, 'high': 2100, 'originally': 3131, 'college': 875, 'telling': 4396, 'members': 2801, 'saying': 3800, 'prefer': 3368, 'balance': 387, 'farce': 1654, 'delivering': 1171, 'humour': 2194, 'julie': 2428, 'waters': 4817, 'terrific': 4409, 'rent': 3626, 'immediately': 2242, 'travel': 4567, 'places': 3284, 'travels': 4569, 'charming': 768, 'hands': 2020, 'namely': 2962, 'keaton': 2448, 'eddie': 1416, 'count': 1010, 'liked': 2600, 'segment': 3867, 'ancient': 225, 'glory': 1922, 'roman': 3731, 'empire': 1464, 'germans': 1897, 'moves': 2925, 'search': 3841, 'interest': 2323, 'shown': 3959, 'theatre': 4429, 'pleasure': 3306, 'witty': 4917, 'gags': 1862, 'visual': 4757, 'technical': 4381, 'tricks': 4583, 'allow': 189, 'von': 4765, 'jonathan': 2417, 'alice': 182, 'claire': 831, 'danes': 1108, 'plans': 3292, 'decided': 1149, 'hong': 2149, 'kong': 2494, 'weekend': 4838, 'accepted': 82, 'offer': 3087, 'airport': 167, 'arrested': 298, 'thirty': 4456, 'decisions': 1152, 'decision': 1151, 'friendly': 1836, 'intentions': 2321, 'girls': 1911, 'showing': 3958, 'fair': 1630, 'choices': 798, 'favorite': 1671, 'songs': 4072, 'silence': 3974, 'sarah': 3785, 'bought': 552, 'thoroughly': 4459, 'mistake': 2871, 'difference': 1246, 'mistakes': 2873, 'leaving': 2557, 'thumbs': 4485, 'steve': 4181, 'denzel': 1181, 'washington': 4806, 'unable': 4631, 'charisma': 762, 'crowd': 1067, 'massacre': 2754, 'neat': 2982, 'happily': 2030, 'guns': 1998, 'peoples': 3222, 'supposed': 4306, 'donald': 1321, 'accent': 78, 'pure': 3471, 'unaware': 4632, 'south': 4087, 'women': 4923, 'large': 2517, 'liberal': 2588, 'hole': 2132, 'heroes': 2089, 'library': 2589, 'sea': 3838, 'documentary': 1307, 'makers': 2715, 'personal': 3240, 'experience': 1580, 'artist': 307, 'chan': 746, 'moving': 2928, 'brought': 600, 'joy': 2422, 'millions': 2848, 'serial': 3889, 'ii': 2226, 'designed': 1203, 'stupidity': 4248, 'doubt': 1332, 'business': 633, 'bela': 450, 'scientist': 3818, 'assistant': 326, 'scientists': 3819, 'lol': 2640, 'knows': 2493, 'clever': 841, 'trick': 4582, 'dust': 1388, 'sorts': 4078, 'clues': 865, 'heaven': 2068, 'meets': 2795, 'doctor': 1304, 'fetched': 1698, 'plan': 3287, 'ray': 3533, 'guilty': 1995, 'critic': 1061, 'scare': 3803, 'besides': 468, 'secondly': 3847, 'bet': 470, 'critical': 1062, 'bomb': 531, 'suck': 4269, 'twice': 4613, 'section': 3853, 'remembered': 3617, 'commercials': 903, 'sneak': 4043, 'vacation': 4704, 'innocent': 2294, 'sent': 3880, 'discussion': 1284, 'helped': 2080, 'politics': 3326, 'justice': 2438, 'ps': 3453, 'pop': 3330, 'walker': 4778, 'released': 3603, '70s': 56, 'single': 3996, 'measure': 2786, 'pot': 3354, 'vehicle': 4718, 'keeping': 2450, 'caine': 647, 'rex': 3683, 'william': 4887, 'names': 2963, 'suspects': 4328, 'talents': 4356, 'reputation': 3640, 'desperate': 1208, 'choose': 799, 'round': 3742, 'jazz': 2387, 'noise': 3024, 'atmospheric': 334, 'band': 391, 'depicted': 1183, 'central': 735, 'endless': 1473, 'backdrop': 379, 'ball': 388, 'results': 3662, 'raise': 3507, 'lawrence': 2539, 'westerns': 4854, 'alfred': 181, 'hitchcock': 2123, 'effect': 1428, 'equal': 1509, 'staring': 4152, 'ford': 1789, 'confusion': 943, 'chase': 769, 'otherwise': 3137, 'whenever': 4863, 'environment': 1505, 'blow': 514, 'stilted': 4190, 'choreographed': 801, 'fight': 1707, 'staged': 4140, 'players': 3299, 'favourite': 1673, 'youre': 4992, 'dancing': 1107, 'scenery': 3810, 'costumes': 1006, 'adorable': 124, 'special': 4097, 'effects': 1431, 'tree': 4576, 'scary': 3807, 'king': 2479, 'suppose': 4305, 'wont': 4932, 'levels': 2585, 'firstly': 1737, 'partner': 3198, 'barely': 399, 'naked': 2959, 'outfit': 3144, 'pink': 3277, 'summary': 4290, 'shy': 3962, 'edward': 1426, 'plus': 3311, 'everybody': 1540, 'heck': 2071, 'somebody': 4062, 'stephen': 4176, 'mixed': 2877, 'disturbing': 1300, 'cgi': 740, 'lazy': 2543, 'runs': 3757, 'attractive': 351, 'leaves': 2556, 'loose': 2650, 'eastwood': 1409, 'embarrassing': 1454, 'painfully': 3172, 'simplistic': 3985, 'parody': 3192, 'appealing': 272, 'chemistry': 782, 'particular': 3194, 'object': 3066, 'mr': 2929, 'robert': 3713, 'de': 1131, 'niro': 3019, 'exercise': 1568, 'flicks': 1755, 'spin': 4112, 'genre': 1888, 'knife': 2487, 'idiot': 2218, 'access': 83, 'murders': 2943, 'baseball': 403, 'player': 3298, 'witness': 4914, 'cameras': 660, 'thinking': 4453, 'stay': 4166, 'god': 1926, 'execution': 1566, 'wars': 4804, 'remote': 3622, 'country': 1014, 'gain': 1863, 'win': 4892, 'race': 3499, 'winner': 4897, 'ask': 316, 'leader': 2546, 'mission': 2870, 'lucky': 2683, 'spots': 4132, 'horse': 2170, 'above': 68, 'awkward': 374, 'romantic': 3733, 'whose': 4877, 'holding': 2130, 'climax': 849, 'winning': 4898, 'puts': 3481, 'forth': 1804, 'wishes': 4906, 'government': 1948, 'depicting': 1184, 'machine': 2693, 'meet': 2793, 'double': 1331, 'position': 3345, 'compare': 911, '2005': 35, 'adapted': 114, 'arthur': 305, 'soldier': 4053, 'died': 1244, 'understated': 4646, 'uncle': 4636, 'charlie': 765, 'nor': 3032, 'comedian': 887, 'johnny': 2410, 'vegas': 4717, 'versions': 4721, 'dickens': 1240, 'pride': 3391, 'meant': 2784, 'impression': 2252, 'possible': 3350, 'disaster': 1276, 'nazis': 2978, 'press': 3379, 'awesome': 371, 'carry': 700, 'draw': 1349, 'shame': 3918, 'christmas': 810, 'fail': 1625, 'neighbors': 2994, 'nowhere': 3056, 'sucked': 4270, 'stinks': 4192, 'insulting': 2310, 'mental': 2808, 'credits': 1050, 'titles': 4506, 'existent': 1572, 'badly': 383, 'executed': 1565, 'lay': 2542, 'cards': 683, 'table': 4346, 'starring': 4154, 'betty': 474, 'occasional': 3074, 'discovered': 1280, 'facts': 1624, 'huh': 2187, 'comedies': 889, 'perfectly': 3226, 'deliberately': 1166, 'shoot': 3942, 'loud': 2664, 'paid': 3169, 'crappy': 1032, 'boom': 537, 'bang': 393, 'kinda': 2477, 'desert': 1198, 'suspenseful': 4331, 'argument': 291, 'unexpected': 4650, 'root': 3737, 'brave': 567, 'bold': 528, 'fits': 1741, 'broad': 590, 'amount': 219, 'picture': 3269, 'successfully': 4267, 'mix': 2876, 'hanging': 2023, 'wind': 4893, 'finale': 1723, 'conflicts': 940, 'longer': 2645, 'twenty': 4612, 'beginning': 443, 'viewing': 4740, 'perhaps': 3235, 'towards': 4540, 'meaningful': 2781, 'thus': 4486, 'bumbling': 622, 'pops': 3332, 'provides': 3450, 'gangster': 1868, 'charm': 767, 'chris': 806, 'offered': 3088, 'boss': 546, 'female': 1693, 'agent': 150, 'glass': 1917, 'fred': 1825, 'ward': 4793, 'arnold': 296, 'concept': 930, 'possibilities': 3348, 'martin': 2748, 'proved': 3446, 'leslie': 2574, 'slapstick': 4019, 'references': 3583, 'adults': 126, 'ex': 1549, 'model': 2880, 'lucy': 2684, 'million': 2847, 'dollars': 1315, 'ed': 1415, 'join': 2412, 'weapon': 4828, 'ian': 2209, 'brian': 576, 'green': 1971, 'laughs': 2534, 'bother': 548, 'mainly': 2708, 'viewed': 4737, 'skin': 4015, 'princess': 3397, 'avoided': 364, 'color': 877, 'paint': 3173, 'opera': 3116, 'singers': 3994, 'singing': 3995, 'artists': 309, 'whether': 4866, 'older': 3101, 'weight': 4840, 'received': 3564, 'performed': 3230, 'stage': 4139, 'success': 4265, 'produced': 3414, 'company': 910, 'product': 3418, 'print': 3399, 'improve': 2254, 'language': 2516, 'speak': 4094, 'italian': 2367, 'lyrics': 2692, 'teach': 4374, 'narrator': 2967, 'giving': 1915, '30': 42, 'aside': 315, 'none': 3028, 'co': 867, 'wish': 4904, 'larry': 2520, 'super': 4295, 'imagery': 2234, 'intent': 2318, 'cartoon': 704, 'animals': 240, 'bunch': 623, 'flow': 1762, 'wandering': 4785, 'visuals': 4759, 'encounter': 1466, 'water': 4816, 'samurai': 3779, 'fish': 1738, 'heard': 2062, 'reminded': 3619, 'demented': 1176, 'delight': 1167, 'amazing': 209, 'hello': 2078, 'scripted': 3835, 'halfway': 2008, 'yeah': 4977, 'porno': 3337, 'ultimate': 4627, 'identify': 2216, 'frank': 1821, 'thoughts': 4464, 'extent': 1605, 'perform': 3227, 'tremendous': 4579, 'england': 1482, 'treat': 4572, 'tight': 4492, 'significant': 3972, 'secretary': 3850, 'bleak': 503, 'enter': 1494, 'vincent': 4746, 'con': 928, 'ad': 110, 'physical': 3262, 'hoped': 2156, 'sleazy': 4023, 'cost': 1003, 'reading': 3544, 'criminals': 1058, 'forces': 1788, 'safety': 3772, 'freedom': 1828, 'seat': 3845, 'fill': 1714, 'walls': 4783, 'factor': 1622, 'sensitive': 3879, 'hearing': 2063, 'remains': 3611, 'ranks': 3519, 'ralph': 3510, 'land': 2511, 'surprisingly': 4316, 'impressive': 2253, 'dimensional': 1253, 'swear': 4334, 'traditional': 4550, 'please': 3304, 'jungle': 2434, 'kidnapped': 2466, 'thugs': 4484, 'america': 212, 'ridiculous': 3693, 'native': 2972, 'calls': 654, 'unpleasant': 4674, 'eating': 1413, 'manner': 2729, 'rescue': 3643, 'martial': 2747, 'arts': 310, 'choreography': 802, 'appears': 278, 'fame': 1642, 'golden': 1934, 'productions': 3420, 'build': 614, 'vhs': 4725, 'uk': 4626, 'media': 2789, 'available': 361, 'lovely': 2671, 'dubbed': 1379, 'cup': 1080, 'tea': 4373, 'michelle': 2830, 'menacing': 2807, 'capturing': 679, 'youth': 4994, 'beauty': 430, 'lovable': 2668, 'greatest': 1966, 'relief': 3605, 'alike': 185, 'correct': 1000, 'describe': 1194, 'lose': 2654, 'rushed': 3760, 'passed': 3202, 'gritty': 1977, 'focusing': 1769, 'key': 2458, 'irrelevant': 2358, 'unique': 4662, 'presented': 3376, 'casting': 711, 'word': 4937, 'fox': 1814, 'appeal': 271, 'tribute': 4581, 'nicely': 3009, 'described': 1195, 'china': 795, '1990': 24, 'united': 4664, 'states': 4163, 'veteran': 4724, 'skills': 4014, 'dad': 1095, 'local': 2634, 'mob': 2879, 'raymond': 3534, 'hired': 2117, 'notch': 3043, 'talks': 4361, 'stewart': 4184, 'dutch': 1389, 'sheriff': 3929, 'contest': 967, 'starting': 4158, 'vengeance': 4719, 'western': 4853, 'james': 2378, 'achieved': 93, '50': 51, 'decade': 1144, 'extraordinary': 1607, 'including': 2264, 'hudson': 2184, 'classics': 837, 'essential': 1522, 'indians': 2275, 'breathtaking': 574, 'photographer': 3259, 'type': 4621, 'box': 555, 'gun': 1996, 'competition': 918, 'caliber': 649, 'attached': 336, 'henry': 2084, 'fool': 1779, 'worry': 4950, 'trademark': 4548, 'technically': 4382, 'satisfy': 3790, 'explore': 1594, 'earlier': 1399, 'trust': 4598, 'amateur': 206, 'situations': 4009, 'scope': 3821, 'terms': 4406, 'mass': 2753, 'religion': 3607, 'grim': 1974, 'suited': 4286, 'able': 66, 'reduced': 3579, 'seek': 3858, 'loves': 2674, 'finished': 1733, 'intention': 2319, 'terrorist': 4413, 'faithful': 1634, 'irony': 2357, 'warned': 4798, 'welcome': 4842, 'hal': 2006, 'invisible': 2344, 'kevin': 2457, 'adams': 112, 'tracy': 4546, 'professor': 3422, 'fellow': 1691, 'fails': 1628, 'locked': 2637, 'escapes': 1519, 'weeks': 4839, 'summer': 4291, 'discuss': 1283, 'blake': 498, 'guessed': 1990, 'uses': 4697, 'desire': 1205, 'revenge': 3675, 'adam': 111, 'teenage': 4389, 'department': 1182, 'afraid': 140, 'birds': 485, 'joke': 2414, 'misses': 2868, 'mile': 2842, 'academy': 77, '1984': 23, 'aspect': 321, 'whatever': 4859, 'scares': 3806, 'doors': 1329, 'afterwards': 145, 'teachers': 4376, 'mike': 2838, 'features': 1680, 'whatsoever': 4861, 'channels': 754, 'listed': 2618, 'genres': 1889, '80': 58, 'lack': 2502, 'ben': 463, 'multi': 2935, 'forgive': 1795, 'fault': 1668, 'advice': 133, 'develop': 1222, 'catherine': 719, 'jimmy': 2403, 'sick': 3963, 'creativity': 1042, 'ugly': 4625, 'accident': 84, 'hospital': 2172, 'melting': 2799, 'subplot': 4255, 'chased': 770, 'nurse': 3063, 'motion': 2913, 'national': 2970, '1933': 12, 'corny': 997, 'assume': 328, 'restored': 3659, 'lies': 2591, 'content': 966, 'continued': 970, 'families': 1644, 'wives': 4918, 'husbands': 2205, 'enjoying': 1487, 'daily': 1097, 'themselves': 4435, 'wished': 4905, 'bears': 421, 'generation': 1883, 'villain': 4744, 'kay': 2447, 'speaking': 4095, 'latter': 2528, 'cox': 1026, 'mel': 2796, 'brooks': 596, 'ann': 244, 'warren': 4801, 'philosophical': 3253, 'handle': 2018, 'costume': 1005, 'dramas': 1347, 'maintain': 2710, 'roy': 3745, 'bloody': 513, 'fashion': 1659, 'honor': 2150, 'courage': 1018, 'filming': 1718, 'glorious': 1921, 'sheer': 3925, 'mature': 2773, 'erotic': 1515, 'realized': 3553, 'attempts': 343, 'teeth': 4393, 'tim': 4494, 'emphasis': 1463, 'lust': 2689, 'merit': 2816, 'tend': 4400, 'journalist': 2420, 'experiences': 1582, 'sidney': 3968, 'magazine': 2701, 'proceeds': 3411, 'involves': 2348, 'selling': 3873, 'integrity': 2311, 'overdone': 3152, 'cake': 648, 'smart': 4035, 'obnoxious': 3067, 'simon': 3982, 'jeff': 2390, 'editor': 1423, 'regard': 3588, 'sell': 3871, 'plane': 3288, 'fat': 1663, 'skill': 4013, 'performers': 3232, 'anderson': 227, 'danny': 1112, 'appearances': 275, 'driven': 1365, 'maggie': 2702, 'hopes': 2159, 'standing': 4146, 'murphy': 2944, 'matt': 2768, 'liking': 2604, '12': 3, 'entertain': 1497, 'alright': 198, 'justin': 2440, 'robinson': 3716, 'directs': 1267, 'wrote': 4974, 'screenplay': 3831, 'taxi': 4371, 'harder': 2035, 'sake': 3775, 'managed': 2723, 'creators': 1044, 'threw': 4470, 'mouth': 2920, 'checking': 778, 'yourself': 4993, 'requires': 3642, 'bedroom': 437, 'psycho': 3457, 'spending': 4106, 'closet': 858, 'desperately': 1209, 'alas': 172, 'spoil': 4121, 'damn': 1100, 'ken': 2453, 'essentially': 1523, 'throws': 4482, 'psychological': 3458, 'focuses': 1768, 'fields': 1705, 'buck': 605, 'wrestling': 4966, 'kidding': 2465, 'jackson': 2375, 'won': 4925, 'oscar': 3133, 'sisters': 4002, 'bear': 420, 'dance': 1103, 'oliver': 3102, 'reed': 3580, 'intense': 2316, 'campy': 664, 'unintentionally': 4659, 'hysterical': 2208, 'knowing': 2490, 'directorial': 1265, 'fisher': 1739, 'delivers': 1172, 'figures': 1713, 'navy': 2976, 'importantly': 2248, 'derek': 1192, 'luke': 2687, 'inevitably': 2283, 'genuinely': 1892, 'provoking': 3452, 'receive': 3563, 'award': 366, 'blue': 518, 'dress': 1357, 'girlfriend': 1910, 'tender': 4401, 'celluloid': 731, 'smile': 4036, 'providing': 3451, 'richardson': 3688, 'actresses': 106, 'manage': 2722, 'directing': 1260, 'equivalent': 1512, 'viewers': 4739, 'neither': 2996, 'crafted': 1029, 'manipulative': 2727, 'dire': 1257, 'unconvincing': 4638, 'cynical': 1093, 'emotion': 1458, 'cringe': 1059, 'considered': 951, 'feature': 1678, 'scores': 3823, 'zero': 4996, 'strictly': 4223, 'rented': 3628, 'manages': 2725, 'bank': 394, 'workers': 4943, 'prior': 3400, 'entry': 1504, 'extra': 1606, 'remaining': 3610, 'asked': 317, 'door': 1328, 'spike': 4111, 'pile': 3275, 'tied': 4489, 'mentioning': 2812, 'details': 1219, 'theaters': 4428, 'figured': 1712, 'served': 3894, 'horrid': 2165, 'lower': 2677, 'superior': 4300, 'judge': 2424, 'helping': 2081, 'sentimental': 3882, 'pre': 3365, 'code': 869, 'sci': 3815, 'fi': 1701, 'barbara': 397, 'george': 1893, 'van': 4713, 'wayne': 4821, 'stanwyck': 4149, 'song': 4071, 'category': 718, 'cook': 988, 'elderly': 1440, 'walter': 4784, 'appeared': 276, 'ran': 3513, 'ie': 2221, 'typically': 4624, 'sets': 3899, 'philosophy': 3254, 'fed': 1682, 'heroine': 2091, 'gary': 1873, 'cooper': 990, 'determined': 1221, 'similarly': 3980, 'ambitious': 211, 'neck': 2985, 'falling': 1639, 'spell': 4104, 'evident': 1547, 'affected': 137, 'deaths': 1142, 'selfish': 3870, 'paris': 3189, 'earned': 1401, 'wealth': 4826, 'recently': 3567, 'theatrical': 4430, 'considerable': 950, '14': 6, 'develops': 1226, 'alternate': 200, 'effective': 1429, 'open': 3112, 'equally': 1510, 'boxing': 556, 'flynn': 1765, 'irish': 2353, 'sullivan': 4288, 'bond': 532, 'pushing': 3479, 'builds': 617, 'persona': 3239, 'honesty': 2148, 'certain': 737, 'contrast': 975, 'excitement': 1562, 'redemption': 3578, 'detective': 1220, 'daddy': 1096, 'aged': 149, 'drinking': 1362, 'ho': 2127, 'compelling': 916, 'witnessed': 4915, 'uninteresting': 4660, 'trite': 4589, 'clichéd': 845, 'struggling': 4236, 'extras': 1608, 'audio': 354, 'commentary': 899, 'dave': 1123, 'isolated': 2363, 'tracks': 4545, 'interviews': 2330, 'rose': 3739, 'trailers': 4555, 'sally': 3776, 'creature': 1045, 'represent': 3637, 'thrills': 4475, 'movement': 2923, 'hip': 2114, 'politically': 3325, 'pan': 3180, 'reveal': 3670, 'tired': 4501, 'agents': 151, 'chasing': 772, 'mere': 2814, 'wear': 4830, 'context': 968, 'scientific': 3817, 'behave': 445, 'inappropriate': 2259, 'scripts': 3836, 'shakespeare': 3915, 'rental': 3627, 'beach': 419, 'lover': 2672, 'terribly': 4408, 'laughably': 2531, 'expert': 1585, 'internet': 2327, 'initially': 2291, 'married': 2744, 'carrying': 701, 'stayed': 4167, 'complete': 921, 'painful': 3171, 'pleasant': 3302, 'sum': 4289, 'wreck': 4965, 'surprises': 4314, 'dated': 1119, 'melodrama': 2797, 'someones': 4065, 'lincoln': 2608, 'population': 3335, 'false': 1641, 'fonda': 1777, 'nose': 3037, 'pity': 3281, 'folks': 1771, 'italy': 2368, 'foul': 1810, 'gorgeous': 1942, 'petty': 3249, 'stunning': 4244, 'report': 3635, 'remotely': 3623, 'shortly': 3947, 'renting': 3629, 'further': 1853, 'hbo': 2055, 'rarely': 3524, 'negative': 2991, 'term': 4405, 'religious': 3608, 'views': 4742, 'touched': 4534, 'letting': 2583, 'logical': 2639, 'months': 2897, 'recall': 3562, 'professional': 3421, 'masters': 2761, 'willing': 4889, 'allowed': 190, 'backgrounds': 381, 'regarding': 3589, 'education': 1424, 'easily': 1406, 'pointed': 3317, '20th': 38, 'evidence': 1546, 'political': 3324, 'bonus': 534, 'share': 3920, 'smaller': 4034, 'miserable': 2863, 'picks': 3268, 'weakest': 4825, 'existence': 1571, 'rule': 3753, 'interview': 2329, 'clips': 852, 'christians': 809, 'answer': 251, 'honestly': 2147, 'edited': 1420, 'review': 3676, 'judy': 2426, 'somewhere': 4069, 'overacting': 3149, '40s': 49, 'birth': 486, 'pregnant': 3369, 'queen': 3485, 'gods': 1928, 'justify': 2439, 'survival': 4320, 'stood': 4199, 'gay': 1876, 'werewolf': 4850, 'plenty': 3307, 'walking': 4779, 'airplane': 166, 'wing': 4896, 'literally': 2622, 'kitchen': 2485, 'sink': 3999, 'ironic': 2355, 'spirit': 4113, 'laughter': 2535, 'situation': 4008, 'critics': 1064, 'brand': 565, 'jewish': 2401, 'accept': 80, 'starred': 4153, 'schools': 3814, 'club': 863, 'spring': 4134, '2002': 32, 'research': 3644, 'alexander': 180, 'albert': 174, 'expressions': 1603, 'transition': 4561, 'annoyed': 248, 'kim': 2475, 'smiling': 4037, 'page': 3167, 'spoilers': 4124, 'handful': 2017, 'close': 853, 'month': 2896, 'repetitive': 3633, 'faster': 1662, 'diamond': 1236, 'rough': 3741, 'bourne': 554, 'favor': 1670, 'generic': 1885, 'fooled': 1780, 'fairy': 1632, 'witches': 4910, '90': 60, 'sign': 3970, 'packed': 3166, 'bullets': 621, 'threatening': 4468, 'enormous': 1490, 'latest': 2526, 'dialogs': 1233, '3rd': 47, 'gem': 1877, 'fell': 1690, 'sitting': 4007, 'test': 4416, 'honest': 2146, 'hooked': 2153, 'trees': 4577, 'crash': 1033, 'crew': 1053, 'locations': 2636, 'catch': 714, 'tunes': 4603, 'channel': 753, '16': 8, 'kung': 2498, 'fu': 1844, 'types': 4622, 'normally': 3034, 'tiger': 4491, 'costs': 1004, 'aimed': 162, 'numerous': 3062, 'tales': 4357, 'appreciation': 281, 'dislike': 1288, 'ground': 1979, 'unoriginal': 4673, 'lynch': 2691, 'wannabe': 4787, 'advantage': 129, 'higher': 2101, 'nights': 3016, 'episodes': 1508, 'miller': 2846, '75': 57, 'contract': 973, 'jackie': 2374, 'abraham': 69, 'bucks': 606, 'cheated': 775, 'dvds': 1392, 'sat': 3786, 'descent': 1193, 'perry': 3237, 'jumped': 2430, 'gripping': 1976, 'killers': 2471, 'shut': 3961, 'cases': 708, 'occurred': 3077, 'border': 539, 'north': 3036, 'moore': 2901, 'union': 4661, 'army': 295, 'onto': 3111, 'property': 3438, 'sits': 4006, 'hide': 2097, 'displayed': 1292, '13': 4, 'inspired': 2301, 'concerning': 933, 'hop': 2154, 'member': 2800, 'succeeded': 4263, 'soul': 4079, 'funniest': 1851, 'hugh': 2186, 'prince': 3396, 'bits': 490, 'wacky': 4769, 'georges': 1894, 'teenager': 4390, 'dressing': 1359, 'duo': 1386, 'worked': 4941, 'indian': 2274, 'masses': 2755, 'regret': 3591, 'kings': 2481, 'castle': 712, 'intriguing': 2335, 'serve': 3893, 'explain': 1586, 'hill': 2108, 'heavily': 2069, 'ruins': 3752, 'japanese': 2382, 'animated': 241, 'colour': 880, 'bare': 398, 'flying': 1764, 'confused': 941, 'dating': 1120, 'service': 3896, 'mom': 2885, 'stuck': 4237, 'rochester': 3719, 'smith': 4038, 'homage': 2141, 'props': 3439, 'appreciated': 280, 'virgin': 4749, 'sunshine': 4294, 'undoubtedly': 4648, 'reunion': 3669, 'extended': 1604, 'relatives': 3601, 'theyve': 4446, 'reaches': 3538, 'flaw': 1749, 'mildly': 2840, 'planet': 3289, 'carol': 693, 'lifetime': 2594, 'tomatoes': 4515, 'enthusiasm': 1501, 'tiny': 4500, 'grasp': 1960, 'jeremy': 2394, 'fabulous': 1615, 'addition': 118, 'emma': 1457, 'quick': 3490, 'literature': 2623, 'gender': 1878, 'built': 618, 'chief': 788, 'speaks': 4096, 'rated': 3527, 'rocks': 3722, 'gene': 1879, 'simmons': 3981, 'messages': 2820, 'mine': 2853, 'promise': 3430, 'shallow': 3917, 'lesbian': 2573, 'granted': 1957, '1980s': 21, 'personally': 3243, 'remarkable': 3613, 'constructed': 959, 'shouldnt': 3952, 'laughing': 2533, 'insult': 2309, 'monkeys': 2891, 'defense': 1159, 'pro': 3406, 'bothered': 549, 'controversial': 978, 'guts': 1999, 'banned': 395, 'clip': 851, 'iran': 2350, 'brutal': 603, 'jumping': 2431, 'suffering': 4277, 'british': 589, 'india': 2273, 'attack': 337, 'countries': 1013, 'conservative': 948, 'offended': 3085, 'gratuitous': 1961, 'vampire': 4711, 'matters': 2770, 'plastic': 3294, 'suit': 4284, 'wore': 4939, 'buff': 611, 'underrated': 4642, 'tommy': 4516, 'bruce': 602, 'passion': 3205, 'lane': 2515, 'exceptional': 1558, 'breasts': 572, 'demand': 1174, 'satisfied': 3789, 'paper': 3183, 'limited': 2606, 'clue': 864, 'remain': 3609, 'flashback': 1746, 'filmmaker': 1719, 'screams': 3828, 'childhood': 790, 'mothers': 2912, 'stays': 4169, 'ruined': 3751, 'deals': 1137, 'paced': 3162, 'incredible': 2269, 'loaded': 2632, 'valuable': 4708, 'businessman': 634, 'philip': 3252, 'stevens': 4183, 'opened': 3113, 'museum': 2945, 'planned': 3290, 'pilot': 3276, 'wilson': 4891, 'knock': 2488, 'sleeping': 4025, 'gas': 1874, 'island': 2361, 'oil': 3097, 'ocean': 3079, 'loses': 2657, 'miles': 2843, 'survivors': 4325, 'forgotten': 1797, 'necessarily': 2983, '1972': 18, 'trapped': 4564, 'entertained': 1498, 'ships': 3935, 'kennedy': 2454, 'worker': 4942, 'joe': 2407, 'worried': 4949, 'discovery': 1282, 'toy': 4542, 'awards': 367, 'hall': 2009, 'harsh': 2040, 'generated': 1882, 'properly': 3437, 'spectacular': 4101, 'lemmon': 2567, 'grant': 1956, 'sir': 4000, 'christopher': 811, 'despair': 1207, 'colorful': 878, '50s': 52, 'iraq': 2351, 'cusack': 1088, 'wed': 4835, 'curtis': 1087, 'road': 3709, 'unfunny': 4655, 'foreign': 1790, 'pathetic': 3210, 'comical': 894, 'bush': 632, 'basis': 408, 'blank': 501, 'throat': 4476, 'news': 3005, 'sight': 3969, 'subtlety': 4261, 'homer': 2144, 'simpson': 3987, 'proves': 3447, 'required': 3641, 'independent': 2272, 'chosen': 805, 'warming': 4795, 'task': 4368, 'carefully': 689, 'switch': 4339, 'sadness': 3770, 'curiosity': 1082, 'highlight': 2103, 'range': 3516, 'image': 2233, 'connected': 945, 'roberts': 3714, 'shake': 3914, 'abuse': 74, 'shed': 3924, 'cable': 644, 'domestic': 1318, 'nostalgic': 3039, 'quote': 3496, 'realizing': 3555, 'hold': 2129, 'alert': 178, 'bath': 411, 'fathers': 1667, 'spent': 4108, 'blockbuster': 509, 'drivel': 1364, 'science': 3816, 'gruesome': 1986, 'timeless': 4496, 'powers': 3361, 'added': 116, 'jeffrey': 2391, 'protagonists': 3442, 'sympathetic': 4342, 'settings': 3901, 'pet': 3246, 'edgar': 1417, 'anywhere': 263, 'dealt': 1138, 'chicago': 785, 'respect': 3652, 'craft': 1028, 'suggested': 4281, 'shocked': 3939, 'blend': 504, 'pitt': 3280, 'compared': 912, 'styles': 4250, 'fond': 1776, 'terrorists': 4414, 'bird': 484, 'vietnam': 4735, 'producers': 3416, 'began': 441, 'church': 813, 'thief': 4448, 'event': 1535, 'week': 4837, 'relevant': 3604, 'currently': 1085, 'bar': 396, 'court': 1020, 'aired': 165, 'formula': 1802, 'liners': 2611, 'dolph': 1317, 'andrew': 228, 'davis': 1126, 'excessive': 1560, 'convincingly': 986, 'bugs': 613, 'passes': 3203, 'definition': 1163, 'transfer': 4559, 'documentaries': 1306, 'disc': 1278, 'accidentally': 85, 'surfing': 4311, 'korean': 2495, 'hence': 2083, 'seemingly': 3863, 'enemies': 1476, 'differences': 1247, 'caring': 691, 'reminds': 3620, 'genuine': 1891, 'distinct': 1296, '1st': 28, 'dances': 1106, 'realizes': 3554, 'cares': 690, '2nd': 41, 'accompanied': 86, 'showdown': 3955, 'san': 3780, 'sexy': 3911, 'del': 1165, 'waiting': 4772, 'agree': 155, 'eat': 1411, 'raped': 3522, 'balls': 390, 'listen': 2619, 'button': 639, 'emily': 1456, 'suffer': 4275, 'seventies': 3904, 'officer': 3092, 'titled': 4505, 'creation': 1040, 'imagination': 2236, 'creates': 1038, 'womans': 4922, 'relies': 3606, 'joined': 2413, 'rogers': 3725, 'horrors': 2169, 'horrifying': 2167, 'continues': 971, 'legendary': 2565, 'guessing': 1991, 'degree': 1164, 'doll': 1313, 'toys': 4543, 'card': 681, 'chest': 784, 'superbly': 4297, 'finest': 1730, 'endings': 1472, 'roll': 3728, 'naturally': 2974, 'majority': 2712, 'serves': 3895, 'sinister': 3998, 'dracula': 1341, 'worthy': 4956, 'planning': 3291, 'positive': 3346, 'nightmares': 3015, 'mayor': 2777, 'suitable': 4285, 'stargate': 4151, 'distant': 1295, 'loads': 2633, 'occasionally': 3075, 'khan': 2459, 'marry': 2745, 'vulnerable': 4768, 'agrees': 157, 'asking': 318, 'tonight': 4519, 'ordinary': 3128, 'wide': 4880, 'folk': 1770, 'bring': 585, 'drink': 1361, 'fascinating': 1658, 'methods': 2825, 'sudden': 4272, 'combat': 882, 'spread': 4133, 'laurel': 2537, 'definite': 1161, 'hardy': 2037, 'studio': 4240, 'bridge': 578, 'surrounded': 4318, 'ballet': 389, 'clumsy': 866, 'carpenter': 694, 'floor': 1759, 'gag': 1861, 'buying': 641, 'gangsters': 1869, 'devoted': 1231, 'wealthy': 4827, 'margaret': 2735, 'hidden': 2096, 'pulled': 3462, 'display': 1291, 'ensues': 1493, 'butler': 637, 'leg': 2562, 'reference': 3582, 'bus': 631, 'abandoned': 62, 'driver': 1366, 'covered': 1023, 'causing': 726, 'amusing': 221, 'length': 2569, 'eight': 1436, 'roger': 3724, 'solo': 4058, 'sports': 4130, 'attacked': 338, 'practice': 3363, 'gold': 1932, 'amanda': 205, 'joan': 2404, 'ruthless': 3764, 'segments': 3868, 'string': 4227, 'cameos': 658, 'terry': 4415, 'global': 1920, 'hurts': 2203, 'expensive': 1579, 'miscast': 2862, 'bobby': 525, 'official': 3094, 'escaped': 1518, 'fictional': 1703, 'fighter': 1708, 'criminal': 1057, 'dawn': 1127, 'resident': 3647, 'em': 1452, 'captain': 674, 'kirk': 2482, 'mst3k': 2932, 'unintentional': 4658, 'meaningless': 2782, 'robin': 3715, 'hood': 2151, 'jesse': 2397, 'accused': 91, 'notorious': 3051, 'countryside': 1015, 'striking': 4226, 'treated': 4573, 'weve': 4856, 'scenario': 3808, 'awfully': 373, 'pays': 3218, 'inevitable': 2282, 'robbery': 3711, 'hasnt': 2044, 'secretly': 3851, 'status': 4165, 'rush': 3759, 'bringing': 586, 'ladies': 2506, 'provide': 3448, 'narration': 2965, 'accents': 79, '35': 45, 'al': 170, 'pacino': 3164, 'realise': 3548, 'established': 1524, 'driving': 1368, 'climactic': 848, 'potential': 3355, 'jon': 2416, 'fired': 1735, 'dean': 1139, 'produce': 3413, 'clark': 832, 'helicopter': 2076, 'eastern': 1408, 'cared': 685, 'split': 4120, 'screens': 3832, 'scooby': 3820, 'doo': 1325, 'wanna': 4786, 'dinner': 1254, 'ah': 158, 'superman': 4301, 'building': 615, 'lab': 2501, 'novels': 3053, 'angel': 231, 'dare': 1113, 'silver': 3977, 'reasonably': 3559, 'crude': 1069, 'stronger': 4230, 'drive': 1363, 'send': 3875, 'attend': 344, 'protect': 3443, 'dressed': 1358, 'match': 2762, 'remind': 3618, 'shop': 3945, 'blonde': 511, 'communist': 907, '1960s': 15, 'simplicity': 3984, 'ridiculously': 3694, 'obsessed': 3069, 'soccer': 4048, 'notable': 3041, 'structure': 4233, 'breaks': 571, 'quiet': 3492, '2007': 37, 'mirror': 2861, 'teen': 4388, 'seeks': 3860, 'learns': 2553, 'strike': 4224, 'shelf': 3926, 'attempted': 341, 'staying': 4168, 'sandler': 3781, 'warn': 4797, 'borrowed': 545, 'kubrick': 2496, 'study': 4242, 'realism': 3549, 'contrary': 974, 'classical': 836, 'signs': 3973, 'orange': 3125, 'moronic': 2907, 'alex': 179, 'implausible': 2245, 'grace': 1950, 'waitress': 4773, 'downhill': 1336, 'francisco': 1819, 'subsequent': 4257, 'viewings': 4741, 'mood': 2898, 'jamie': 2379, '1990s': 25, '1996': 26, 'intentionally': 2320, 'aspects': 322, 'ludicrous': 2685, 'attempting': 342, 'attraction': 350, 'prime': 3395, 'worthwhile': 4955, 'producer': 3415, 'sellers': 3872, 'savage': 3793, 'create': 1036, 'centered': 733, 'attitude': 346, 'complex': 923, 'strongly': 4231, 'cheek': 779, 'billy': 482, 'phantom': 3251, 'orders': 3127, 'vs': 4767, 'mouse': 2919, 'direct': 1258, 'holes': 2133, 'relations': 3596, 'russian': 3762, 'knowledge': 2491, 'author': 359, 'greatly': 1967, 'finish': 1732, 'unbelievably': 4635, 'beaten': 424, 'mill': 2845, 'account': 89, 'sharp': 3922, 'americas': 215, 'hitting': 2126, 'zombies': 4998, 'bat': 410, 'sidekick': 3966, 'antics': 255, 'babe': 375, 'pulls': 3464, 'portraying': 3343, 'stole': 4194, 'stereotype': 4178, 'pool': 3327, 'exploitation': 1592, 'exist': 1569, 'letters': 2582, 'snl': 4044, 'drops': 1372, 'consistently': 954, 'awe': 370, 'twisted': 4618, '1999': 27, 'beats': 426, 'praise': 3364, 'streets': 4217, 'forty': 1807, 'marks': 2742, 'patient': 3211, 'olivier': 3103, 'whoever': 4872, 'statement': 4162, 'resolution': 3649, 'succeeds': 4264, 'heres': 2087, 'teens': 4392, 'reflection': 3585, 'capable': 672, 'pull': 3461, 'factory': 1623, 'sold': 4052, 'opportunities': 3120, 'revealing': 3672, 'luckily': 2682, 'haunted': 2050, 'mansion': 2731, 'universal': 4665, 'battle': 414, 'goldberg': 1933, 'forgot': 1796, 'sucks': 4271, 'fights': 1710, 'related': 3594, 'defeat': 1157, 'president': 3378, 'revolution': 3680, 'expressed': 1601, 'respected': 3653, '60s': 54, 'conclusion': 936, 'regardless': 3590, 'hundred': 2195, 'stealing': 4171, 'fly': 1763, 'brazil': 568, 'instantly': 2306, 'afford': 138, 'sincere': 3991, 'hearted': 2065, 'parent': 3187, 'chaos': 755, 'response': 3654, 'bite': 489, 'absence': 70, 'spider': 4109, 'superhero': 4299, 'covers': 1024, 'hang': 2022, 'web': 4833, 'deadly': 1133, 'villains': 4745, 'experiment': 1583, 'amongst': 218, 'food': 1778, 'bell': 458, 'delivered': 1170, 'breaking': 570, 'uninspired': 4657, 'largely': 2518, 'cash': 709, 'witnesses': 4916, 'cruel': 1070, 'helen': 2075, 'severe': 3906, 'embarrassment': 1455, 'explicit': 1591, 'shocking': 3940, 'dreadful': 1353, 'numbers': 3061, '1968': 16, 'hilariously': 2107, 'craven': 1034, 'houses': 2180, 'rat': 3525, 'faced': 1617, 'owner': 3159, 'mountains': 2918, 'wave': 4818, 'disgusting': 1286, 'grandmother': 1955, 'strength': 4219, 'challenge': 743, 'matthew': 2772, 'grow': 1982, 'plant': 3293, 'benefit': 465, 'enjoys': 1489, 'fever': 1699, 'immensely': 2243, 'laid': 2508, 'stands': 4147, 'maker': 2714, 'alcohol': 176, 'dying': 1393, 'buried': 624, 'resemblance': 3645, 'greedy': 1969, 'wonders': 4931, 'ingredients': 2289, 'southern': 4088, 'painted': 3174, 'richards': 3687, 'wholly': 4874, 'texas': 4418, 'ashley': 313, 'feminist': 1695, 'handed': 2016, 'learning': 2552, 'homosexual': 2145, 'promising': 3433, 'artificial': 306, 'cruise': 1071, 'challenging': 744, 'plight': 3308, 'react': 3540, 'conceived': 929, 'chaplin': 756, 'spoof': 4127, 'grows': 1985, 'connect': 944, 'ruin': 3750, 'snow': 4045, 'videos': 4734, 'jr': 2423, 'lloyd': 2630, 'widmark': 4882, 'anymore': 258, 'hed': 2072, 'abysmal': 76, 'stiller': 4189, 'gifted': 1907, 'nominated': 3025, 'lewis': 2586, 'foot': 1781, 'brenda': 575, 'oscars': 3134, 'medium': 2792, 'willis': 4890, 'psychiatrist': 3455, 'brad': 560, 'cole': 873, 'virus': 4752, 'humans': 2190, 'information': 2288, 'believes': 456, 'prevent': 3385, 'precious': 3366, 'ourselves': 3140, 'hank': 2024, 'mindless': 2851, 'florida': 1761, 'six': 4010, 'idiots': 2220, 'till': 4493, 'jay': 2386, 'oz': 3160, 'allen': 188, 'logic': 2638, 'graphic': 1958, 'jobs': 2406, 'waves': 4819, 'random': 3514, 'kicks': 2463, '2001': 31, 'talked': 4359, 'pg': 3250, 'sixties': 4011, 'hollow': 2135, 'bettie': 473, 'turner': 4607, 'icon': 2211, 'sexuality': 3909, 'nude': 3058, 'attitudes': 347, 'iii': 2227, 'goal': 1925, 'gross': 1978, 'toilet': 4512, 'flop': 1760, 'faith': 1633, 'consequences': 947, 'fifteen': 1706, 'solve': 4060, 'strikes': 4225, 'stress': 4220, 'innovative': 2295, 'placed': 3283, 'east': 1407, 'ignorant': 2223, 'drives': 1367, 'vicious': 4728, 'andy': 230, 'suspect': 4327, 'screaming': 3827, 'speech': 4102, '2006': 36, 'festival': 1697, 'morgan': 2905, 'freeman': 1829, 'beneath': 464, 'community': 908, 'iron': 2354, 'progress': 3425, 'teaching': 4377, 'childrens': 793, 'directions': 1262, 'wanting': 4790, 'target': 4366, 'tape': 4365, 'specifically': 4100, 'deeper': 1155, 'consider': 949, 'worthless': 4954, 'construction': 960, 'burton': 630, 'apes': 267, 'theory': 4437, 'weapons': 4829, 'instant': 2305, 'minded': 2850, 'raised': 3508, 'reasonable': 3558, 'answers': 252, 'ape': 266, 'species': 4098, 'ship': 3934, 'kinds': 2478, 'thousands': 4466, 'don': 1320, 'replaced': 3634, 'sutherland': 4333, 'mars': 2746, 'heroic': 2090, 'heads': 2059, 'ghost': 1902, 'ghosts': 1903, 'soviet': 4089, 'destiny': 1212, 'drew': 1360, 'molly': 2884, 'australia': 356, 'decades': 1145, 'essence': 1521, 'slightest': 4028, 'juvenile': 2441, 'criticism': 1063, 'blows': 517, 'crack': 1027, 'burn': 625, 'dear': 1140, '2003': 33, 'swimming': 4338, 'blowing': 515, 'haunting': 2051, 'le': 2544, '1980': 20, 'warm': 4794, 'unseen': 4678, 'clint': 850, 'arrives': 302, 'chooses': 800, 'user': 4696, 'synopsis': 4344, 'thru': 4483, 'menace': 2806, 'heston': 2094, 'shadows': 3913, 'shadow': 3912, 'solely': 4056, 'ted': 4386, 'ears': 1402, 'midnight': 2834, 'cowboy': 1025, 'voight': 4764, 'hoffman': 2128, 'barry': 401, 'christ': 807, 'sin': 3988, 'vice': 4727, 'wooden': 4934, 'sole': 4055, '45': 50, 'sue': 4274, 'quotes': 3497, 'wrap': 4963, 'executive': 1567, 'gotta': 1946, 'ya': 4976, 'blind': 506, 'satan': 3787, 'generous': 1886, 'removed': 3624, 'tradition': 4549, 'primary': 3394, 'frankly': 1823, 'perspective': 3245, 'junk': 2436, 'uneven': 4649, 'slight': 4027, 'pacing': 3163, 'boat': 523, 'flawed': 1750, 'deeply': 1156, 'finger': 1731, 'halloween': 2010, 'block': 508, 'females': 1694, 'myers': 2952, 'unbearable': 4633, 'tap': 4364, 'santa': 3783, 'wishing': 4907, 'becoming': 435, 'branagh': 564, 'river': 3707, 'stranger': 4213, 'titanic': 4503, 'hart': 2041, 'sitcom': 4004, 'shine': 3931, '3000': 43, 'cheese': 780, 'remarks': 3615, 'sword': 4340, 'senseless': 3878, 'unreal': 4676, 'gift': 1906, 'wounded': 4961, 'corner': 996, 'arms': 294, 'useless': 4695, 'push': 3477, 'relative': 3599, 'norman': 3035, 'african': 142, 'areas': 287, 'routine': 3743, 'nearby': 2980, 'stopped': 4202, 'seven': 3903, 'amounts': 220, 'steven': 4182, 'wizard': 4919, 'arrive': 300, 'seagal': 3839, 'flight': 1757, 'fury': 1855, 'previously': 3388, 'brilliance': 582, '25': 40, 'fortunately': 1805, 'improvement': 2256, 'dick': 1239, 'paying': 3217, 'suggests': 4282, 'inane': 2258, 'promised': 3431, 'timing': 4498, 'stretched': 4222, 'mentally': 2809, 'progresses': 3426, '18': 10, 'boot': 538, 'thick': 4447, 'outrageous': 3145, 'dragged': 1343, 'humble': 2191, 'guest': 1992, 'buildings': 616, 'sides': 3967, 'priest': 3392, 'craig': 1030, 'hat': 2045, 'captured': 677, 'versus': 4722, 'understood': 4647, 'spiritual': 4116, 'charlotte': 766, 'cary': 706, 'cried': 1054, 'recognition': 3568, 'disneys': 1290, 'lawyer': 2541, 'kenneth': 2455, 'pulling': 3463, 'treats': 4575, 'crisis': 1060, 'arm': 292, 'september': 3884, '1983': 22, '60': 53, 'agreed': 156, 'authority': 360, 'rotten': 3740, 'bathroom': 412, 'fears': 1677, 'suffered': 4276, 'kicking': 2462, 'celebrity': 729, 'attacks': 339, 'influence': 2286, '1950s': 14, 'assault': 324, 'unhappy': 4656, 'murderous': 2942, 'pages': 3168, 'conspiracy': 956, 'hint': 2112, 'parties': 3196, 'anna': 245, 'pants': 3182, 'struck': 4232, 'thrilling': 4474, 'nonetheless': 3029, 'thrill': 4471, 'overlooked': 3154, 'shirt': 3937, 'lit': 2621, 'mainstream': 2709, 'convoluted': 987, 'travesty': 4570, 'proof': 3434, 'spain': 4091, 'storm': 4206, 'odds': 3082, 'fate': 1665, 'beloved': 461, 'repeated': 3631, 'holy': 2140, 'household': 2179, 'prize': 3405, 'dinosaur': 1255, 'britain': 588, 'turkey': 4604, 'piano': 3264, 'ego': 1435, 'nonsensical': 3031, 'voiced': 4762, 'pretentious': 3383, 'encounters': 1467, 'fashioned': 1660, 'hardcore': 2034, 'private': 3404, 'engage': 1479, 'mild': 2839, 'jealous': 2388, 'nervous': 2999, 'concert': 935, 'bound': 553, 'baby': 376, 'advise': 134, 'blah': 496, 'monster': 2892, 'potentially': 3356, 'pleased': 3305, 'wondered': 4927, 'overrated': 3156, 'hype': 2207, 'elephant': 1444, 'meanwhile': 2785, 'causes': 725, 'refuses': 3587, 'cops': 993, 'convince': 983, 'principal': 3398, 'visit': 4755, 'physically': 3263, 'tie': 4488, 'warning': 4800, 'risk': 3704, 'ashamed': 312, 'feed': 1683, 'snake': 4042, 'loyal': 2679, 'surviving': 4323, 'amitabh': 216, 'atlantis': 332, 'ireland': 2352, 'hills': 2109, 'twilight': 4614, 'ritter': 3705, 'creating': 1039, 'masterful': 2758, 'marriage': 2743, 'elsewhere': 1449, 'truck': 4595, 'junior': 2435, 'paulie': 3215, 'losers': 2656, 'anime': 243, 'vampires': 4712, 'stunts': 4246, 'matrix': 2767, 'hyde': 2206, 'intrigued': 2334, 'notes': 3046, 'grinch': 1975, 'price': 3389, 'rabbit': 3498, 'ron': 3734, 'claimed': 829, 'sympathy': 4343, 'lou': 2663, 'alongside': 196, 'chuck': 812, 'nancy': 2964, 'pitch': 3279, 'responsibility': 3655, 'unsettling': 4679, 'presumably': 3380, 'outcome': 3142, 'smoke': 4039, 'everyones': 1543, 'opens': 3115, 'rival': 3706, 'nostalgia': 3038, 'buffs': 612, 'row': 3744, 'mickey': 2831, 'hamlet': 2013, 'profound': 3423, 'theyll': 4444, 'gerard': 1895, 'convinced': 984, 'wears': 4832, 'battles': 415, 'belief': 451, 'passionate': 3206, 'sings': 3997, 'steps': 4177, 'belongs': 460, 'merits': 2817, 'childish': 791, 'recognize': 3569, 'popularity': 3334, 'marketing': 2741, 'hitler': 2124, 'thoughtful': 4463, 'portrait': 3339, 'civilization': 827, 'germany': 1898, 'racist': 3503, 'edie': 1419, 'repeatedly': 3632, 'singer': 3993, 'dancer': 1104, 'tune': 4602, 'pair': 3176, 'punk': 3468, 'stinker': 4191, 'winds': 4895, 'catchy': 717, 'annie': 247, 'amateurish': 207, 'omen': 3104, 'latin': 2527, 'forest': 1791, 'irritating': 2359, 'crucial': 1068, 'health': 2060, 'disease': 1285, 'greater': 1965, 'riveting': 3708, 'intensity': 2317, 'threat': 4467, 'displays': 1293, 'panic': 3181, 'brando': 566, 'reactions': 3542, 'pseudo': 3454, 'exploration': 1593, 'offers': 3090, 'eerie': 1427, 'village': 4743, 'natural': 2973, 'voices': 4763, 'led': 2558, 'earl': 1398, 'ensemble': 1492, 'imitation': 2241, 'colonel': 876, 'per': 3223, '24': 39, 'return': 3665, 'fx': 1858, 'enterprise': 1495, 'technology': 4385, 'rocket': 3721, 'explosion': 1596, 'neil': 2995, 'returning': 3667, 'command': 897, 'comparing': 913, 'purposes': 3475, 'obscure': 3068, 'blame': 499, 'recording': 3575, 'fancy': 1649, 'sinatra': 3989, 'nomination': 3026, 'pal': 3177, 'prom': 3429, 'wendy': 4846, 'tedious': 4387, 'candy': 668, 'frequently': 1832, 'lake': 2509, 'unfortunate': 4653, 'size': 4012, 'beast': 422, 'frequent': 1831, 'authentic': 358, 'countless': 1012, 'sexually': 3910, 'dignity': 1252, 'primarily': 3393, 'scrooge': 3837, 'gothic': 1945, 'lucas': 2680, 'musicals': 2948, 'walken': 4777, 'distribution': 1298, 'performer': 3231, 'ham': 2011, 'cure': 1081, 'examples': 1554, 'wallace': 4782, 'concern': 931, 'mitchell': 2875, 'restaurant': 3658, 'inspector': 2299, 'appalling': 268, 'brosnan': 597, 'indie': 2276, 'captivating': 675, 'canada': 666, 'dolls': 1316, 'punch': 3466, 'funnier': 1850, 'scottish': 3825, 'beer': 439, 'waited': 4771, 'brilliantly': 584, 'spoken': 4126, 'claim': 828, 'doubts': 1333, 'treasure': 4571, 'hunt': 2198, 'tooth': 4524, 'legs': 2566, 'bette': 471, 'coherent': 871, 'prostitute': 3440, 'mildred': 2841, 'merely': 2815, 'arrived': 301, 'desperation': 1210, 'speed': 4103, 'basement': 405, 'investigation': 2343, 'subplots': 4256, 'load': 2631, 'buddy': 609, 'frame': 1815, 'cube': 1076, 'loser': 2655, 'andrews': 229, 'friendship': 1838, 'spirited': 4114, 'upper': 4685, 'engaged': 1480, 'arrogant': 303, 'abusive': 75, 'ultra': 4629, 'worn': 4948, 'louis': 2665, 'losing': 2658, 'victor': 4731, 'fix': 1744, 'nightmare': 3014, 'transformation': 4560, 'drawing': 1350, 'cameron': 661, 'overwhelming': 3157, 'practically': 3362, 'anybody': 257, 'cliche': 843, 'ridden': 3691, 'blade': 495, 'fourth': 1813, 'futuristic': 1857, 'virtually': 4751, 'developing': 1224, 'disturbed': 1299, 'dub': 1378, 'ninja': 3018, 'devoid': 1230, 'secrets': 3852, 'draws': 1352, 'manhattan': 2726, 'mixture': 2878, 'tarzan': 4367, 'noble': 3021, 'lion': 2614, 'exotic': 1574, 'urge': 4689, 'elvis': 1451, 'destroying': 1215, 'steel': 4173, 'increasingly': 2268, 'stops': 4203, 'corporate': 998, 'illogical': 2231, 'sing': 3992, 'trio': 4587, 'symbolism': 4341, 'wins': 4899, 'europe': 1529, 'tears': 4380, 'ginger': 1908, '70': 55, 'darkness': 1117, 'eve': 1532, 'ramones': 3512, 'wrapped': 4964, 'retired': 3664, 'unit': 4663, 'akshay': 169, 'bollywood': 530, 'slaughter': 4021, 'uwe': 4703, 'sloppy': 4030, 'sacrifice': 3766, 'acid': 95, 'shorts': 3948, 'stan': 4142, 'todd': 4510, 'altogether': 202, 'popcorn': 3331, 'photos': 3261, 'creatures': 1046, 'lengthy': 2570, 'adequate': 120, 'cave': 727, 'disney': 1289, '2000': 30, 'holiday': 2134, 'website': 4834, 'explains': 1589, 'motives': 2916, 'pushed': 3478, 'activities': 102, 'brains': 563, 'distance': 1294, 'inducing': 2279, 'burt': 629, 'reynolds': 3684, 'horribly': 2164, 'boll': 529, 'chair': 742, 'disappoint': 1272, 'jennifer': 2392, 'lasted': 2522, 'seasons': 3844, '2004': 34, 'lately': 2524, 'beating': 425, 'exaggerated': 1552, 'mexico': 2827, 'jumps': 2432, 'pursuit': 3476, 'rolling': 3730, 'fallen': 1638, 'crush': 1072, 'league': 2549, 'delivery': 1173, 'studios': 4241, 'seeking': 3859, 'noted': 3045, 'grew': 1972, 'unfolds': 4651, 'dentist': 1180, 'johnson': 2411, 'intrigue': 2333, 'demons': 1178, 'donna': 1323, 'ring': 3698, 'rights': 3697, 'catholic': 720, 'financial': 1725, 'stunt': 4245, 'preview': 3386, 'rachel': 3500, 'bullet': 620, 'ethan': 1528, 'aunt': 355, 'ear': 1397, 'eaten': 1412, 'strangers': 4214, 'bottle': 550, 'forms': 1801, 'closing': 859, 'corrupt': 1001, 'counter': 1011, 'rocky': 3723, 'album': 175, 'bands': 392, 'carter': 703, 'june': 2433, '1940s': 13, 'failing': 1627, 'advance': 127, 'field': 1704, 'jaws': 2385, 'drop': 1369, 'baker': 385, 'li': 2587, 'neighborhood': 2993, 'notably': 3042, 'drunken': 1376, 'kicked': 2461, 'tall': 4362, 'distracting': 1297, 'ups': 4686, 'obsession': 3070, 'bone': 533, 'dynamic': 1394, 'carries': 699, 'interpretation': 2328, 'trek': 4578, 'scale': 3802, 'complaint': 920, 'resembles': 3646, 'carrey': 696, 'frankenstein': 1822, 'amy': 222, 'parker': 3191, 'accomplished': 87, 'solution': 4059, 'angels': 234, 'larger': 2519, 'feet': 1688, 'freddy': 1826, 'closest': 857, 'recorded': 3574, 'birthday': 487, 'upset': 4687, 'online': 3109, 'chicks': 787, 'dreary': 1356, 'competent': 917, 'cd': 728, 'splendid': 4119, 'aging': 153, 'nelson': 2997, 'ryan': 3765, 'march': 2734, 'arrival': 299, 'troops': 4591, 'assumed': 329, 'atrocious': 335, 'splatter': 4118, 'supernatural': 4302, 'citizen': 824, 'charge': 761, 'hatred': 2049, 'tortured': 4530, 'bacall': 377, 'dorothy': 1330, 'jaw': 2384, 'nine': 3017, 'training': 4558, 'wound': 4960, 'poetic': 3313, 'generations': 1884, 'joey': 2408, 'defend': 1158, 'nail': 2957, 'suspicious': 4332, 'brutally': 604, 'comfortable': 892, 'nowadays': 3055, 'scarecrow': 3804, 'commented': 900, 'chess': 783, 'taylor': 4372, 'marie': 2737, 'rain': 3506, 'mgm': 2828, 'highlights': 2104, 'broadway': 592, 'frustration': 1843, 'daring': 1114, 'overlook': 3153, 'revolutionary': 3681, 'advertising': 132, 'needless': 2989, 'overcome': 3151, 'interaction': 2322, 'format': 1799, 'slick': 4026, 'brady': 561, 'spoiled': 4122, 'prequel': 3372, 'lively': 2627, 'allowing': 191, 'newly': 3004, 'jenny': 2393, 'kane': 2442, 'wasting': 4810, 'shirley': 3936, 'doom': 1326, 'mentions': 2813, 'gundam': 1997, 'movements': 2924, 'flawless': 1751, 'explaining': 1588, 'purchased': 3470, 'tag': 4348, 'murderer': 2941, 'woody': 4936, 'questionable': 3488, 'sadistic': 3768, 'charles': 764, 'curious': 1083, 'destroyed': 1214, 'believed': 455, 'sophisticated': 4075, 'smooth': 4041, 'yellow': 4981, 'similarities': 3979, 'robot': 3717, 'racial': 3501, 'aint': 163, 'trained': 4557, 'rising': 3703, 'destroy': 1213, 'linda': 2609, 'saga': 3773, 'robots': 3718, 'hints': 2113, 'credible': 1048, 'searching': 3842, 'wes': 4851, 'warriors': 4803, 'idiotic': 2219, 'admittedly': 123, 'twelve': 4611, 'che': 773, 'cia': 814, 'angeles': 233, 'cities': 823, 'brooklyn': 595, 'carradine': 695, 'doomed': 1327, 'cabin': 643, 'resort': 3650, 'calm': 655, 'soft': 4051, 'marty': 2749, 'spooky': 4128, 'torn': 4528, 'farm': 1656, 'pig': 3274, 'deceased': 1146, 'patrick': 3213, 'basketball': 409, 'illegal': 2229, 'triumph': 4590, 'translation': 4562, 'defined': 1160, '30s': 44, 'poem': 3312, 'massive': 2756, 'fulci': 1845, 'zone': 4999, 'fest': 1696, 'royal': 3746, 'trail': 4553, 'hippie': 2115, 'demon': 1177, 'maria': 2736, 'hideous': 2098, 'broadcast': 591, 'davies': 1125, 'highest': 2102, 'inventive': 2341, 'vivid': 4760, 'importance': 2246, 'thrillers': 4473, 'unforgettable': 4652, 'rick': 3689, 'stylish': 4251, 'carrie': 697, 'legal': 2563, 'pat': 3208, 'beatty': 427, 'incomprehensible': 2267, 'outer': 3143, 'topless': 4527, 'wolf': 4920, 'furthermore': 1854, 'fatal': 1664, 'hates': 2048, 'gadget': 1860, 'everywhere': 1545, 'territory': 4411, 'consistent': 953, 'disappear': 1270, 'remarkably': 3614, 'california': 650, 'rendition': 3625, 'mighty': 2836, 'landscape': 2513, 'proceedings': 3410, 'presentation': 3375, 'kapoor': 2443, 'roots': 3738, 'receives': 3565, 'guilt': 1994, 'staff': 4138, 'careful': 688, 'monk': 2889, 'destruction': 1216, 'happiness': 2031, 'recognized': 3570, 'rolled': 3729, 'survivor': 4324, 'championship': 745, 'resulting': 3661, 'hung': 2197, 'francis': 1818, 'doc': 1303, 'installment': 2303, 'columbo': 881, 'mafia': 2700, 'spielberg': 4110, 'mysteries': 2954, 'nicholson': 3011, 'madonna': 2699, 'mtv': 2933, 'womens': 4924, 'settle': 3902, 'mask': 2752, 'tends': 4402, 'minimum': 2856, 'st': 4137, 'reach': 3536, 'guard': 1988, 'grandfather': 1954, 'center': 732, 'depression': 1189, 'couples': 1017, 'closed': 854, 'crying': 1074, 'nicholas': 3010, 'belong': 459, 'godfather': 1927, 'text': 4419, 'aid': 160, 'raising': 3509, 'explosions': 1597, 'cliff': 847, 'coach': 868, 'valley': 4707, 'chapter': 757, 'lone': 2642, 'creator': 1043, 'dropped': 1370, 'eva': 1531, 'heights': 2073, 'influenced': 2287, 'scheme': 3812, 'lumet': 2688, 'rank': 3518, 'elvira': 1450, 'inspiring': 2302, 'jessica': 2398, 'minimal': 2855, 'bo': 521, '1973': 19, 'ideal': 2214, 'clown': 862, 'shoes': 3941, 'sunday': 4293, 'assigned': 325, 'bull': 619, 'neighbor': 2992, 'experiments': 1584, 'subjects': 4254, 'incompetent': 2266, 'chances': 748, 'timothy': 4499, 'cousin': 1021, 'headed': 2058, 'matthau': 2771, 'stated': 4161, 'souls': 4080, 'trap': 4563, 'explored': 1595, 'cats': 721, 'ought': 3138, 'slave': 4022, 'beliefs': 452, 'troubled': 4593, 'shoots': 3944, 'grave': 1962, 'diane': 1238, 'cinderella': 815, 'calling': 653, 'traveling': 4568, 'hamilton': 2012, 'provided': 3449, 'fascinated': 1657, 'digital': 1251, 'comics': 895, 'grey': 1973, 'eager': 1396, 'dozens': 1339, 'lessons': 2578, 'karen': 2444, 'crocodile': 1065, 'classes': 834, 'mario': 2738, 'glenn': 1918, 'ruth': 3763, 'dry': 1377, 'jake': 2377, 'greek': 1970, 'paltrow': 3178, 'dedicated': 1153, 'tour': 4538, 'argue': 290, 'blatant': 502, 'armed': 293, 'pearl': 3220, 'suits': 4287, 'rubber': 3747, 'leonard': 2572, 'astaire': 330, 'exceptionally': 1559, 'dancers': 1105, 'matches': 2764, 'spare': 4093, 'acceptable': 81, 'dialogues': 1235, 'pie': 3271, 'serving': 3897, 'nuts': 3064, 'wisdom': 4902, 'conventional': 979, 'karloff': 2445, 'virginia': 4750, 'involve': 2345, 'blacks': 494, 'scared': 3805, 'motivation': 2914, 'uncomfortable': 4637, 'exists': 1573, 'edition': 1422, 'tad': 4347, 'cannibal': 669, 'eric': 1514, 'twins': 4616, 'desired': 1206, 'jesus': 2399, 'gabriel': 1859, 'depicts': 1186, 'centers': 734, 'separate': 3883, 'morality': 2903, 'jail': 2376, 'dinosaurs': 1256, 'pokemon': 3320, 'chases': 771, 'universe': 4666, 'achievement': 94, 'diana': 1237, 'matched': 2763, 'stanley': 4148, 'exposure': 1599, 'winters': 4901, 'psychic': 3456, 'mistress': 2874, 'jerk': 2395, 'link': 2613, 'historically': 2120, 'awake': 365, 'ruby': 3749, 'divorce': 1301, 'stellar': 4174, 'inferior': 2285, 'miserably': 2864, 'vague': 4705, 'wet': 4855, 'et': 1526, 'duke': 1383, 'giallo': 1904, 'frightening': 1839, 'cuba': 1075, 'blond': 510, 'purchase': 3469, 'nations': 2971, 'batman': 413, 'educational': 1425, 'gray': 1963, 'elm': 1447, 'mate': 2765, 'jet': 2400, 'pit': 3278, 'trilogy': 4586, 'kingdom': 2480, 'producing': 3417, 'whale': 4857, 'superficial': 4298, 'burned': 626, 'sid': 3964, 'troubles': 4594, 'map': 2733, 'mummy': 2937, 'curse': 1086, 'victoria': 4732, 'morris': 2908, 'montage': 2894, 'ellen': 1446, 'performing': 3233, 'orson': 3132, 'welles': 4844, 'wells': 4845, 'university': 4667, 'likewise': 2603, 'april': 284, 'coffee': 870, 'visible': 4753, 'abilities': 64, 'vast': 4716, 'catching': 716, 'rooms': 3736, 'felix': 1689, 'damon': 1101, 'visits': 4756, 'chorus': 803, 'blunt': 520, 'condition': 937, 'stooges': 4200, 'franco': 1820, 'reads': 3545, 'macy': 2695, 'quit': 3494, 'misery': 2865, 'polanski': 3321, 'rural': 3758, 'rap': 3520, 'creep': 1051, 'miike': 2837, 'impress': 2250, 'robbins': 3712, 'stiff': 4187, 'enjoyment': 1488, 'illness': 2230, 'composed': 926, 'initial': 2290, 'spirits': 4115, 'hollywoods': 2138, 'returned': 3666, 'warrior': 4802, 'prisoner': 3402, 'sandra': 3782, 'da': 1094, 'warmth': 4796, 'harvey': 2042, 'faults': 1669, 'rambo': 3511, 'dalton': 1098, 'machines': 2694, 'holmes': 2139, 'shark': 3921, 'hammer': 2014, 'offering': 3089, 'resources': 3651, 'bay': 416, 'cardboard': 682, 'tiresome': 4502, 'relation': 3595, 'testament': 4417, 'punishment': 3467, 'hopeless': 2158, 'combine': 884, 'garbo': 1871, 'bud': 607, 'landscapes': 2514, 'understandable': 4644, 'purple': 3473, 'mall': 2720, 'temple': 4398, 'sport': 4129, 'shelley': 3928, 'der': 1191, 'photo': 3257, 'rebel': 3561, 'yesterday': 4983, 'dawson': 1128, 'godzilla': 1929, 'montana': 2895, 'gandhi': 1866, 'rangers': 3517, 'powell': 3358, 'leo': 2571, 'carl': 692, 'opinions': 3119, 'bakshi': 386, 'lily': 2605, 'mechanical': 2788, 'eyre': 1614, 'cagney': 646, 'swim': 4337, 'analysis': 224, 'louise': 2666, 'modesty': 2883, 'streisand': 4218}\n"
     ]
    }
   ],
   "source": [
    "print(str(vocabulary))"
   ]
  },
  {
   "cell_type": "markdown",
   "metadata": {},
   "source": [
    "Once you have added the endpoint name to the Lambda function, click on **Save**. Your Lambda function is now up and running. Next we need to create a way for our web app to execute the Lambda function."
   ]
  },
  {
   "cell_type": "markdown",
   "metadata": {},
   "source": [
    "### Setting up API Gateway\n",
    "\n",
    "Now that our Lambda function is set up, it is time to create a new API using API Gateway that will trigger the Lambda function we have just created.\n",
    "\n",
    "Using AWS Console, navigate to **Amazon API Gateway** and then click on **Get started**.\n",
    "\n",
    "On the next page, make sure that **New API** is selected and give the new api a name, for example, `sentiment_analysis_web_app`. Then, click on **Create API**.\n",
    "\n",
    "Now we have created an API, however it doesn't currently do anything. What we want it to do is to trigger the Lambda function that we created earlier.\n",
    "\n",
    "Select the **Actions** dropdown menu and click **Create Method**. A new blank method will be created, select its dropdown menu and select **POST**, then click on the check mark beside it.\n",
    "\n",
    "For the integration point, make sure that **Lambda Function** is selected and click on the **Use Lambda Proxy integration**. This option makes sure that the data that is sent to the API is then sent directly to the Lambda function with no processing. It also means that the return value must be a proper response object as it will also not be processed by API Gateway.\n",
    "\n",
    "Type the name of the Lambda function you created earlier into the **Lambda Function** text entry box and then click on **Save**. Click on **OK** in the pop-up box that then appears, giving permission to API Gateway to invoke the Lambda function you created.\n",
    "\n",
    "The last step in creating the API Gateway is to select the **Actions** dropdown and click on **Deploy API**. You will need to create a new Deployment stage and name it anything you like, for example `prod`.\n",
    "\n",
    "You have now successfully set up a public API to access your SageMaker model. Make sure to copy or write down the URL provided to invoke your newly created public API as this will be needed in the next step. This URL can be found at the top of the page, highlighted in blue next to the text **Invoke URL**."
   ]
  },
  {
   "cell_type": "markdown",
   "metadata": {},
   "source": [
    "## Step 7: Deploying our web app\n",
    "\n",
    "Now that we have a publicly available API, we can start using it in a web app. For our purposes, we have provided a simple static html file which can make use of the public api you created earlier.\n",
    "\n",
    "In the `website` folder there should be a file called `index.html`. Download the file to your computer and open that file up in a text editor of your choice. There should be a line which contains **\\*\\*REPLACE WITH PUBLIC API URL\\*\\***. Replace this string with the url that you wrote down in the last step and then save the file.\n",
    "\n",
    "Now, if you open `index.html` on your local computer, your browser will behave as a local web server and you can use the provided site to interact with your SageMaker model.\n",
    "\n",
    "If you'd like to go further, you can host this html file anywhere you'd like, for example using github or hosting a static site on Amazon's S3. Once you have done this you can share the link with anyone you'd like and have them play with it too!\n",
    "\n",
    "> **Important Note** In order for the web app to communicate with the SageMaker endpoint, the endpoint has to actually be deployed and running. This means that you are paying for it. Make sure that the endpoint is running when you want to use the web app but that you shut it down when you don't need it, otherwise you will end up with a surprisingly large AWS bill."
   ]
  },
  {
   "cell_type": "markdown",
   "metadata": {},
   "source": [
    "### Delete the endpoint\n",
    "\n",
    "Remember to always shut down your endpoint if you are no longer using it. You are charged for the length of time that the endpoint is running so if you forget and leave it on you could end up with an unexpectedly large bill."
   ]
  },
  {
   "cell_type": "code",
   "execution_count": null,
   "metadata": {},
   "outputs": [],
   "source": [
    "xgb_predictor.delete_endpoint()"
   ]
  },
  {
   "cell_type": "markdown",
   "metadata": {},
   "source": [
    "## Optional: Clean up\n",
    "\n",
    "The default notebook instance on SageMaker doesn't have a lot of excess disk space available. As you continue to complete and execute notebooks you will eventually fill up this disk space, leading to errors which can be difficult to diagnose. Once you are completely finished using a notebook it is a good idea to remove the files that you created along the way. Of course, you can do this from the terminal or from the notebook hub if you would like. The cell below contains some commands to clean up the created files from within the notebook."
   ]
  },
  {
   "cell_type": "code",
   "execution_count": null,
   "metadata": {},
   "outputs": [],
   "source": [
    "# First we will remove all of the files contained in the data_dir directory\n",
    "!rm $data_dir/*\n",
    "\n",
    "# And then we delete the directory itself\n",
    "!rmdir $data_dir\n",
    "\n",
    "# Similarly we remove the files in the cache_dir directory and the directory itself\n",
    "!rm $cache_dir/*\n",
    "!rmdir $cache_dir"
   ]
  },
  {
   "cell_type": "code",
   "execution_count": null,
   "metadata": {},
   "outputs": [],
   "source": []
  }
 ],
 "metadata": {
  "kernelspec": {
   "display_name": "conda_python3",
   "language": "python",
   "name": "conda_python3"
  },
  "language_info": {
   "codemirror_mode": {
    "name": "ipython",
    "version": 3
   },
   "file_extension": ".py",
   "mimetype": "text/x-python",
   "name": "python",
   "nbconvert_exporter": "python",
   "pygments_lexer": "ipython3",
   "version": "3.6.13"
  }
 },
 "nbformat": 4,
 "nbformat_minor": 2
}
